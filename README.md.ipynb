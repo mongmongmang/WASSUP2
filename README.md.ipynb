{
 "cells": [
  {
   "cell_type": "markdown",
   "id": "1799da2f",
   "metadata": {},
   "source": [
    "# Hi, This is MinJi Kim!\n",
    "(준비중)   \n",
    "\n",
    "현재 이스트소프트 AI 서비스 기획자 양성과정을 수료 중이며,   \n",
    "github를 활용한 포트폴리오 제작 연습 중입니다."
   ]
  },
  {
   "cell_type": "markdown",
   "id": "70ceaa16",
   "metadata": {},
   "source": [
    "  "
   ]
  },
  {
   "cell_type": "markdown",
   "id": "2adc28ed",
   "metadata": {},
   "source": [
    "# Kim MinJi   \n",
    "****   \n",
    "😄 사는 곳 : 경기도   \n",
    "😄 MBTI : ENFP / ENFJ   \n",
    "😄 이 모든 것은 경험이다   \n",
    "    \\# 꼼꼼 \\# 적극 \\# 활발 \\# 생기발랄"
   ]
  },
  {
   "cell_type": "markdown",
   "id": "fcf38bb3",
   "metadata": {},
   "source": [
    "### EDUCATION\n",
    "🚗 서울예술대학교 디지털아트전공 졸업 (2019)   \n",
    "***   \n",
    "### CAREER   \n",
    "💻 MOFAC (2019)   \n",
    "💻 리틀빅휴먼 (2021)  \n",
    "****   \n",
    "### ACTIVITIES\n",
    "✨ 극단 이유 / 단역 / 어린이극단 보조강사 (2017-2018)   \n",
    "✨ 유튜브 키즈콘텐츠 크리에이터 (2018-2019)   \n",
    "✨ Korea Working Holiday (제주) 캠프 운영팀 (2020-2021)      \n",
    "****\n",
    "### LANGUAGE\n",
    "📖 English : 못하는데 좋아함   \n",
    "****\n",
    "### HOBBY\n",
    "● 전시회 🖼️   \n",
    "● 이곳저곳 구경 🎶   \n",
    "● 수영 🏊   \n",
    "● 못하는 거 하나씩 도전하기 💃   \n",
    "● 다양한 사람들 만나기 🤸‍      \n",
    "****\n",
    "### GOAL  여유있는 사람\n",
    "🎯 경제적으로 마음적으로 여유있는 사람    \n",
    "🎯 AI 서비스 기획자로 취업   \n",
    "🎯 소소하게 행복하기    \n",
    "🎯 내 꿈 이루기   "
   ]
  },
  {
   "cell_type": "markdown",
   "id": "851e002f",
   "metadata": {},
   "source": [
    "# 어쨌든 일을 잘하자"
   ]
  }
 ],
 "metadata": {
  "kernelspec": {
   "display_name": "Python 3 (ipykernel)",
   "language": "python",
   "name": "python3"
  },
  "language_info": {
   "codemirror_mode": {
    "name": "ipython",
    "version": 3
   },
   "file_extension": ".py",
   "mimetype": "text/x-python",
   "name": "python",
   "nbconvert_exporter": "python",
   "pygments_lexer": "ipython3",
   "version": "3.11.5"
  }
 },
 "nbformat": 4,
 "nbformat_minor": 5
}
