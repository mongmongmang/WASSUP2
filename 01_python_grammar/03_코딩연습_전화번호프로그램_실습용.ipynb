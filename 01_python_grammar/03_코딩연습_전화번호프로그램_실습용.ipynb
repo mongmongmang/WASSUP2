{
 "cells": [
  {
   "cell_type": "markdown",
   "metadata": {},
   "source": [
    "# 전화번호 프로그램 만들기\n",
    "\n",
    "* 홍길동 010-123-4567\n",
    "* 기능1 : 연락처 추가\n",
    "* 기능2 : 연락처 전체 보기\n",
    "* 기능3 : 검색, 이름을 입력받아서 전화번호 조회\n",
    "* 기능4 : 수정, 이름을 입력받아서 전화번호 입력수정\n",
    "* 기능5 : 삭제, 이름 입력받아서 삭제\n",
    "* 기능6 : 프로그램 종료"
   ]
  },
  {
   "cell_type": "markdown",
   "metadata": {},
   "source": [
    "- 데이터 -> 이름, 번호, 수정값 \n",
    "- 인풋 -> 이름, 번호, 수정값\n",
    "- 아웃풋 -> 이름 조회(전체 조회, 개별 조회)\n",
    "\n",
    "- 조회 dict[key] = value\n",
    "- 사용자 인풋 -> input()\n",
    "- 프로그램 -> while"
   ]
  },
  {
   "cell_type": "code",
   "execution_count": 4,
   "metadata": {},
   "outputs": [
    {
     "name": "stdout",
     "output_type": "stream",
     "text": [
      "------전화번호 프로그램--------\n",
      "1.추가  2. 보기   3.검색    4.수정    5.삭제     9.종료\n"
     ]
    },
    {
     "ename": "NameError",
     "evalue": "name 'menue' is not defined",
     "output_type": "error",
     "traceback": [
      "\u001b[1;31m---------------------------------------------------------------------------\u001b[0m",
      "\u001b[1;31mNameError\u001b[0m                                 Traceback (most recent call last)",
      "Cell \u001b[1;32mIn[4], line 11\u001b[0m\n\u001b[0;32m      5\u001b[0m \u001b[38;5;28mprint\u001b[39m(\u001b[38;5;124m'\u001b[39m\u001b[38;5;124m1.추가  2. 보기   3.검색    4.수정    5.삭제     9.종료\u001b[39m\u001b[38;5;124m'\u001b[39m)\n\u001b[0;32m      8\u001b[0m \u001b[38;5;66;03m# menu= 이해안감  print로 올라가는게 아니라 새로 지정해준건가? 위에 프린트는 보여주기식?\u001b[39;00m\n\u001b[0;32m      9\u001b[0m \u001b[38;5;66;03m#input은 문자열만 받기 때문에 int로 변경해줘야함\u001b[39;00m\n\u001b[1;32m---> 11\u001b[0m \u001b[38;5;28;01mif\u001b[39;00m menue\u001b[38;5;241m==\u001b[39m\u001b[38;5;241m1\u001b[39m:\n\u001b[0;32m     12\u001b[0m     \u001b[38;5;28mprint\u001b[39m(\u001b[38;5;124m'\u001b[39m\u001b[38;5;124m연락 추가해주세요\u001b[39m\u001b[38;5;124m'\u001b[39m)\n\u001b[0;32m     13\u001b[0m     new_name \u001b[38;5;241m=\u001b[39m \u001b[38;5;28minput\u001b[39m(\u001b[38;5;124m'\u001b[39m\u001b[38;5;124m이름:\u001b[39m\u001b[38;5;124m'\u001b[39m)\n",
      "\u001b[1;31mNameError\u001b[0m: name 'menue' is not defined"
     ]
    }
   ],
   "source": [
    "contact = {}\n",
    "\n",
    "while True:\n",
    "    print('------전화번호 프로그램--------')\n",
    "    print('1.추가  2. 보기   3.검색    4.수정    5.삭제     9.종료')\n",
    "    \n",
    "    \n",
    "    # menu= 이해안감  print로 올라가는게 아니라 새로 지정해준건가? 위에 프린트는 보여주기식?\n",
    "    #input은 문자열만 받기 때문에 int로 변경해줘야함\n",
    "    \n",
    "    if menue==1:\n",
    "        print('연락 추가해주세요')\n",
    "        new_name = input('이름:')\n",
    "        new_tel = input('전화번호:')\n",
    "        print(new_name, new_tel)  # 이제 contact 딕 만들어서 넣어야함\n",
    "        # contact[new_name] = new_tel #덮어쓰기 됨...\n",
    "        contact.setdefault(new_name, new_tel) #?뭘깡\n",
    "    \n",
    "    \n",
    "     else menue==2:\n",
    "        print('연락 추가해주세요')\n",
    "        new_name = input('이름:')\n",
    "        new_tel = input('전화번호:')\n",
    "    \n",
    "    \n",
    "    \n",
    "    \n",
    "    \n",
    "        break #while 무한 실행으로 break먼저 설정해놓기 / elif에 할당\n",
    "    else : \n",
    "        print('잘못된 입력입니다')"
   ]
  },
  {
   "cell_type": "code",
   "execution_count": null,
   "metadata": {},
   "outputs": [],
   "source": []
  },
  {
   "cell_type": "code",
   "execution_count": null,
   "metadata": {},
   "outputs": [],
   "source": []
  },
  {
   "cell_type": "code",
   "execution_count": null,
   "metadata": {},
   "outputs": [],
   "source": []
  },
  {
   "cell_type": "code",
   "execution_count": null,
   "metadata": {},
   "outputs": [],
   "source": []
  },
  {
   "cell_type": "code",
   "execution_count": null,
   "metadata": {},
   "outputs": [],
   "source": []
  },
  {
   "cell_type": "code",
   "execution_count": null,
   "metadata": {},
   "outputs": [],
   "source": []
  },
  {
   "cell_type": "code",
   "execution_count": null,
   "metadata": {},
   "outputs": [],
   "source": []
  },
  {
   "cell_type": "code",
   "execution_count": null,
   "metadata": {},
   "outputs": [],
   "source": []
  },
  {
   "cell_type": "code",
   "execution_count": null,
   "metadata": {},
   "outputs": [],
   "source": []
  },
  {
   "cell_type": "code",
   "execution_count": null,
   "metadata": {},
   "outputs": [],
   "source": []
  },
  {
   "cell_type": "markdown",
   "metadata": {},
   "source": [
    "# 요구사항 분석 및 설계\n",
    "- I/O,  데이터  # 어떤 데이터를 어떻게 input/output할건지\n",
    "- 홍길동 010-123-4567                           -> dict K:V로 조회할 수 있음  \n",
    "- 사용자 입력을 받아야 됨                       -> input()  \n",
    "- 프로그램(사용자에게 반복적 실행되어야함)      ->  while문  \n",
    "- 기능들 선택적 사용                            -> if 분기문  \n",
    "- 사용자가 숫자를 입력했을때, 기능 동작 -> interface 정책  \n",
    "- 기능 구현  \n",
    "기능1 : dict[key] = value  전화번호, 이름을 받아야함\n",
    "기능2 : print(dict)  \n",
    "기능3 : dict[key]  +input??  \n",
    "기능4 : dict[key] = value  \n",
    "기능5 : dle  \n",
    "기능6 : break  "
   ]
  },
  {
   "cell_type": "code",
   "execution_count": 2,
   "metadata": {},
   "outputs": [
    {
     "ename": "SyntaxError",
     "evalue": "invalid syntax (3323567618.py, line 2)",
     "output_type": "error",
     "traceback": [
      "\u001b[1;36m  Cell \u001b[1;32mIn[2], line 2\u001b[1;36m\u001b[0m\n\u001b[1;33m    if\u001b[0m\n\u001b[1;37m       ^\u001b[0m\n\u001b[1;31mSyntaxError\u001b[0m\u001b[1;31m:\u001b[0m invalid syntax\n"
     ]
    }
   ],
   "source": [
    "phone_book = {'홍길동':'010-123-4567'}\n",
    "if "
   ]
  }
 ],
 "metadata": {
  "kernelspec": {
   "display_name": "Python 3 (ipykernel)",
   "language": "python",
   "name": "python3"
  },
  "language_info": {
   "codemirror_mode": {
    "name": "ipython",
    "version": 3
   },
   "file_extension": ".py",
   "mimetype": "text/x-python",
   "name": "python",
   "nbconvert_exporter": "python",
   "pygments_lexer": "ipython3",
   "version": "3.11.5"
  },
  "toc": {
   "base_numbering": 1,
   "nav_menu": {},
   "number_sections": true,
   "sideBar": true,
   "skip_h1_title": false,
   "title_cell": "Table of Contents",
   "title_sidebar": "Contents",
   "toc_cell": false,
   "toc_position": {},
   "toc_section_display": true,
   "toc_window_display": false
  },
  "varInspector": {
   "cols": {
    "lenName": 16,
    "lenType": 16,
    "lenVar": 40
   },
   "kernels_config": {
    "python": {
     "delete_cmd_postfix": "",
     "delete_cmd_prefix": "del ",
     "library": "var_list.py",
     "varRefreshCmd": "print(var_dic_list())"
    },
    "r": {
     "delete_cmd_postfix": ") ",
     "delete_cmd_prefix": "rm(",
     "library": "var_list.r",
     "varRefreshCmd": "cat(var_dic_list()) "
    }
   },
   "types_to_exclude": [
    "module",
    "function",
    "builtin_function_or_method",
    "instance",
    "_Feature"
   ],
   "window_display": false
  }
 },
 "nbformat": 4,
 "nbformat_minor": 2
}
