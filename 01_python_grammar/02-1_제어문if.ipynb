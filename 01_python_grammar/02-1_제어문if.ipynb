{
 "cells": [
  {
   "cell_type": "markdown",
   "id": "8bb76007",
   "metadata": {},
   "source": [
    "# 제어문 (IF)"
   ]
  },
  {
   "cell_type": "markdown",
   "id": "2a103858",
   "metadata": {},
   "source": [
    "자료형은 재료 \n",
    "실제로 동작하게 하는 구조를 짜는 것\n",
    "\n",
    "- A면 a고, A가 아니면 b다.\n",
    "- 수행할 문장 여러개 들어갈 수 있음 (같은 크기의 들여쓰기& :(콜론) 안에 위치_필수)\n",
    "- tab을 사용한다. "
   ]
  },
  {
   "cell_type": "code",
   "execution_count": 10,
   "id": "decc470d",
   "metadata": {},
   "outputs": [
    {
     "name": "stdout",
     "output_type": "stream",
     "text": [
      "택시를 타고 가라\n"
     ]
    }
   ],
   "source": [
    ">>> money = True\n",
    ">>> if money:\n",
    "...     print(\"택시를 타고 가라\")\n",
    "... else:\n",
    "...     print(\"걸어 가라\")\n",
    "..."
   ]
  },
  {
   "cell_type": "code",
   "execution_count": 7,
   "id": "7ec9a115",
   "metadata": {},
   "outputs": [
    {
     "ename": "IndentationError",
     "evalue": "unexpected indent (1498976964.py, line 6)",
     "output_type": "error",
     "traceback": [
      "\u001b[1;36m  Cell \u001b[1;32mIn[7], line 6\u001b[1;36m\u001b[0m\n\u001b[1;33m    print(\"가라\")\u001b[0m\n\u001b[1;37m    ^\u001b[0m\n\u001b[1;31mIndentationError\u001b[0m\u001b[1;31m:\u001b[0m unexpected indent\n"
     ]
    }
   ],
   "source": [
    "# indent_error.py\n",
    "money = True\n",
    "if money:\n",
    "    print(\"택시를\")\n",
    "print(\"타고\")\n",
    "    print(\"가라\")\n"
   ]
  },
  {
   "cell_type": "code",
   "execution_count": 8,
   "id": "277be206",
   "metadata": {},
   "outputs": [
    {
     "ename": "IndentationError",
     "evalue": "unexpected indent (1352885312.py, line 6)",
     "output_type": "error",
     "traceback": [
      "\u001b[1;36m  Cell \u001b[1;32mIn[8], line 6\u001b[1;36m\u001b[0m\n\u001b[1;33m    print(\"가라\")\u001b[0m\n\u001b[1;37m    ^\u001b[0m\n\u001b[1;31mIndentationError\u001b[0m\u001b[1;31m:\u001b[0m unexpected indent\n"
     ]
    }
   ],
   "source": [
    "# indent_error2.py\n",
    "money = True\n",
    "if money:\n",
    "    print(\"택시를\")\n",
    "    print(\"타고\")\n",
    "        print(\"가라\")\n"
   ]
  },
  {
   "cell_type": "markdown",
   "id": "0b1c4279",
   "metadata": {},
   "source": [
    "# ><=! 비교연산자"
   ]
  },
  {
   "cell_type": "code",
   "execution_count": 9,
   "id": "8cca5691",
   "metadata": {},
   "outputs": [
    {
     "data": {
      "text/plain": [
       "True"
      ]
     },
     "execution_count": 9,
     "metadata": {},
     "output_type": "execute_result"
    }
   ],
   "source": [
    ">>> x = 3\n",
    ">>> y = 2\n",
    ">>> x > y\n"
   ]
  },
  {
   "cell_type": "code",
   "execution_count": 27,
   "id": "d8bf29e2",
   "metadata": {},
   "outputs": [
    {
     "data": {
      "text/plain": [
       "True"
      ]
     },
     "execution_count": 27,
     "metadata": {},
     "output_type": "execute_result"
    }
   ],
   "source": [
    ">>> x != y  #x,y가 같지 않다 "
   ]
  },
  {
   "cell_type": "code",
   "execution_count": 26,
   "id": "7b029df0",
   "metadata": {},
   "outputs": [
    {
     "data": {
      "text/plain": [
       "False"
      ]
     },
     "execution_count": 26,
     "metadata": {},
     "output_type": "execute_result"
    }
   ],
   "source": [
    ">>> x == y # x==y x,y 같다"
   ]
  },
  {
   "cell_type": "markdown",
   "id": "bd67d698",
   "metadata": {},
   "source": [
    "만약 3000원 이상의 '돈'을 가지고 있으면 택시를 타고 가고, 그렇지 않으면 걸어가라.\n",
    "(돈이라는 변수 필요)"
   ]
  },
  {
   "cell_type": "code",
   "execution_count": 24,
   "id": "d067b363",
   "metadata": {},
   "outputs": [
    {
     "name": "stdout",
     "output_type": "stream",
     "text": [
      "on foot\n"
     ]
    }
   ],
   "source": [
    "money = 2000\n",
    "if money >=3000:\n",
    "    print(\"take a taxi\")\n",
    "else:\n",
    "    print(\"on foot\")"
   ]
  },
  {
   "cell_type": "markdown",
   "id": "2f611441",
   "metadata": {},
   "source": [
    "# and, or, not(논리연산자)"
   ]
  },
  {
   "cell_type": "markdown",
   "id": "793bcbb3",
   "metadata": {},
   "source": [
    "'돈'이 3000원 이상 [있거나] '카드'가 있다면 택시를 타고 가고, 그렇지 않으면 걸어가라."
   ]
  },
  {
   "cell_type": "code",
   "execution_count": 30,
   "id": "a7e4b78d",
   "metadata": {},
   "outputs": [
    {
     "name": "stdout",
     "output_type": "stream",
     "text": [
      "take a taxi\n"
     ]
    }
   ],
   "source": [
    "money = 2000\n",
    "card = True\n",
    "if money >=3000 or card:\n",
    "    print(\"take a taxi\")\n",
    "else:\n",
    "    print(\"on foot\")"
   ]
  },
  {
   "cell_type": "markdown",
   "id": "8f360214",
   "metadata": {},
   "source": [
    "# in, not in(시퀀스 객체)"
   ]
  },
  {
   "cell_type": "markdown",
   "id": "1f0883bb",
   "metadata": {},
   "source": [
    "- 시퀀스 객체만 해당 (리스트, 튜플, 문자열)"
   ]
  },
  {
   "cell_type": "code",
   "execution_count": 31,
   "id": "52a31a77",
   "metadata": {},
   "outputs": [
    {
     "data": {
      "text/plain": [
       "True"
      ]
     },
     "execution_count": 31,
     "metadata": {},
     "output_type": "execute_result"
    }
   ],
   "source": [
    ">>> 1 in [1, 2, 3]"
   ]
  },
  {
   "cell_type": "code",
   "execution_count": 32,
   "id": "06db8fb9",
   "metadata": {},
   "outputs": [
    {
     "data": {
      "text/plain": [
       "False"
      ]
     },
     "execution_count": 32,
     "metadata": {},
     "output_type": "execute_result"
    }
   ],
   "source": [
    ">>> 1 not in [1, 2, 3]"
   ]
  },
  {
   "cell_type": "markdown",
   "id": "4c8e2a37",
   "metadata": {},
   "source": [
    "### 튜플과 문자열에 in과 not in을 적용한 예"
   ]
  },
  {
   "cell_type": "code",
   "execution_count": 38,
   "id": "faac4dd0",
   "metadata": {},
   "outputs": [
    {
     "data": {
      "text/plain": [
       "True"
      ]
     },
     "execution_count": 38,
     "metadata": {},
     "output_type": "execute_result"
    }
   ],
   "source": [
    "'a' in ('a', 'b', 'c')"
   ]
  },
  {
   "cell_type": "code",
   "execution_count": 39,
   "id": "2100efea",
   "metadata": {},
   "outputs": [
    {
     "data": {
      "text/plain": [
       "True"
      ]
     },
     "execution_count": 39,
     "metadata": {},
     "output_type": "execute_result"
    }
   ],
   "source": [
    "'j' not in 'python'"
   ]
  },
  {
   "cell_type": "markdown",
   "id": "f393bec6",
   "metadata": {},
   "source": [
    "만약 주머니에 돈이 있으면 택시를 타고 가고, 없으면 걸어가라."
   ]
  },
  {
   "cell_type": "code",
   "execution_count": 40,
   "id": "2c6d823c",
   "metadata": {},
   "outputs": [
    {
     "name": "stdout",
     "output_type": "stream",
     "text": [
      "택시를 타고 가라\n"
     ]
    }
   ],
   "source": [
    ">>> pocket = ['paper', 'cellphone', 'money']\n",
    ">>> if 'money' in pocket:\n",
    "...     print(\"택시를 타고 가라\")\n",
    "... else:\n",
    "...     print(\"걸어가라\")"
   ]
  },
  {
   "cell_type": "markdown",
   "id": "f40150f9",
   "metadata": {},
   "source": [
    "### 조건문에서 아무 일도 하지 않게 설정하고 싶다면?"
   ]
  },
  {
   "cell_type": "code",
   "execution_count": 13,
   "id": "d2aa118e",
   "metadata": {},
   "outputs": [],
   "source": [
    ">>> pocket = ['paper', 'money', 'cellphone']\n",
    ">>> if 'money' in pocket:\n",
    "...     pass \n",
    "... else:\n",
    "...     print(\"카드를 꺼내라\")"
   ]
  },
  {
   "cell_type": "markdown",
   "id": "5642c122",
   "metadata": {},
   "source": [
    "### 다양한 조건을 판단하는 elif"
   ]
  },
  {
   "cell_type": "markdown",
   "id": "5d24d8af",
   "metadata": {},
   "source": [
    "주머니에 돈이 있으면 택시를 타고 가고,  \n",
    "  \n",
    "  \n",
    "주머니에 돈은 없지만, \n",
    "1) 카드가 있으면 택시를 타고 가고,  \n",
    "2) 돈도 없고 카드도 없으면 걸어가라."
   ]
  },
  {
   "cell_type": "code",
   "execution_count": 44,
   "id": "2d20e3c5",
   "metadata": {},
   "outputs": [
    {
     "name": "stdout",
     "output_type": "stream",
     "text": [
      "택시를 타고가라\n"
     ]
    }
   ],
   "source": [
    ">>> pocket = ['paper', 'cellphone']\n",
    ">>> card = True\n",
    ">>> if 'money' in pocket:\n",
    "...     print(\"택시를 타고가라\")\n",
    "... else:\n",
    "...     if card:\n",
    "...         print(\"택시를 타고가라\")\n",
    "...     else:\n",
    "...         print(\"걸어가라\")\n",
    "..."
   ]
  },
  {
   "cell_type": "markdown",
   "id": "3d0b0a05",
   "metadata": {},
   "source": [
    "### elif 조건문\n",
    "- 이전 조건문이 거짓일 때, 수행  \n",
    "- 파이썬은 무조건 위에서 아래로 순차적 실행 "
   ]
  },
  {
   "cell_type": "code",
   "execution_count": 45,
   "id": "b930fab7",
   "metadata": {},
   "outputs": [
    {
     "name": "stdout",
     "output_type": "stream",
     "text": [
      "택시를 타고가라\n"
     ]
    }
   ],
   "source": [
    ">>> pocket = ['paper', 'cellphone']\n",
    ">>> card = True\n",
    ">>> if 'money' in pocket:\n",
    "...      print(\"택시를 타고가라\")\n",
    "... elif card: \n",
    "...      print(\"택시를 타고가라\")\n",
    "... else:\n",
    "...      print(\"걸어가라\")"
   ]
  },
  {
   "attachments": {
    "image.png": {
     "image/png": "[encoded data removed]"
    }
   },
   "cell_type": "markdown",
   "id": "8e832b83",
   "metadata": {},
   "source": [
    "![image.png](attachment:image.png)"
   ]
  },
  {
   "cell_type": "markdown",
   "id": "67263360",
   "metadata": {},
   "source": [
    "### if 문을 한 줄로 작성하기\n",
    "- 코드는 무조건 가독성 (협력)\n",
    "- 간결함이 중요하지 않음"
   ]
  },
  {
   "cell_type": "code",
   "execution_count": 46,
   "id": "938851b3",
   "metadata": {},
   "outputs": [],
   "source": [
    ">>> pocket = ['paper', 'money', 'cellphone']\n",
    ">>> if 'money' in pocket: pass\n",
    "... else: print(\"카드를 꺼내라\")"
   ]
  },
  {
   "cell_type": "markdown",
   "id": "1fd31bcc",
   "metadata": {},
   "source": [
    "# 조건부 표현식\n",
    "- 구문 -> 리팩토링(간결화)\n",
    "- 조건부 표현 위해서 변수 입력한 것 "
   ]
  },
  {
   "cell_type": "markdown",
   "id": "b75da050",
   "metadata": {},
   "source": [
    " score가 60 이상일 경우 message에 문자열 \"success\",  \n",
    " 아닐 경우에는 문자열 \"failure\"를 대입하는 코드"
   ]
  },
  {
   "cell_type": "code",
   "execution_count": 53,
   "id": "1bb6e1d7",
   "metadata": {},
   "outputs": [],
   "source": [
    "score = 0\n",
    "if score >= 60:\n",
    "    message = \"success\"\n",
    "else:\n",
    "    message = \"failure\""
   ]
  },
  {
   "cell_type": "code",
   "execution_count": 54,
   "id": "e78d8878",
   "metadata": {},
   "outputs": [],
   "source": [
    "message = \"success\" if score >= 60 else \"failure\"\n",
    "# if score을 중심으로 참, 거짓 "
   ]
  },
  {
   "cell_type": "code",
   "execution_count": null,
   "id": "7fdf8558",
   "metadata": {},
   "outputs": [],
   "source": []
  }
 ],
 "metadata": {
  "kernelspec": {
   "display_name": "Python 3 (ipykernel)",
   "language": "python",
   "name": "python3"
  },
  "language_info": {
   "codemirror_mode": {
    "name": "ipython",
    "version": 3
   },
   "file_extension": ".py",
   "mimetype": "text/x-python",
   "name": "python",
   "nbconvert_exporter": "python",
   "pygments_lexer": "ipython3",
   "version": "3.11.5"
  }
 },
 "nbformat": 4,
 "nbformat_minor": 5
}
