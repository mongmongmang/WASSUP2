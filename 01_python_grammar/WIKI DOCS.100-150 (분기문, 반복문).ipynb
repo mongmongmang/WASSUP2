{
 "cells": [
  {
   "cell_type": "markdown",
   "id": "4c79a5e1",
   "metadata": {},
   "source": [
    "## 7. 파이썬 분기문(101-130)"
   ]
  },
  {
   "cell_type": "markdown",
   "id": "b7eae362",
   "metadata": {},
   "source": [
    "### 101\n",
    "파이썬에서 True 혹은 False를 갖는 데이터 타입은 무엇인가?\n"
   ]
  },
  {
   "cell_type": "markdown",
   "id": "bae987f8",
   "metadata": {},
   "source": [
    "bool 타입"
   ]
  },
  {
   "cell_type": "markdown",
   "id": "57cd86af",
   "metadata": {},
   "source": [
    "### 102\n",
    "아래 코드의 출력 결과를 예상하라  \n",
    "print(3 == 5)  "
   ]
  },
  {
   "cell_type": "markdown",
   "id": "458e8b7a",
   "metadata": {},
   "source": [
    "False"
   ]
  },
  {
   "cell_type": "markdown",
   "id": "0dd48d17",
   "metadata": {},
   "source": [
    "### 103\n",
    "아래 코드의 출력 결과를 예상하라  \n",
    "print(3 < 5)"
   ]
  },
  {
   "cell_type": "markdown",
   "id": "17d7cf15",
   "metadata": {},
   "source": [
    "True"
   ]
  },
  {
   "cell_type": "markdown",
   "id": "d0bcf504",
   "metadata": {},
   "source": [
    "### 104\n",
    "아래 코드의 결과를 예상하라.\n",
    "\n",
    "x = 4  \n",
    "print(1 < x < 5)"
   ]
  },
  {
   "cell_type": "markdown",
   "id": "fafda469",
   "metadata": {},
   "source": [
    "True"
   ]
  },
  {
   "cell_type": "markdown",
   "id": "866ab1e6",
   "metadata": {},
   "source": [
    "## 105\n",
    "아래 코드의 결과를 예상하라.\n",
    "\n",
    "print ((3 == 3) and (4 != 3))"
   ]
  },
  {
   "cell_type": "markdown",
   "id": "d87cd125",
   "metadata": {},
   "source": [
    "True"
   ]
  },
  {
   "cell_type": "markdown",
   "id": "4c7fe869",
   "metadata": {},
   "source": [
    "## 106\n",
    "아래 코드에서 에러가 발생하는 원인에 대해 설명하라.\n",
    "\n",
    "print(3 => 4)  \n",
    "지원하지 않는 연산자입니다"
   ]
  },
  {
   "cell_type": "code",
   "execution_count": 6,
   "id": "71d0e079",
   "metadata": {},
   "outputs": [
    {
     "name": "stdout",
     "output_type": "stream",
     "text": [
      "False\n"
     ]
    }
   ],
   "source": [
    "print(3 >= 4)"
   ]
  },
  {
   "cell_type": "markdown",
   "id": "7b555227",
   "metadata": {},
   "source": [
    "### 107 (오답)  \n",
    "아래 코드의 출력 결과를 예상하라\n",
    "\n",
    "if 4 < 3:  \n",
    "    print(\"Hello World\")  "
   ]
  },
  {
   "cell_type": "markdown",
   "id": "77fcb748",
   "metadata": {},
   "source": [
    "False"
   ]
  },
  {
   "cell_type": "code",
   "execution_count": 9,
   "id": "bf83ccfa",
   "metadata": {},
   "outputs": [],
   "source": [
    "if 4 < 3:\n",
    "    print(\"Hello World\")"
   ]
  },
  {
   "cell_type": "markdown",
   "id": "fa459cfe",
   "metadata": {},
   "source": [
    "조건을 만족하지 않으므로 아무 결과도 출력되지 않음"
   ]
  },
  {
   "cell_type": "markdown",
   "id": "ffbde0e1",
   "metadata": {},
   "source": [
    "### 108\n",
    "아래 코드의 출력 결과를 예상하라\n",
    "\n",
    "if 4 < 3:\n",
    "    print(\"Hello World.\")\n",
    "else:\n",
    "    print(\"Hi, there.\")"
   ]
  },
  {
   "cell_type": "markdown",
   "id": "8617676f",
   "metadata": {},
   "source": [
    "Hi, there."
   ]
  },
  {
   "cell_type": "markdown",
   "id": "477fba4c",
   "metadata": {},
   "source": [
    "### 109(오답)\n",
    "아래 코드의 출력 결과를 예상하라\n",
    "\n",
    "if True :\n",
    "    print (\"1\")\n",
    "    print (\"2\")\n",
    "else :\n",
    "    print(\"3\")\n",
    "print(\"4\")"
   ]
  },
  {
   "cell_type": "markdown",
   "id": "4f02656f",
   "metadata": {},
   "source": [
    "1  \n",
    "2  \n",
    "4  \n"
   ]
  },
  {
   "cell_type": "markdown",
   "id": "086db382",
   "metadata": {},
   "source": [
    "### 110  \n",
    "3  \n",
    "5  "
   ]
  },
  {
   "cell_type": "markdown",
   "id": "c23178fc",
   "metadata": {},
   "source": [
    "### 111(wrong)\n",
    "사용자로부터 입력받은 문자열을 두 번 출력하라. 아래는 사용자가 \"안녕하세요\"를 입력한 경우의 출력 결과이다.\n",
    "\n",
    ">> 안녕하세요\n",
    "안녕하세요안녕하세요"
   ]
  },
  {
   "cell_type": "code",
   "execution_count": 14,
   "id": "9b343667",
   "metadata": {},
   "outputs": [],
   "source": [
    "# 오답(근데 출력이되네?왜?)  \n",
    "# print(input(str)*2)"
   ]
  },
  {
   "cell_type": "code",
   "execution_count": 15,
   "id": "cdc8bb26",
   "metadata": {},
   "outputs": [
    {
     "name": "stdout",
     "output_type": "stream",
     "text": [
      "write:안녕하세요\n",
      "안녕하세요안녕하세요\n"
     ]
    }
   ],
   "source": [
    "user = input(\"write:\")\n",
    "print(user * 2)"
   ]
  },
  {
   "cell_type": "markdown",
   "id": "fa964696",
   "metadata": {},
   "source": [
    "### 112\n",
    "사용자로부터 하나의 숫자를 입력받고, 입력 받은 숫자에 10을 더해 출력하라.\n",
    "\n",
    ">> 숫자를 입력하세요: 30\n",
    "40"
   ]
  },
  {
   "cell_type": "code",
   "execution_count": 24,
   "id": "a47c0cce",
   "metadata": {},
   "outputs": [
    {
     "name": "stdout",
     "output_type": "stream",
     "text": [
      "김민지\n",
      "김민지\n"
     ]
    }
   ],
   "source": [
    "user = input(\"\")\n",
    "print(user)"
   ]
  },
  {
   "cell_type": "code",
   "execution_count": 30,
   "id": "c63811df",
   "metadata": {},
   "outputs": [
    {
     "name": "stdout",
     "output_type": "stream",
     "text": [
      "숫자를 입력하세요:20\n",
      "30\n"
     ]
    }
   ],
   "source": [
    "#wrong  \n",
    "user = input(\"숫자를 입력하세요:\")\n",
    "print(int(user)+10)"
   ]
  },
  {
   "cell_type": "markdown",
   "id": "a1c6c9d0",
   "metadata": {},
   "source": [
    "### 113\n",
    "사용자로부터 하나의 숫자를 입력 받고 짝수/홀수를 판별하라.\n",
    "\n",
    ">> 30\n",
    "짝수"
   ]
  },
  {
   "cell_type": "code",
   "execution_count": 36,
   "id": "32c18a1e",
   "metadata": {},
   "outputs": [
    {
     "name": "stdout",
     "output_type": "stream",
     "text": [
      "숫자를 입력하세요:30\n",
      "짝수\n"
     ]
    }
   ],
   "source": [
    "#wrong  \n",
    "user=input('숫자를 입력하세요:')\n",
    "if int(user) % 2 == 0:\n",
    "    print('짝수')\n",
    "else :\n",
    "    print('홀수')"
   ]
  },
  {
   "cell_type": "code",
   "execution_count": 48,
   "id": "a46de5a1",
   "metadata": {},
   "outputs": [
    {
     "name": "stdout",
     "output_type": "stream",
     "text": [
      "숫자를 입력하세요:250\n",
      "255 (255를 초과할 수 없습니다.)\n"
     ]
    }
   ],
   "source": [
    "#wrong  \n",
    "user=input('숫자를 입력하세요:')\n",
    "num = int(user)+20\n",
    "\n",
    "if num<=255 :\n",
    "    print(num)\n",
    "else :\n",
    "    print(255, '(255를 초과할 수 없습니다.)')\n"
   ]
  },
  {
   "cell_type": "code",
   "execution_count": 49,
   "id": "94a7acd9",
   "metadata": {},
   "outputs": [
    {
     "name": "stdout",
     "output_type": "stream",
     "text": [
      "입력값: 20\n",
      "40\n"
     ]
    }
   ],
   "source": [
    "#144  \n",
    "user = input(\"입력값: \")\n",
    "num = 20 + int(user)\n",
    "if num > 255:\n",
    "    print(255)\n",
    "else:\n",
    "    print(num)\n"
   ]
  },
  {
   "cell_type": "code",
   "execution_count": 59,
   "id": "3b8206d3",
   "metadata": {},
   "outputs": [
    {
     "ename": "SyntaxError",
     "evalue": "expected ':' (4055178453.py, line 7)",
     "output_type": "error",
     "traceback": [
      "\u001b[1;36m  Cell \u001b[1;32mIn[59], line 7\u001b[1;36m\u001b[0m\n\u001b[1;33m    else num < 0:\u001b[0m\n\u001b[1;37m         ^\u001b[0m\n\u001b[1;31mSyntaxError\u001b[0m\u001b[1;31m:\u001b[0m expected ':'\n"
     ]
    }
   ],
   "source": [
    "# 115  (wrong-왜 잘못되었는지 모르겠음)\n",
    "user = input(\"입력값:\")\n",
    "num = int(user) - 20\n",
    "\n",
    "if 0 <= num <= 255:\n",
    "    print(num)\n",
    "else num < 0:\n",
    "    print(\"no\")"
   ]
  },
  {
   "cell_type": "code",
   "execution_count": 65,
   "id": "5184c86a",
   "metadata": {},
   "outputs": [
    {
     "name": "stdout",
     "output_type": "stream",
     "text": [
      "입력값:290\n",
      "255\n"
     ]
    }
   ],
   "source": [
    "# 115  \n",
    "user = input(\"입력값:\")\n",
    "num = int(user) - 20\n",
    "\n",
    "if num > 255:\n",
    "    print(255)\n",
    "else: \n",
    "    if num < 0:\n",
    "        print(0)\n",
    "    else:\n",
    "        print(num)\n",
    "    \n",
    "    "
   ]
  },
  {
   "cell_type": "code",
   "execution_count": 69,
   "id": "0a4526c0",
   "metadata": {},
   "outputs": [
    {
     "name": "stdout",
     "output_type": "stream",
     "text": [
      "현재 몇분인지 적어주세요:55\n",
      "정각이 아닙니다.\n"
     ]
    }
   ],
   "source": [
    "# 116  wrong\n",
    "user = input('현재 몇분인지 적어주세요:')\n",
    "time = int(user)\n",
    "\n",
    "if time == 0:\n",
    "    print('정각입니다.')\n",
    "else :\n",
    "    print ('정각이 아닙니다.')"
   ]
  },
  {
   "cell_type": "code",
   "execution_count": 71,
   "id": "4f258efe",
   "metadata": {},
   "outputs": [
    {
     "name": "stdout",
     "output_type": "stream",
     "text": [
      "현재시간을 00:00 형태로 적어주세요:00:00\n",
      "정각입니다.\n"
     ]
    }
   ],
   "source": [
    "# 116\n",
    "time = input('현재시간을 00:00 형태로 적어주세요:')\n",
    "\n",
    "if time[-2:] == '00':\n",
    "    print('정각입니다.')\n",
    "else :\n",
    "    print ('정각이 아닙니다.')"
   ]
  },
  {
   "cell_type": "code",
   "execution_count": 75,
   "id": "8b4d4502",
   "metadata": {},
   "outputs": [
    {
     "name": "stdout",
     "output_type": "stream",
     "text": [
      "좋아하는 과일은?:사과\n",
      "\"정답입니다.\"\n"
     ]
    }
   ],
   "source": [
    "# 117\n",
    "fruit = [\"사과\", \"포도\", \"홍시\"]\n",
    "fruit_user=input('좋아하는 과일은?:')\n",
    "\n",
    "if fruit_user in fruit:\n",
    "    print('\"정답입니다.\"')\n",
    "else:\n",
    "    print(\"오답입니다.\")\n"
   ]
  },
  {
   "cell_type": "code",
   "execution_count": 79,
   "id": "6c3b1540",
   "metadata": {},
   "outputs": [
    {
     "name": "stdout",
     "output_type": "stream",
     "text": [
      "종목을 입력하세요:Naver\n",
      "투자 경고 종목입니다.\n"
     ]
    }
   ],
   "source": [
    "#118\n",
    "warn_investment_list = [\"Microsoft\", \"Google\", \"Naver\", \"Kakao\", \"SAMSUNG\", \"LG\"]\n",
    "inv_user = input(\"종목을 입력하세요:\")\n",
    "\n",
    "if inv_user in warn_investment_list:\n",
    "    print('투자 경고 종목입니다.')\n",
    "else :\n",
    "    print('투자 경고 종목이 아닙니다.')"
   ]
  },
  {
   "cell_type": "code",
   "execution_count": 87,
   "id": "d02a899a",
   "metadata": {},
   "outputs": [
    {
     "name": "stdout",
     "output_type": "stream",
     "text": [
      "제가좋아하는계절은 : 겨울\n",
      "오답입니다.\n"
     ]
    }
   ],
   "source": [
    "#119 \n",
    "fruit = {\"봄\" : \"딸기\", \"여름\" : \"토마토\", \"가을\" : \"사과\"}\n",
    "user_f = input(\"제가좋아하는계절은 : \")\n",
    "\n",
    "#if user_f in fruit.keys():\n",
    "if user_f in fruit:\n",
    "    print('정답입니다.')\n",
    "else :\n",
    "    print('오답입니다.')\n"
   ]
  },
  {
   "cell_type": "code",
   "execution_count": 83,
   "id": "90eca157",
   "metadata": {},
   "outputs": [
    {
     "name": "stdout",
     "output_type": "stream",
     "text": [
      "제가좋아하는계절은 : 토마토\n",
      "정답입니다.\n"
     ]
    }
   ],
   "source": [
    "#200 (wrong-*이거네..........values, key..) \n",
    "fruit = {\"봄\" : \"딸기\", \"여름\" : \"토마토\", \"가을\" : \"사과\"}\n",
    "user_f = input(\"제가좋아하는계절은 : \")\n",
    "\n",
    "if user_f in fruit.values():\n",
    "    print('정답입니다.')\n",
    "else :\n",
    "    print('오답입니다.')\n",
    "\n"
   ]
  },
  {
   "cell_type": "code",
   "execution_count": 94,
   "id": "08b055de",
   "metadata": {},
   "outputs": [
    {
     "name": "stdout",
     "output_type": "stream",
     "text": [
      "한개의 영문자만 입력해주세요:d\n",
      "D\n"
     ]
    }
   ],
   "source": [
    "#121(wrong)\n",
    "userser=input('한개의 영문자만 입력해주세요:')\n",
    "\n",
    "if userser.islower():\n",
    "    print(userser.upper())\n",
    "else: \n",
    "    print(userser.lower())"
   ]
  },
  {
   "cell_type": "code",
   "execution_count": 104,
   "id": "ffda6a53",
   "metadata": {},
   "outputs": [
    {
     "name": "stdout",
     "output_type": "stream",
     "text": [
      "score:86\n",
      "grade is A\n"
     ]
    }
   ],
   "source": [
    "#122 (wrong - dict 구조로는 안되나요?) & if else로만 하면 어떻게 되나요?)\n",
    "score = input(\"score:\")\n",
    "score = int(score)\n",
    "\n",
    "if 81<=score<=100:\n",
    "    print(\"grade is A\")\n",
    "elif 61<=score<=80:\n",
    "        print(\"grade is B\")\n",
    "elif 41<=score<=60:\n",
    "        print(\"grade is C\")\n",
    "elif 21<=score<=40:\n",
    "        print(\"grade is D\")\n",
    "else: #else는 조건문이 당연히 없지요..\n",
    "    print(\"grade is E\")"
   ]
  },
  {
   "cell_type": "code",
   "execution_count": 111,
   "id": "c2aa003b",
   "metadata": {},
   "outputs": [
    {
     "name": "stdout",
     "output_type": "stream",
     "text": [
      "입력:200 엔\n",
      "219.20000000000002 원\n"
     ]
    }
   ],
   "source": [
    "#123  (wrong 에라 모르겠다)\n",
    "환율 = {\"달러\": 1167, \n",
    "        \"엔\": 1.096, \n",
    "        \"유로\": 1268, \n",
    "        \"위안\": 171}\n",
    "user = input(\"입력:\")\n",
    "num, currency = user.split()\n",
    "print(float(num) * 환율[currency], \"원\")\n",
    "\n",
    "\n",
    "\n"
   ]
  },
  {
   "cell_type": "code",
   "execution_count": 119,
   "id": "d21e458e",
   "metadata": {},
   "outputs": [
    {
     "name": "stdout",
     "output_type": "stream",
     "text": [
      "number1:34\n",
      "number2:26\n",
      "number3:3878\n",
      "3878\n"
     ]
    }
   ],
   "source": [
    "#124 (done!)\n",
    "userA=input(\"number1:\")\n",
    "number1=int(userA)\n",
    "\n",
    "userB=input(\"number2:\")\n",
    "number2=int(userB)\n",
    "\n",
    "userC=input(\"number3:\")\n",
    "number3=int(userC)\n",
    "\n",
    "usernum=[number1, number2, number3]\n",
    "\n",
    "print(max(usernum))"
   ]
  },
  {
   "cell_type": "code",
   "execution_count": 117,
   "id": "0dc6ba1e",
   "metadata": {},
   "outputs": [
    {
     "name": "stdout",
     "output_type": "stream",
     "text": [
      "input number1: 3243\n",
      "input number2: 232\n",
      "input number3: 2\n",
      "3243\n"
     ]
    }
   ],
   "source": [
    "#124\n",
    "num1 = input(\"input number1: \")\n",
    "num2 = input(\"input number2: \")\n",
    "num3 = input(\"input number3: \")\n",
    "num1 = int(num1)\n",
    "num2 = int(num2)\n",
    "num3 = int(num3)\n",
    "\n",
    "if num1 >= num2 and num1 >= num3:\n",
    "    print(num1)\n",
    "elif num2 >= num1 and num2 >= num3:\n",
    "    print(num2)\n",
    "else:\n",
    "    print(num3)\n"
   ]
  },
  {
   "cell_type": "code",
   "execution_count": 123,
   "id": "e92d6c51",
   "metadata": {},
   "outputs": [
    {
     "ename": "SyntaxError",
     "evalue": "expected ':' (3697804320.py, line 11)",
     "output_type": "error",
     "traceback": [
      "\u001b[1;36m  Cell \u001b[1;32mIn[123], line 11\u001b[1;36m\u001b[0m\n\u001b[1;33m    else userN[0:2] == '010':\u001b[0m\n\u001b[1;37m         ^\u001b[0m\n\u001b[1;31mSyntaxError\u001b[0m\u001b[1;31m:\u001b[0m expected ':'\n"
     ]
    }
   ],
   "source": [
    "#125 (wrong - *f사용해서 해보고싶다)\n",
    "phone = {'011': 'SKT','016':'KT','019':'LGU','010':'알수없음'}\n",
    "userN = input('휴대전화 번호 입력(000-000-0000):')\n",
    "\n",
    "if userN[0:2] == '011':\n",
    "    print('당신은 SKT 사용자입니다.')\n",
    "elif userN[0:2] == '016':\n",
    "    print('당신은 KT 사용자입니다.')\n",
    "elif userN[0:2] == '019':\n",
    "    print('당신은 LGU 사용자입니다.')\n",
    "else userN[0:2] == '010':\n",
    "    print('알 수 없음')\n"
   ]
  },
  {
   "cell_type": "code",
   "execution_count": null,
   "id": "1e97e9b1",
   "metadata": {},
   "outputs": [],
   "source": [
    "#125 \n",
    "number = input(\"휴대전화 번호 입력: \")\n",
    "num = number.split(\"-\")[0]\n",
    "if num == \"011\":\n",
    "    com = \"SKT\"\n",
    "elif num == \"016\":\n",
    "    com = \"KT\"\n",
    "elif num == \"019\":\n",
    "    com = \"LGU\"\n",
    "else:\n",
    "    com = \"알수없음\"\n",
    "print(f\"당신은 {com} 사용자입니다.\")\n"
   ]
  }
 ],
 "metadata": {
  "kernelspec": {
   "display_name": "Python 3 (ipykernel)",
   "language": "python",
   "name": "python3"
  },
  "language_info": {
   "codemirror_mode": {
    "name": "ipython",
    "version": 3
   },
   "file_extension": ".py",
   "mimetype": "text/x-python",
   "name": "python",
   "nbconvert_exporter": "python",
   "pygments_lexer": "ipython3",
   "version": "3.11.5"
  }
 },
 "nbformat": 4,
 "nbformat_minor": 5
}
