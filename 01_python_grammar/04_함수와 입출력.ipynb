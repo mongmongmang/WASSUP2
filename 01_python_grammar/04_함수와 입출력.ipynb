{
 "cells": [
  {
   "cell_type": "markdown",
   "id": "a87caa51",
   "metadata": {},
   "source": [
    "# 함수"
   ]
  },
  {
   "cell_type": "markdown",
   "id": "d9e099d9",
   "metadata": {},
   "source": [
    "- 프로그래밍에서 함수란?\n",
    "- 함수가 필요한 이유 : \n",
    "- 함수 : 반복되는 부분이 있을 경우, '반복적으로 사용되는 가치있는 부분'을 쉽게 프로그램 단위로 만들어주는 것\n",
    "- 인풋이 꼭 없을 수도 있다. 기본 함수와는 다른다"
   ]
  },
  {
   "cell_type": "markdown",
   "id": "74b83133",
   "metadata": {},
   "source": [
    "\n",
    "예약어 / 함수 이름 / 매개변수(어떤 규칙 등)\n",
    "def 함수_이름(매개변수):\n",
    "    수행할_문장1\n",
    "    수행할_문장2\n",
    "    ...\n"
   ]
  },
  {
   "cell_type": "markdown",
   "id": "028fb492",
   "metadata": {},
   "source": [
    "## 함수의 구조"
   ]
  },
  {
   "cell_type": "code",
   "execution_count": 1,
   "id": "2f219cd0",
   "metadata": {},
   "outputs": [],
   "source": [
    "def add(a, b): #매개변수(parameter) : 함수에 입력으로 전달된 값을 받는 변수\n",
    "    return a + b"
   ]
  },
  {
   "cell_type": "code",
   "execution_count": 2,
   "id": "7e21cb09",
   "metadata": {},
   "outputs": [
    {
     "name": "stdout",
     "output_type": "stream",
     "text": [
      "7\n"
     ]
    }
   ],
   "source": [
    "a = 3\n",
    "b = 4\n",
    "c = add(a, b)  # add(3, 4)의 리턴값을 c에 대입\n",
    "print(c)\n"
   ]
  },
  {
   "cell_type": "code",
   "execution_count": 3,
   "id": "0800f677",
   "metadata": {},
   "outputs": [
    {
     "data": {
      "text/plain": [
       "7"
      ]
     },
     "execution_count": 3,
     "metadata": {},
     "output_type": "execute_result"
    }
   ],
   "source": [
    "c = 3\n",
    "d = 4\n",
    "add(c, d)  # c,d = 인수 : 함수를 호출할 때 전달하는입력값"
   ]
  },
  {
   "cell_type": "code",
   "execution_count": 4,
   "id": "59d20a48",
   "metadata": {},
   "outputs": [
    {
     "data": {
      "text/plain": [
       "7"
      ]
     },
     "execution_count": 4,
     "metadata": {},
     "output_type": "execute_result"
    }
   ],
   "source": [
    "e = add(c,d) #함수에 따라 입출력 기능이 다름 -> 당연한 출력이 아님\n",
    "e"
   ]
  },
  {
   "cell_type": "markdown",
   "id": "b9f76a53",
   "metadata": {},
   "source": [
    "### 매개변수와 인수"
   ]
  },
  {
   "cell_type": "code",
   "execution_count": 5,
   "id": "9411365f",
   "metadata": {},
   "outputs": [
    {
     "data": {
      "text/plain": [
       "12"
      ]
     },
     "execution_count": 5,
     "metadata": {},
     "output_type": "execute_result"
    }
   ],
   "source": [
    "add(5, 7)  #5,7이 인수"
   ]
  },
  {
   "cell_type": "markdown",
   "id": "0f618326",
   "metadata": {},
   "source": [
    "# 입력값과 리턴값에 따른 함수의 형태"
   ]
  },
  {
   "cell_type": "markdown",
   "id": "d4ca5ef0",
   "metadata": {},
   "source": [
    "리턴값에 따라 4종류로 나뉜다"
   ]
  },
  {
   "cell_type": "code",
   "execution_count": null,
   "id": "efce2952",
   "metadata": {},
   "outputs": [],
   "source": [
    "# 일반적인 함수"
   ]
  },
  {
   "cell_type": "code",
   "execution_count": null,
   "id": "5a340fd2",
   "metadata": {},
   "outputs": [],
   "source": [
    "# 입력값이 없는 함수\n",
    "연산은 못하지만, 기능이 실행되었을 때, 리턴은 해줄 수 있음\n"
   ]
  },
  {
   "cell_type": "markdown",
   "id": "54fa44a9",
   "metadata": {},
   "source": [
    "돌려 받았기 때문에 .//////\n",
    "\n",
    "글로벌 변수 a, 어디서나 쓸 수 있음  \n",
    "def는 로컬영역 로컬 변수들 add(a,b)   \n",
    "로컬변수 안에서 실행된거랑, 로컬변수에서 글로벌 변수로 반환을 해서 실행시킨경우는 다르다!!!!!  \n"
   ]
  },
  {
   "cell_type": "markdown",
   "id": "7edfe267",
   "metadata": {},
   "source": [
    "글로벌 변수  \n",
    "함수를 디파인 - 새로운 약속, -> 로컬영역  \n",
    "로컬영역 안에서 이루어진 것   \n",
    "과 글로벌 안에서 이루어진것과 다름  \n",
    "\n"
   ]
  },
  {
   "cell_type": "code",
   "execution_count": 6,
   "id": "4c0cbb4f",
   "metadata": {},
   "outputs": [],
   "source": [
    "#글로벌 변수\n",
    "c='hi'"
   ]
  },
  {
   "cell_type": "code",
   "execution_count": 7,
   "id": "5d951fb4",
   "metadata": {},
   "outputs": [
    {
     "data": {
      "text/plain": [
       "'hi'"
      ]
     },
     "execution_count": 7,
     "metadata": {},
     "output_type": "execute_result"
    }
   ],
   "source": [
    "c"
   ]
  },
  {
   "cell_type": "markdown",
   "id": "d22b6b75",
   "metadata": {},
   "source": [
    "글로벌안에 로컬 속해있음 : 글로벌은 어디서나 쓸 수 있음\n",
    "로컬에서 만들어진 변수는 글로벌에서 쓸 수 없음\n",
    "글로벌에서 로컬에서 쓸 수는 있는데 권장은 안함\n"
   ]
  },
  {
   "cell_type": "markdown",
   "id": "1a24eeda",
   "metadata": {},
   "source": [
    "## 매개변수를 지정하여 호출하기"
   ]
  },
  {
   "cell_type": "code",
   "execution_count": 1,
   "id": "5a837824",
   "metadata": {},
   "outputs": [],
   "source": [
    ">>> def sub(a, b):\n",
    "...     return a - b\n"
   ]
  },
  {
   "cell_type": "code",
   "execution_count": 3,
   "id": "d8d90a75",
   "metadata": {},
   "outputs": [
    {
     "name": "stdout",
     "output_type": "stream",
     "text": [
      "4\n"
     ]
    }
   ],
   "source": [
    ">>> result = sub(a=7, b=3)  \n",
    ">>> print(result)"
   ]
  },
  {
   "cell_type": "code",
   "execution_count": 4,
   "id": "827a0674",
   "metadata": {},
   "outputs": [
    {
     "name": "stdout",
     "output_type": "stream",
     "text": [
      "4\n"
     ]
    }
   ],
   "source": [
    ">>> result = sub(b=3, a=7)  # a,b 지정할 경우 순서 바꿔도 됨 \n",
    ">>> print(result)"
   ]
  },
  {
   "cell_type": "code",
   "execution_count": 5,
   "id": "64f2e3e5",
   "metadata": {},
   "outputs": [
    {
     "name": "stdout",
     "output_type": "stream",
     "text": [
      "-2\n"
     ]
    }
   ],
   "source": [
    ">>> result = sub(b=5, a=3)  # b에 5, a에 3을 전달\n",
    ">>> print(result)"
   ]
  },
  {
   "cell_type": "code",
   "execution_count": null,
   "id": "dc5a589b",
   "metadata": {},
   "outputs": [],
   "source": [
    "def add_many(*args):\n",
    "    RESULT = ++++\n",
    "    return RESULT"
   ]
  },
  {
   "cell_type": "markdown",
   "id": "49cf4b8f",
   "metadata": {},
   "source": [
    "### 입력값이 몇 개가 될지 모를 때는 어떻게 해야 할까?"
   ]
  },
  {
   "cell_type": "code",
   "execution_count": 6,
   "id": "d5ab3afa",
   "metadata": {},
   "outputs": [],
   "source": [
    "print?"
   ]
  },
  {
   "cell_type": "markdown",
   "id": "e7a183ee",
   "metadata": {},
   "source": [
    "입력값이 여러개(몇개가 들어올지 모를 때 ) 그 입력값을 다 더하고 싶을 때 \n",
    "def 함수_이름(*매개 ㄱ변수):\n",
    "    수행할 _문장\n",
    "    "
   ]
  },
  {
   "cell_type": "code",
   "execution_count": 1,
   "id": "de2df4fb",
   "metadata": {},
   "outputs": [],
   "source": [
    ">>> def add_many(*args): #매개변수를 가변적으로 받음(몇개가 들어오든 다 받는 변수)\n",
    "...     result = 0 #글로벌 변수 \n",
    "...     for i in args: \n",
    "...         result = result + i   # *args에 입력받은 모든 값을 더한다.\n",
    "...     return result \n"
   ]
  },
  {
   "cell_type": "code",
   "execution_count": 3,
   "id": "eac156f4",
   "metadata": {},
   "outputs": [
    {
     "name": "stdout",
     "output_type": "stream",
     "text": [
      "6\n"
     ]
    }
   ],
   "source": [
    ">>> result = add_many(1,2,3)\n",
    ">>> print(result)\n"
   ]
  },
  {
   "cell_type": "code",
   "execution_count": 11,
   "id": "138beb6f",
   "metadata": {},
   "outputs": [
    {
     "name": "stdout",
     "output_type": "stream",
     "text": [
      "55\n"
     ]
    }
   ],
   "source": [
    ">>> result = add_many(1,2,3,4,5,6,7,8,9,10)\n",
    ">>> print(result)"
   ]
  },
  {
   "cell_type": "markdown",
   "id": "020b14e1",
   "metadata": {},
   "source": [
    "args는튜플 로 사용됨................................. "
   ]
  },
  {
   "cell_type": "code",
   "execution_count": 5,
   "id": "4804be62",
   "metadata": {},
   "outputs": [],
   "source": [
    ">>> def add_mul(choice, *args): #choice는 어떤 함수를 받을지\n",
    "...     if choice == \"add\":   # 매개변수 choice에 \"add\"를 입력받았을 때\n",
    "...         result = 0 \n",
    "...         for i in args: \n",
    "...             result = result + i \n",
    "...     elif choice == \"mul\":   # 매개변수 choice에 \"mul\"을 입력받았을 때\n",
    "...         result = 1 \n",
    "...         for i in args: \n",
    "...             result = result * i \n",
    "...     return result \n"
   ]
  },
  {
   "cell_type": "code",
   "execution_count": 6,
   "id": "6dc0fb0e",
   "metadata": {},
   "outputs": [
    {
     "name": "stdout",
     "output_type": "stream",
     "text": [
      "15\n",
      "120\n"
     ]
    }
   ],
   "source": [
    ">>> result = add_mul('add', 1,2,3,4,5)\n",
    ">>> print(result)\n",
    ">>> result = add_mul('mul', 1,2,3,4,5)\n",
    ">>> print(result)\n"
   ]
  },
  {
   "cell_type": "markdown",
   "id": "c976c2ba",
   "metadata": {},
   "source": [
    "## 키워드 매개변수, kwargs \n",
    "- 입력값을 dict형태로 전환 저장"
   ]
  },
  {
   "cell_type": "code",
   "execution_count": 14,
   "id": "faa2e01c",
   "metadata": {},
   "outputs": [
    {
     "name": "stdout",
     "output_type": "stream",
     "text": [
      "{'a': 1}\n",
      "{'name': 'foo', 'age': 3}\n"
     ]
    }
   ],
   "source": [
    ">>> def print_kwargs(**kwargs):\n",
    "...     print(kwargs)\n",
    "\n",
    "\n",
    "print_kwargs(a=1)\n",
    "\n",
    "print_kwargs(name='foo', age=3)"
   ]
  },
  {
   "cell_type": "markdown",
   "id": "a7d709bd",
   "metadata": {},
   "source": [
    "## 함수의 리턴값은 언제나 하나이다"
   ]
  },
  {
   "cell_type": "code",
   "execution_count": 16,
   "id": "120291ce",
   "metadata": {},
   "outputs": [],
   "source": [
    ">>> def add_and_mul(a,b): \n",
    "...     return a+b, a*b\n",
    "#에러가 안나는 이유: 정의만 햇지, 실행한 게 아니라서도 있음\n",
    "#리턴값은 언제나 1개, 그러나 2개 이상이라면 튜플값으로 리턴 (a+b,a*b)"
   ]
  },
  {
   "cell_type": "code",
   "execution_count": 18,
   "id": "baf4cbe0",
   "metadata": {},
   "outputs": [
    {
     "data": {
      "text/plain": [
       "(7, 12)"
      ]
     },
     "execution_count": 18,
     "metadata": {},
     "output_type": "execute_result"
    }
   ],
   "source": [
    "result = add_and_mul(3,4)\n",
    "result"
   ]
  },
  {
   "cell_type": "code",
   "execution_count": 25,
   "id": "1d115710",
   "metadata": {},
   "outputs": [
    {
     "data": {
      "text/plain": [
       "12"
      ]
     },
     "execution_count": 25,
     "metadata": {},
     "output_type": "execute_result"
    }
   ],
   "source": [
    "#2개로 분리하고 싶다면\n",
    "result1, result2 = add_and_mul(3, 4)\n",
    "\n",
    "result1\n",
    "result2"
   ]
  },
  {
   "cell_type": "code",
   "execution_count": 26,
   "id": "23750c15",
   "metadata": {},
   "outputs": [],
   "source": [
    ">>> def add_and_mul(a,b): \n",
    "...     return a+b \n",
    "...     return a*b \n"
   ]
  },
  {
   "cell_type": "code",
   "execution_count": 28,
   "id": "23ece2cc",
   "metadata": {},
   "outputs": [
    {
     "name": "stdout",
     "output_type": "stream",
     "text": [
      "5\n"
     ]
    }
   ],
   "source": [
    ">>> result = add_and_mul(2, 3)\n",
    ">>> print(result)\n"
   ]
  },
  {
   "cell_type": "markdown",
   "id": "6bef11b3",
   "metadata": {},
   "source": [
    "즉, 함수는 return 문을 만나는 순간, 리턴값을 돌려 준 다음 함수를 빠져나가게 된다."
   ]
  },
  {
   "cell_type": "markdown",
   "id": "e9a006ca",
   "metadata": {},
   "source": [
    "## 매개변수에 초깃값 미리 설정하기"
   ]
  },
  {
   "cell_type": "code",
   "execution_count": 34,
   "id": "a4ed18fd",
   "metadata": {},
   "outputs": [
    {
     "name": "stdout",
     "output_type": "stream",
     "text": [
      "나의 이름은 박응용 입니다.\n",
      "나이는 27살입니다.\n",
      "남자입니다.\n"
     ]
    }
   ],
   "source": [
    "# default1.py\n",
    "def say_myself(name, age, man=True): \n",
    "    print(\"나의 이름은 %s 입니다.\" % name) \n",
    "    print(\"나이는 %d살입니다.\" % age) \n",
    "    if man: \n",
    "        print(\"남자입니다.\")\n",
    "    else: \n",
    "        print(\"여자입니다.\")\n",
    "        \n",
    "        \n",
    "result=say_myself('박응용', 27)\n",
    "\n"
   ]
  },
  {
   "cell_type": "code",
   "execution_count": null,
   "id": "207f5c82",
   "metadata": {},
   "outputs": [],
   "source": [
    "# default2.py\n",
    "def say_myself(name, man=True, age): \n",
    "    print(\"나의 이름은 %s 입니다.\" % name) \n",
    "    print(\"나이는 %d살입니다.\" % age) \n",
    "    if man: \n",
    "        print(\"남자입니다.\") \n",
    "    else: \n",
    "        print(\"여자입니다.\")\n",
    "\n",
    "# ‘초깃값이 없는 매개변수(age)는 초깃값이 있는 매개변수(man) 뒤에 사용할 수 없"
   ]
  },
  {
   "cell_type": "markdown",
   "id": "bbb8b8ec",
   "metadata": {},
   "source": [
    "## lamda (함수의 끝판왕)"
   ]
  },
  {
   "cell_type": "code",
   "execution_count": null,
   "id": "dc3bffb0",
   "metadata": {},
   "outputs": [],
   "source": [
    "# 연산식을 add라는 변수에 넣음 / 기존과 다름"
   ]
  },
  {
   "cell_type": "markdown",
   "id": "611a5a9d",
   "metadata": {},
   "source": [
    "# 사용자 입출력"
   ]
  },
  {
   "cell_type": "code",
   "execution_count": 21,
   "id": "47079571",
   "metadata": {},
   "outputs": [],
   "source": [
    "#input 사용\n"
   ]
  },
  {
   "cell_type": "code",
   "execution_count": 22,
   "id": "618bf847",
   "metadata": {},
   "outputs": [],
   "source": [
    "#프롬프트 띄우기 \n"
   ]
  },
  {
   "cell_type": "markdown",
   "id": "5325295e",
   "metadata": {},
   "source": [
    "# 파일 읽고 쓰기 "
   ]
  },
  {
   "cell_type": "markdown",
   "id": "3c1f42b0",
   "metadata": {},
   "source": [
    "### 파일 생성하기 "
   ]
  },
  {
   "cell_type": "code",
   "execution_count": 24,
   "id": "2a52a98d",
   "metadata": {},
   "outputs": [],
   "source": [
    "open?"
   ]
  },
  {
   "cell_type": "code",
   "execution_count": 26,
   "id": "2218d2b9",
   "metadata": {},
   "outputs": [],
   "source": [
    "# newfile.py\n",
    "f = open(\"새파일.txt\", 'w')  # w은 쓰기, 생성해줌\n",
    "f.close()"
   ]
  },
  {
   "cell_type": "code",
   "execution_count": 28,
   "id": "00af3ace",
   "metadata": {},
   "outputs": [
    {
     "data": {
      "text/plain": [
       "<_io.TextIOWrapper name='새파일.txt' mode='w' encoding='cp949'>"
      ]
     },
     "execution_count": 28,
     "metadata": {},
     "output_type": "execute_result"
    }
   ],
   "source": [
    "f = open(\"새파일.txt\", 'w')\n",
    "f  # 파일은 객체로 -> class 때 배움"
   ]
  },
  {
   "cell_type": "code",
   "execution_count": 29,
   "id": "42f1df37",
   "metadata": {},
   "outputs": [],
   "source": [
    "f.close() #객체 종료 '반드시'해야함 : "
   ]
  },
  {
   "cell_type": "markdown",
   "id": "1561c386",
   "metadata": {},
   "source": [
    "### 파일 경로와 슬래시 \n",
    "- 역슬래시도 두번 혹은 한번 사용되기도 언어와 상황에 따라 다 다름"
   ]
  },
  {
   "cell_type": "markdown",
   "id": "0d16214f",
   "metadata": {},
   "source": [
    "## 파일 쓰기 모드로 열어 내용 쓰기  "
   ]
  },
  {
   "cell_type": "code",
   "execution_count": 31,
   "id": "e887daad",
   "metadata": {},
   "outputs": [
    {
     "data": {
      "text/plain": [
       "'C:\\\\workspace\\\\WASSUP2\\\\WASSUP2\\\\python_grammar'"
      ]
     },
     "execution_count": 31,
     "metadata": {},
     "output_type": "execute_result"
    }
   ],
   "source": [
    "pwd # 파일경로는 복사해도 되고 pwd로 찾아서 복붙해도됨"
   ]
  },
  {
   "cell_type": "code",
   "execution_count": 37,
   "id": "30476924",
   "metadata": {},
   "outputs": [],
   "source": [
    "# write_data.py\n",
    "f = open(\"C:\\\\workspace\\\\WASSUP2\\\\WASSUP2\\\\python_grammar\\\\새파일.txt\", 'w')\n",
    "for i in range(1, 11):\n",
    "    data = \"%d번째 줄입니다.\\n\" % i\n",
    "    f.write(data)\n",
    "f.close()\n"
   ]
  },
  {
   "cell_type": "code",
   "execution_count": 38,
   "id": "1cbc4599",
   "metadata": {},
   "outputs": [
    {
     "name": "stdout",
     "output_type": "stream",
     "text": [
      "1번째 줄입니다.\n",
      "\n"
     ]
    }
   ],
   "source": [
    "# readline_test.py\n",
    "f = open(\"새파일.txt\", 'r')\n",
    "line = f.readline()\n",
    "print(line)\n",
    "f.close()\n"
   ]
  },
  {
   "cell_type": "code",
   "execution_count": 39,
   "id": "47a6bc45",
   "metadata": {},
   "outputs": [
    {
     "name": "stdout",
     "output_type": "stream",
     "text": [
      "1번째 줄입니다.\n",
      "\n",
      "2번째 줄입니다.\n",
      "\n",
      "3번째 줄입니다.\n",
      "\n",
      "4번째 줄입니다.\n",
      "\n",
      "5번째 줄입니다.\n",
      "\n",
      "6번째 줄입니다.\n",
      "\n",
      "7번째 줄입니다.\n",
      "\n",
      "8번째 줄입니다.\n",
      "\n",
      "9번째 줄입니다.\n",
      "\n",
      "10번째 줄입니다.\n",
      "\n"
     ]
    }
   ],
   "source": [
    "#while \n",
    "# 프로그램 만들 때, 끝을 모를 때, 사용되는 문\n",
    "# for은 끝을 알아야 돌릴 수 있음\n",
    "\n",
    "# readline_all.py\n",
    "f = open(\"새파일.txt\", 'r')\n",
    "while True:\n",
    "    line = f.readline()\n",
    "    if not line: break\n",
    "    print(line)\n",
    "f.close()\n",
    "\n",
    "# 전체가 하나의 string\n"
   ]
  },
  {
   "cell_type": "markdown",
   "id": "ee275c73",
   "metadata": {},
   "source": [
    "## readlines 함수 사용하기"
   ]
  },
  {
   "cell_type": "code",
   "execution_count": 43,
   "id": "1d23e720",
   "metadata": {},
   "outputs": [
    {
     "name": "stdout",
     "output_type": "stream",
     "text": [
      "['1번째 줄입니다.\\n', '2번째 줄입니다.\\n', '3번째 줄입니다.\\n', '4번째 줄입니다.\\n', '5번째 줄입니다.\\n', '6번째 줄입니다.\\n', '7번째 줄입니다.\\n', '8번째 줄입니다.\\n', '9번째 줄입니다.\\n', '10번째 줄입니다.\\n']\n",
      "----------\n",
      "1번째 줄입니다.\n",
      "\n",
      "2번째 줄입니다.\n",
      "\n",
      "3번째 줄입니다.\n",
      "\n",
      "4번째 줄입니다.\n",
      "\n",
      "5번째 줄입니다.\n",
      "\n",
      "6번째 줄입니다.\n",
      "\n",
      "7번째 줄입니다.\n",
      "\n",
      "8번째 줄입니다.\n",
      "\n",
      "9번째 줄입니다.\n",
      "\n",
      "10번째 줄입니다.\n",
      "\n"
     ]
    }
   ],
   "source": [
    "# readlines.py  # 리스트를 싹 다 반환해주네! 끝이 있다면 -> for문 할 수 있네? for쓸지, while쓸지 판단\n",
    "f = open(\"새파일.txt\", 'r')\n",
    "lines = f.readlines()\n",
    "print(lines)\n",
    "print('-'*10)\n",
    "for line in lines:\n",
    "    print(line)\n",
    "f.close()\n",
    "# 리스트로 받아옴"
   ]
  },
  {
   "cell_type": "code",
   "execution_count": 45,
   "id": "78b1dbb6",
   "metadata": {},
   "outputs": [
    {
     "name": "stdout",
     "output_type": "stream",
     "text": [
      "1번째 줄입니다.\n",
      "2번째 줄입니다.\n",
      "3번째 줄입니다.\n",
      "4번째 줄입니다.\n",
      "5번째 줄입니다.\n",
      "6번째 줄입니다.\n",
      "7번째 줄입니다.\n",
      "8번째 줄입니다.\n",
      "9번째 줄입니다.\n",
      "10번째 줄입니다.\n"
     ]
    }
   ],
   "source": [
    "#줄바꿈 문자 제거 \n",
    "f = open(\"새파일.txt\", 'r')\n",
    "lines = f.readlines()\n",
    "for line in lines:\n",
    "    line = line.strip()  # 줄 끝의 줄 바꿈 문자를 제거한다.(문자열이라 문자열 메서드 사용가능)\n",
    "    print(line)\n",
    "f.close()\n",
    "# 한줄씩 string?으로 받아온건가?"
   ]
  },
  {
   "cell_type": "code",
   "execution_count": 46,
   "id": "f4701cc2",
   "metadata": {},
   "outputs": [
    {
     "name": "stdout",
     "output_type": "stream",
     "text": [
      "1번째 줄입니다.\n",
      "2번째 줄입니다.\n",
      "3번째 줄입니다.\n",
      "4번째 줄입니다.\n",
      "5번째 줄입니다.\n",
      "6번째 줄입니다.\n",
      "7번째 줄입니다.\n",
      "8번째 줄입니다.\n",
      "9번째 줄입니다.\n",
      "10번째 줄입니다.\n",
      "\n"
     ]
    }
   ],
   "source": [
    "# read.py 함수\n",
    "f = open(\"새파일.txt\", 'r')\n",
    "data = f.read()\n",
    "print(data)\n",
    "f.close()\n",
    "# 전체가 하나의 string"
   ]
  },
  {
   "cell_type": "markdown",
   "id": "84b2b7c5",
   "metadata": {},
   "source": [
    "## 파일에 새로운 내용 추가하기"
   ]
  },
  {
   "cell_type": "markdown",
   "id": "9f54446b",
   "metadata": {},
   "source": [
    "## with 문과 함께 사용하기\n",
    "- f.close 귀찮아요. 피그마에는 기능없나요?\n",
    "- 변수 할당까지 한번에!"
   ]
  },
  {
   "cell_type": "code",
   "execution_count": null,
   "id": "0593b06d",
   "metadata": {},
   "outputs": [],
   "source": []
  }
 ],
 "metadata": {
  "kernelspec": {
   "display_name": "Python 3 (ipykernel)",
   "language": "python",
   "name": "python3"
  },
  "language_info": {
   "codemirror_mode": {
    "name": "ipython",
    "version": 3
   },
   "file_extension": ".py",
   "mimetype": "text/x-python",
   "name": "python",
   "nbconvert_exporter": "python",
   "pygments_lexer": "ipython3",
   "version": "3.11.5"
  }
 },
 "nbformat": 4,
 "nbformat_minor": 5
}
