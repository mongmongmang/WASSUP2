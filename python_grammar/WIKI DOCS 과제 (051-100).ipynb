{
 "cells": [
  {
   "cell_type": "markdown",
   "id": "77c95468",
   "metadata": {},
   "source": [
    "# WIKI DOCS 과제(051 ~ 100)"
   ]
  },
  {
   "cell_type": "markdown",
   "id": "557169c9",
   "metadata": {},
   "source": [
    "# [오답 정리]\n",
    "### 028 문자열은 immutable (오답)\n",
    "Q. 아래 코드의 실행 결과를 예상해보세요.\n",
    "\n",
    "> lang = 'python'  \n",
    "> lang[0] = 'P'  \n",
    "> print(lang)  "
   ]
  },
  {
   "cell_type": "markdown",
   "id": "de47af92",
   "metadata": {},
   "source": [
    "### 034 문자열 곱하기 (오답)\n",
    "\n",
    "변수에 다음과 같은 문자열이 바인딩되어 있습니다.\n",
    "\n",
    "> t1 = 'python'\n",
    "> \n",
    "> \n",
    "> t2 = 'java'\n",
    "> \n",
    "\n",
    "변수에 문자열 더하기와 문자열 곱하기를 사용해서 아래와 같이 출력해보세요.\n",
    "\n",
    "실행 예:python java python java python java python java"
   ]
  },
  {
   "cell_type": "markdown",
   "id": "c2ccb6cf",
   "metadata": {},
   "source": [
    "### 035 문자열 출력(오답)\n",
    "\n",
    "변수에 다음과 같이 문자열과 정수가 바인딩되어 있을 때 % formatting을 사용해서 다음과 같이 출력해보세요.\n",
    "\n",
    "> name1 = \"김민수\"\n",
    "> \n",
    "> \n",
    "> age1 = 10\n",
    "> \n",
    "> name2 = \"이철희\"\n",
    "> \n",
    "> age2 = 13\n",
    "> \n",
    "\n",
    "> 이름: 김민수 나이: 10\n",
    "> \n",
    "> \n",
    "> 이름: 이철희 나이: 13\n",
    ">"
   ]
  },
  {
   "cell_type": "markdown",
   "id": "6b8bcaf4",
   "metadata": {},
   "source": [
    "### 036 문자열 출력 (오답)\n",
    "\n",
    "문자열의 format( ) 메서드를 사용해서 035번 문제를 다시 풀어보세요."
   ]
  },
  {
   "cell_type": "markdown",
   "id": "c14bbda6",
   "metadata": {},
   "source": [
    "### 037 문자열 출력 (오답)\n",
    "\n",
    "파이썬 3.6부터 지원하는 f-string을 사용해서 035번 문제를 다시 풀어보세요.\n",
    "\n",
    "> f-string은 문자열 앞에 f가 붙은 형태입니다.\n",
    "> \n",
    "> \n",
    "> f-string을 사용하면 `{변수}`와 같은 형태로 문자열 사이에 타입과 상관없이 값을 출력할 수 있습니다.\n",
    ">"
   ]
  },
  {
   "cell_type": "markdown",
   "id": "59773677",
   "metadata": {},
   "source": [
    "### 038 컴마 제거하기\n",
    "\n",
    "Q. 삼성전자의 상장주식수가 다음과 같습니다. 컴마를 제거한 후 이를 정수 타입으로 변환해보세요.\n",
    "\n",
    "상장주식수 = \"5,969,782,550\""
   ]
  },
  {
   "cell_type": "markdown",
   "id": "70bec83d",
   "metadata": {},
   "source": [
    "### 040 strip 메서드(오답은 아닌데, strip?)\n",
    "\n",
    "문자열의 좌우의 공백이 있을 때 이를 제거해보세요.\n",
    "\n",
    "data = \"   삼성전자    \"\n"
   ]
  },
  {
   "cell_type": "markdown",
   "id": "35fc69d3",
   "metadata": {},
   "source": [
    "### 045 endswith 메서드 (오답:()이해안감)\n",
    "\n",
    "파일 이름이 문자열로 저장되어 있을 때 endswith 메서드를 사용해서 파일 이름이 'xlsx' 또는 'xls'로 끝나는지 확인해보세요.\n",
    "\n",
    "file_name = \"보고서.xlsx\""
   ]
  },
  {
   "cell_type": "markdown",
   "id": "241ff571",
   "metadata": {},
   "source": [
    "--------------------------------------------------------------------------------"
   ]
  },
  {
   "cell_type": "markdown",
   "id": "d8254f81",
   "metadata": {},
   "source": [
    "## 4. 파이썬 리스트(051 ~ 060)"
   ]
  },
  {
   "cell_type": "markdown",
   "id": "debb19f6",
   "metadata": {},
   "source": [
    "### 051 리스트 생성\n",
    "2016년 11월 영화 예매 순위 기준 top3는 다음과 같습니다.  \n",
    "영화 제목을 movie_rank 이름의 리스트에 저장해보세요.  \n",
    "(순위 정보는 저장하지 않습니다.)"
   ]
  },
  {
   "cell_type": "code",
   "execution_count": 12,
   "id": "1641708f",
   "metadata": {},
   "outputs": [
    {
     "name": "stdout",
     "output_type": "stream",
     "text": [
      "['닥터 스트레인지', '스플릿', '럭키']\n"
     ]
    }
   ],
   "source": [
    "movie_rank = ['닥터 스트레인지', '스플릿', '럭키']\n",
    "print(movie_rank)"
   ]
  },
  {
   "cell_type": "markdown",
   "id": "ea96818a",
   "metadata": {},
   "source": [
    "### 052 리스트에 원소 추가\n",
    "051의 movie_rank 리스트에 \"배트맨\"을 추가하라."
   ]
  },
  {
   "cell_type": "code",
   "execution_count": 13,
   "id": "05b320c9",
   "metadata": {},
   "outputs": [
    {
     "name": "stdout",
     "output_type": "stream",
     "text": [
      "['닥터 스트레인지', '스플릿', '럭키', '배트맨']\n"
     ]
    }
   ],
   "source": [
    "movie_rank = ['닥터 스트레인지', '스플릿', '럭키']\n",
    "movie_rank.insert(3, '배트맨')\n",
    "print(movie_rank)"
   ]
  },
  {
   "cell_type": "code",
   "execution_count": 14,
   "id": "3da40cc5",
   "metadata": {},
   "outputs": [
    {
     "name": "stdout",
     "output_type": "stream",
     "text": [
      "['닥터 스트레인지', '스플릿', '럭키', '배트맨']\n"
     ]
    }
   ],
   "source": [
    "movie_rank = ['닥터 스트레인지', '스플릿', '럭키']\n",
    "movie_rank.append('배트맨')\n",
    "print(movie_rank)"
   ]
  },
  {
   "cell_type": "markdown",
   "id": "22ca75ae",
   "metadata": {},
   "source": [
    "### 053\n",
    "movie_rank 리스트에는 아래와 같이 네 개의 영화 제목이 바인딩되어 있다. \"슈퍼맨\"을 \"닥터 스트레인지\"와 \"스플릿\" 사이에 추가하라."
   ]
  },
  {
   "cell_type": "code",
   "execution_count": 15,
   "id": "d77fe550",
   "metadata": {},
   "outputs": [
    {
     "name": "stdout",
     "output_type": "stream",
     "text": [
      "['닥터 스트레인지', '슈퍼맨', '스플릿', '럭키', '배트맨']\n"
     ]
    }
   ],
   "source": [
    "movie_rank = ['닥터 스트레인지', '스플릿', '럭키', '배트맨']\n",
    "movie_rank.insert(1, '슈퍼맨')\n",
    "print(movie_rank)"
   ]
  },
  {
   "cell_type": "markdown",
   "id": "4601b8b6",
   "metadata": {},
   "source": [
    "### 054\n",
    "movie_rank 리스트에서 '럭키'를 삭제하라."
   ]
  },
  {
   "cell_type": "code",
   "execution_count": 16,
   "id": "238f162f",
   "metadata": {},
   "outputs": [
    {
     "name": "stdout",
     "output_type": "stream",
     "text": [
      "['닥터 스트레인지', '슈퍼맨', '스플릿', '배트맨']\n"
     ]
    }
   ],
   "source": [
    "del movie_rank[3]\n",
    "print(movie_rank)"
   ]
  },
  {
   "cell_type": "markdown",
   "id": "5be280a9",
   "metadata": {},
   "source": [
    "### 055\n",
    "movie_rank 리스트에서 '스플릿' 과 '배트맨'을 를 삭제하라."
   ]
  },
  {
   "cell_type": "code",
   "execution_count": 17,
   "id": "099bb2e5",
   "metadata": {},
   "outputs": [
    {
     "name": "stdout",
     "output_type": "stream",
     "text": [
      "['닥터 스트레인지', '슈퍼맨']\n"
     ]
    }
   ],
   "source": [
    "movie_rank = ['닥터 스트레인지', '슈퍼맨', '스플릿', '배트맨']\n",
    "del movie_rank[2:4]\n",
    "print(movie_rank)"
   ]
  },
  {
   "cell_type": "code",
   "execution_count": 20,
   "id": "ded8b2ce",
   "metadata": {},
   "outputs": [
    {
     "name": "stdout",
     "output_type": "stream",
     "text": [
      "['닥터스트레인지', '슈퍼맨']\n"
     ]
    }
   ],
   "source": [
    "movie_rank = ['닥터스트레인지', '슈퍼맨', '스플릿', '배트맨']\n",
    "movie_rank.remove('스플릿'); movie_rank.remove('배트맨')\n",
    "print(movie_rank)"
   ]
  },
  {
   "cell_type": "code",
   "execution_count": 17,
   "id": "ca55dc7a",
   "metadata": {},
   "outputs": [
    {
     "name": "stdout",
     "output_type": "stream",
     "text": [
      "['닥터 스트레인지', '슈퍼맨']\n"
     ]
    }
   ],
   "source": [
    "movie_rank = ['닥터 스트레인지', '슈퍼맨', '스플릿', '배트맨']\n",
    "del movie_rank[2]\n",
    "del movie_rank[2]\n",
    "print(movie_rank)"
   ]
  },
  {
   "cell_type": "markdown",
   "id": "cceb8cf6",
   "metadata": {},
   "source": [
    "### 056(오답이라기 보다는 순서 무슨 차이)\n",
    "lang1과 lang2 리스트가 있을 때 lang1과 lang2의 원소를 모두 갖고 있는 langs 리스트를 만들어라"
   ]
  },
  {
   "cell_type": "code",
   "execution_count": 23,
   "id": "c841fa2f",
   "metadata": {},
   "outputs": [
    {
     "data": {
      "text/plain": [
       "['C', 'C++', 'JAVA', 'Python', 'Go', 'C#']"
      ]
     },
     "execution_count": 23,
     "metadata": {},
     "output_type": "execute_result"
    }
   ],
   "source": [
    "lang1 = [\"C\", \"C++\", \"JAVA\"]\n",
    "lang2 = [\"Python\", \"Go\", \"C#\"]\n",
    "langs = lang1 + lang2\n",
    "#lang1 + lang2 = langs \n",
    "langs"
   ]
  },
  {
   "cell_type": "markdown",
   "id": "c475dbf0",
   "metadata": {},
   "source": [
    "### 057(오답)\n",
    "다음 리스트에서 최댓값과 최솟값을 출력하라. (힌트: min(), max() 함수 사용)"
   ]
  },
  {
   "cell_type": "code",
   "execution_count": 24,
   "id": "7a2d0178",
   "metadata": {},
   "outputs": [
    {
     "name": "stdout",
     "output_type": "stream",
     "text": [
      "max:{max()}\n",
      "min:{min()}\n"
     ]
    }
   ],
   "source": [
    "#A. \n",
    "nums = [1, 2, 3, 4, 5, 6, 7]\n",
    "print(\"max:{max()}\")\n",
    "print(\"min:{min()}\")\n"
   ]
  },
  {
   "cell_type": "code",
   "execution_count": 24,
   "id": "a2804574",
   "metadata": {},
   "outputs": [
    {
     "name": "stdout",
     "output_type": "stream",
     "text": [
      "max: 7\n",
      "min: 1\n"
     ]
    }
   ],
   "source": [
    "#정답. \n",
    "nums = [1, 2, 3, 4, 5, 6, 7]\n",
    "print(\"max:\", max(nums))\n",
    "print(\"min:\", min(nums))\n"
   ]
  },
  {
   "cell_type": "code",
   "execution_count": 26,
   "id": "e3ed4ad4",
   "metadata": {},
   "outputs": [
    {
     "name": "stdout",
     "output_type": "stream",
     "text": [
      "15\n"
     ]
    }
   ],
   "source": [
    "# 058 다음 리스트의 합을 출력하라.\n",
    "\n",
    "nums = [1, 2, 3, 4, 5]\n",
    "print(sum(nums))\n"
   ]
  },
  {
   "cell_type": "code",
   "execution_count": 30,
   "id": "7dc806d2",
   "metadata": {},
   "outputs": [
    {
     "name": "stdout",
     "output_type": "stream",
     "text": [
      "12\n"
     ]
    }
   ],
   "source": [
    "# 059 다음 리스트에 저장된 데이터의 개수를 화면에 구하하라.(오답)\n",
    "cook = [\"피자\", \"김밥\", \"만두\", \"양념치킨\", \"족발\", \"피자\", \"김치만두\", \"쫄면\", \"소시지\", \"라면\", \"팥빙수\", \"김치전\"]\n",
    "\n",
    "print(len(cook))\n"
   ]
  },
  {
   "cell_type": "code",
   "execution_count": 32,
   "id": "8b174bb9",
   "metadata": {},
   "outputs": [
    {
     "name": "stdout",
     "output_type": "stream",
     "text": [
      "3.0\n"
     ]
    }
   ],
   "source": [
    "# 060 다음 리스트의 평균을 출력하라. (오답)\n",
    "nums = [1, 2, 3, 4, 5]\n",
    "average =sum(nums)/len(nums)\n",
    "print(average)"
   ]
  },
  {
   "cell_type": "markdown",
   "id": "46a0d2cc",
   "metadata": {},
   "source": [
    "### 061(정답)\n",
    "price 변수에는 날짜와 종가 정보가 저장돼 있다. 날짜 정보를 제외하고 가격 정보만을 출력하라. (힌트 : 슬라이싱)\n"
   ]
  },
  {
   "cell_type": "code",
   "execution_count": 33,
   "id": "2554c086",
   "metadata": {},
   "outputs": [
    {
     "name": "stdout",
     "output_type": "stream",
     "text": [
      "[100, 130, 140, 150, 160, 170]\n"
     ]
    }
   ],
   "source": [
    "price = ['20180728', 100, 130, 140, 150, 160, 170]\n",
    "print(price[1:])\n"
   ]
  },
  {
   "cell_type": "markdown",
   "id": "45650ed4",
   "metadata": {},
   "source": [
    "### 062 (오답)\n",
    "슬라이싱을 사용해서 홀수만 출력하라.\n"
   ]
  },
  {
   "cell_type": "code",
   "execution_count": 37,
   "id": "c51f7741",
   "metadata": {},
   "outputs": [
    {
     "name": "stdout",
     "output_type": "stream",
     "text": [
      "[1, 3, 5, 7, 9]\n"
     ]
    }
   ],
   "source": [
    "nums = [1, 2, 3, 4, 5, 6, 7, 8, 9, 10]\n",
    "print(nums[0::2])\n"
   ]
  },
  {
   "cell_type": "markdown",
   "id": "f16d0410",
   "metadata": {},
   "source": [
    "### 063\n",
    "슬라이싱을 사용해서 짝수만 출력하라."
   ]
  },
  {
   "cell_type": "code",
   "execution_count": 38,
   "id": "6dbd23fb",
   "metadata": {},
   "outputs": [
    {
     "name": "stdout",
     "output_type": "stream",
     "text": [
      "[2, 4, 6, 8, 10]\n"
     ]
    }
   ],
   "source": [
    "print(nums[1::2])"
   ]
  },
  {
   "cell_type": "markdown",
   "id": "e15a165c",
   "metadata": {},
   "source": [
    "### 064\n",
    "슬라이싱을 사용해서 리스트의 숫자를 역 방향으로 출력하라."
   ]
  },
  {
   "cell_type": "code",
   "execution_count": 45,
   "id": "e230c68d",
   "metadata": {},
   "outputs": [
    {
     "data": {
      "text/plain": [
       "[5, 4, 3, 2, 1]"
      ]
     },
     "execution_count": 45,
     "metadata": {},
     "output_type": "execute_result"
    }
   ],
   "source": [
    "nums = [1, 2, 3, 4, 5]\n",
    "nums[::-1]"
   ]
  },
  {
   "cell_type": "markdown",
   "id": "50ea09f0",
   "metadata": {},
   "source": [
    "### 065\n",
    "interest 리스트에는 아래의 데이터가 바인딩되어 있다."
   ]
  },
  {
   "cell_type": "code",
   "execution_count": 47,
   "id": "db0e54f7",
   "metadata": {},
   "outputs": [],
   "source": [
    "interest = ['삼성전자', 'LG전자', 'Naver']"
   ]
  },
  {
   "cell_type": "code",
   "execution_count": null,
   "id": "029fa28c",
   "metadata": {},
   "outputs": [],
   "source": [
    "list"
   ]
  }
 ],
 "metadata": {
  "kernelspec": {
   "display_name": "Python 3 (ipykernel)",
   "language": "python",
   "name": "python3"
  },
  "language_info": {
   "codemirror_mode": {
    "name": "ipython",
    "version": 3
   },
   "file_extension": ".py",
   "mimetype": "text/x-python",
   "name": "python",
   "nbconvert_exporter": "python",
   "pygments_lexer": "ipython3",
   "version": "3.11.5"
  }
 },
 "nbformat": 4,
 "nbformat_minor": 5
}
