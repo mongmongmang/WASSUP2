{
 "cells": [
  {
   "cell_type": "markdown",
   "id": "03e4bf08",
   "metadata": {},
   "source": [
    "# 03-2 While문"
   ]
  },
  {
   "cell_type": "markdown",
   "id": "eb6f2d03",
   "metadata": {},
   "source": [
    "반복문\n",
    "- for loop?\n",
    "- while 도 속함 ( 범위를 모르거나, 너무 많을 때 사용됨)\n",
    "\n",
    "while문\n",
    "- 증감문 무조건, 아니면 계속 돌아감\n",
    "- *은 실행중"
   ]
  },
  {
   "cell_type": "markdown",
   "id": "9e6907ed",
   "metadata": {},
   "source": [
    "‘열 번 찍어 안 넘어가는 나무 없다’라는 속담을 파이썬 프로그램으로 만들면 다음과 같다."
   ]
  },
  {
   "cell_type": "code",
   "execution_count": null,
   "id": "4223ea75",
   "metadata": {},
   "outputs": [],
   "source": [
    ">>> treeHit = 0               \n",
    ">>> while treeHit < 10:\n",
    "...     treeHit = treeHit +1    #-1도 가능\n",
    "...     print(\"나무를 %d번 찍었습니다.\" % treeHit)\n",
    "...     if treeHit == 10:\n",
    "...         print(\"나무 넘어갑니다.\")  # 이후 10과 같으므로 '종료'"
   ]
  },
  {
   "cell_type": "markdown",
   "id": "119ac485",
   "metadata": {},
   "source": [
    "## while 문 만들기"
   ]
  },
  {
   "cell_type": "code",
   "execution_count": null,
   "id": "2103f07c",
   "metadata": {},
   "outputs": [],
   "source": [
    "prompt = \"\"\"\n",
    "1. Add\n",
    "2. Del\n",
    "3. List\n",
    "4. Quit\n",
    "Enter number: \"\"\""
   ]
  },
  {
   "cell_type": "code",
   "execution_count": null,
   "id": "51160163",
   "metadata": {},
   "outputs": [],
   "source": [
    ">>> number = 0\n",
    ">>> while number != 4:  #4가 아니면 실행해줘\n",
    "...     print(prompt)\n",
    "...     number = int(input())  # 사용자가 인터페이스에서 들어오는 함수 #왜 int???"
   ]
  },
  {
   "cell_type": "markdown",
   "id": "cf3e76e0",
   "metadata": {},
   "source": [
    "### while 문 강제로 빠져나가기"
   ]
  },
  {
   "cell_type": "code",
   "execution_count": null,
   "id": "462d53fe",
   "metadata": {},
   "outputs": [],
   "source": [
    ">>> coffee = 10\n",
    ">>> money = True\n",
    ">>> while money:\n",
    "...     print(\"돈을 받았으니 커피를 줍니다.\")\n",
    "...     coffee = coffee -1\n",
    "...     print(\"남은 커피의 양은 %d개입니다.\" % coffee)\n",
    "\n",
    "...     if coffee == 0:\n",
    "...         print(\"커피가 다 떨어졌습니다. 판매를 중지합니다.\")\n",
    "...         break"
   ]
  },
  {
   "cell_type": "code",
   "execution_count": null,
   "id": "05d2cf9b",
   "metadata": {},
   "outputs": [
    {
     "name": "stdout",
     "output_type": "stream",
     "text": [
      "돈을 넣어 주세요: 300\n",
      "커피를 줍니다.\n",
      "남은 커피의 양은 9개 입니다.\n",
      "돈을 넣어 주세요: 10\n",
      "돈을 다시 돌려주고 커피를 주지 않습니다.\n",
      "남은 커피의 양은 9개 입니다.\n"
     ]
    }
   ],
   "source": [
    "#coffee.py\n",
    "coffee = 10\n",
    "while True:\n",
    "    money = int(input(\"돈을 넣어 주세요: \"))\n",
    "    if money == 300:\n",
    "        print(\"커피를 줍니다.\")\n",
    "        coffee = coffee -1\n",
    "        print(\"남은 커피의 양은 %d개 입니다.\" % coffee)\n",
    "    elif money > 300:\n",
    "        print(\"거스름돈 %d를 주고 커피를 줍니다.\" % (money -300))\n",
    "        coffee = coffee -1\n",
    "        print(\"남은 커피의 양은 %d개 입니다.\" % coffee)\n",
    "    else:\n",
    "        print(\"돈을 다시 돌려주고 커피를 주지 않습니다.\")\n",
    "        print(\"남은 커피의 양은 %d개 입니다.\" % coffee)\n",
    "    if coffee == 0:\n",
    "        print(\"커피가 다 떨어졌습니다. 판매를 중지 합니다.\")\n",
    "        break"
   ]
  },
  {
   "cell_type": "markdown",
   "id": "15af9e75",
   "metadata": {},
   "source": [
    "## while 문의 맨 처음으로 돌아가기"
   ]
  },
  {
   "cell_type": "code",
   "execution_count": null,
   "id": "56b410ba",
   "metadata": {},
   "outputs": [],
   "source": [
    ">>> a = 0\n",
    ">>> while a < 10:\n",
    "...     a = a + 1 #a +=1\n",
    "...     if a % 2 == 0: continue #짝수일 경우 print하지 않고 다시 돌아감\n",
    "...     print(a)  #홀수일때, print"
   ]
  },
  {
   "cell_type": "markdown",
   "id": "3fd8a56f",
   "metadata": {},
   "source": [
    "## 무한 루프"
   ]
  },
  {
   "cell_type": "code",
   "execution_count": null,
   "id": "3ec4c75a",
   "metadata": {},
   "outputs": [],
   "source": [
    "# while True:\n",
    "#     print(\"Ctrl+C를 눌러야 while문을 빠져나갈 수 있습니다.\")"
   ]
  },
  {
   "cell_type": "markdown",
   "id": "04e93bf9",
   "metadata": {},
   "source": [
    "### TIL"
   ]
  },
  {
   "cell_type": "code",
   "execution_count": null,
   "id": "522abb53",
   "metadata": {
    "scrolled": false
   },
   "outputs": [],
   "source": [
    "# 용량이 많아서, 출력 지우기로 저장하면 됌 cell - output-clear\n",
    "# 용량이 많으면, git에 올리기 어려움\n",
    "# git push 100MB\n",
    "# git pull 50MB?\n",
    "\n",
    "num = 0\n",
    "\n",
    "while True:\n",
    "    num += 1\n",
    "    print(num)\n",
    "    if num == 1000:\n",
    "        break"
   ]
  },
  {
   "cell_type": "markdown",
   "id": "77f79809",
   "metadata": {},
   "source": [
    "# 03-3 for문(세계최고 가장 중요)\n",
    "- 파이썬의 직관적인 특징을 가장 잘 보여 주는 것\n",
    "- while 문과 비슷한 반복문인 for 문은 문장 구조가 한눈에 들어옴\n",
    "- 기본적으로 범위가 정해져있음  \n",
    "    (for : 명확한 범위 & while : 끝을 모르고, 해당 조건에 닿을때까지 계속 수집해줘)  \n",
    "#### 교안 27p(기본구조) 참고\n",
    "- 이터러블 객체 (이터블객체란? 시퀀스 객체를 포함)\n",
    "    - 순서가 있는 =  시퀀스 객체\n",
    "    - 순서가 없는 = 딕셔너리 \n",
    "- 그 이후 몰라도됨"
   ]
  },
  {
   "cell_type": "markdown",
   "id": "d873f459",
   "metadata": {},
   "source": [
    "for 변수 in 시퀀스객체(리스트,튜플, 문자열):\n",
    "    수행할_문장1\n",
    "    수행할_문장2\n",
    "    ...\n"
   ]
  },
  {
   "cell_type": "markdown",
   "id": "889e2e28",
   "metadata": {},
   "source": [
    "## 예제를 통해 for 문 이해하기\n",
    "### 1. 전형적인 for 문"
   ]
  },
  {
   "cell_type": "code",
   "execution_count": null,
   "id": "333af4a4",
   "metadata": {},
   "outputs": [],
   "source": [
    ">>> test_list = ['one', 'two', 'three'] \n",
    ">>> for i in test_list:  # 하나씩 뽑아서 추가 처리 , i(임의의 변수 i,z사용)를 위한 것\n",
    "...     print(i)"
   ]
  },
  {
   "cell_type": "markdown",
   "id": "4e1058c8",
   "metadata": {},
   "source": [
    "### 2. 다양한 for 문의 사용"
   ]
  },
  {
   "cell_type": "code",
   "execution_count": null,
   "id": "a319a701",
   "metadata": {},
   "outputs": [],
   "source": [
    ">>> a = [(1,2), (3,4), (5,6)]\n",
    ">>> for i in a:\n",
    "...     print(i)\n"
   ]
  },
  {
   "cell_type": "code",
   "execution_count": null,
   "id": "630a44c4",
   "metadata": {},
   "outputs": [],
   "source": [
    ">>> a = [(1,2), (3,4), (5,6)]\n",
    ">>> for (first, last) in a:\n",
    "...     print(first + last)"
   ]
  },
  {
   "cell_type": "markdown",
   "id": "85f51212",
   "metadata": {},
   "source": [
    "### 3. for 문의 응용(오답)"
   ]
  },
  {
   "cell_type": "markdown",
   "id": "439baee1",
   "metadata": {},
   "source": [
    "총 5명의 학생이 시험을 보았는데  \n",
    "시험 점수가 60점 이상이면 합격이고 그렇지 않으면 불합격이다.  \n",
    "합격인지, 불합격인지 결과를 보여 주시오."
   ]
  },
  {
   "cell_type": "code",
   "execution_count": null,
   "id": "4d5756e7",
   "metadata": {},
   "outputs": [],
   "source": [
    "marks = [90, 25, 67, 45, 80]  #요소를 하나씩 뽑아서 비교해야함 for문\n",
    "for score in marks :\n",
    "    print(score)"
   ]
  },
  {
   "cell_type": "code",
   "execution_count": null,
   "id": "cd3409ae",
   "metadata": {},
   "outputs": [],
   "source": [
    "# marks1.py\n",
    "marks = [90, 25, 67, 45, 80]   # 학생들의 시험 점수 리스트\n",
    "\n",
    "number = 0   # 학생에게 붙여 줄 번호\n",
    "for mark in marks:   # 90, 25, 67, 45, 80을 순서대로 mark에 대입\n",
    "    number = number +1 \n",
    "    if mark >= 60: \n",
    "        print(\"%d번 학생은 합격입니다.\" % number) #f넘버로 바꿔보자\n",
    "    else: \n",
    "        print(\"%d번 학생은 불합격입니다.\" % number)\n"
   ]
  },
  {
   "cell_type": "markdown",
   "id": "bd3f7d17",
   "metadata": {},
   "source": [
    "### continue 문\n",
    "- [꿀팁] 구조를 짤때, 전제를 먼저 정해야함 (누구를 걸을것이냐??)"
   ]
  },
  {
   "cell_type": "markdown",
   "id": "7c86f6e4",
   "metadata": {},
   "source": [
    " 60점 이상인 사람에게는 축하 메시지를 보내고 나머지 사람에게는 아무런 메시지도 전하지 않는"
   ]
  },
  {
   "cell_type": "code",
   "execution_count": null,
   "id": "db1f2b9b",
   "metadata": {},
   "outputs": [],
   "source": [
    "# marks2.py\n",
    "marks = [90, 25, 67, 45, 80]\n",
    "\n",
    "number = 0 \n",
    "for mark in marks: \n",
    "    number = number +1 \n",
    "    if mark < 60:\n",
    "        continue \n",
    "    print(\"%d번 학생 축하합니다. 합격입니다. \" % number) #대전제\n"
   ]
  },
  {
   "cell_type": "markdown",
   "id": "62519a2a",
   "metadata": {},
   "source": [
    "###  range 함수"
   ]
  },
  {
   "cell_type": "code",
   "execution_count": null,
   "id": "e8fe34ce",
   "metadata": {},
   "outputs": [],
   "source": [
    "range?"
   ]
  },
  {
   "cell_type": "code",
   "execution_count": null,
   "id": "a6c49d12",
   "metadata": {},
   "outputs": [],
   "source": [
    ">>> a = range(10)\n",
    ">>> a\n",
    "range(0, 10)\n",
    "\n"
   ]
  },
  {
   "cell_type": "code",
   "execution_count": null,
   "id": "e44efafa",
   "metadata": {},
   "outputs": [],
   "source": [
    ">>> a = range(1, 11)\n",
    ">>> a\n",
    "range(1, 11)\n"
   ]
  },
  {
   "cell_type": "markdown",
   "id": "90f8c03d",
   "metadata": {},
   "source": [
    "### range 함수의 예시 살펴보기"
   ]
  },
  {
   "cell_type": "code",
   "execution_count": null,
   "id": "fb3729dd",
   "metadata": {},
   "outputs": [],
   "source": [
    ">>> add = 0 \n",
    ">>> for i in range(1, 11): \n",
    "...     add = add + i \n",
    "... \n",
    ">>> print(add)"
   ]
  },
  {
   "cell_type": "code",
   "execution_count": null,
   "id": "6e02c6b2",
   "metadata": {},
   "outputs": [],
   "source": [
    "# marks3.py\n",
    "marks = [90, 25, 67, 45, 80]\n",
    "for number in range(len(marks)):\n",
    "    if marks[number] < 60: \n",
    "        continue\n",
    "    print(\"%d번 학생 축하합니다. 합격입니다.\" % (number+1))\n"
   ]
  },
  {
   "cell_type": "markdown",
   "id": "4d04b269",
   "metadata": {},
   "source": [
    "### TIL마트가서 우유사고 만약에 아보카도있으면 6개 사와"
   ]
  },
  {
   "cell_type": "code",
   "execution_count": null,
   "id": "cb42c1c6",
   "metadata": {},
   "outputs": [],
   "source": [
    "buy = ['milk']\n",
    "mart = ['milk', 'avokado', 'banana']\n",
    "\n",
    "if mart:\n",
    "    if 'avokado' in mart:\n",
    "        print('milk'*6)\n",
    "    "
   ]
  },
  {
   "cell_type": "markdown",
   "id": "a496316a",
   "metadata": {},
   "source": [
    "shift tab (전체 드래그로도 가능)\n",
    "tab\n",
    "스페이스 4"
   ]
  },
  {
   "cell_type": "code",
   "execution_count": null,
   "id": "54c6f1ae",
   "metadata": {},
   "outputs": [],
   "source": []
  }
 ],
 "metadata": {
  "kernelspec": {
   "display_name": "Python 3 (ipykernel)",
   "language": "python",
   "name": "python3"
  },
  "language_info": {
   "codemirror_mode": {
    "name": "ipython",
    "version": 3
   },
   "file_extension": ".py",
   "mimetype": "text/x-python",
   "name": "python",
   "nbconvert_exporter": "python",
   "pygments_lexer": "ipython3",
   "version": "3.11.5"
  }
 },
 "nbformat": 4,
 "nbformat_minor": 5
}
