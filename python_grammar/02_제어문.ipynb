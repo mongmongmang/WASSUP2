{
 "cells": [
  {
   "cell_type": "markdown",
   "id": "03e4bf08",
   "metadata": {},
   "source": [
    "# 03-2 While문"
   ]
  },
  {
   "cell_type": "markdown",
   "id": "eb6f2d03",
   "metadata": {},
   "source": [
    "반복문\n",
    "- for loop?\n",
    "- while 도 속함 ( 범위를 모르거나, 너무 많을 때 사용됨)\n",
    "\n",
    "while문\n",
    "- 증감문 무조건, 아니면 계속 돌아감\n",
    "- *은 실행중"
   ]
  },
  {
   "cell_type": "markdown",
   "id": "9e6907ed",
   "metadata": {},
   "source": [
    "‘열 번 찍어 안 넘어가는 나무 없다’라는 속담을 파이썬 프로그램으로 만들면 다음과 같다."
   ]
  },
  {
   "cell_type": "code",
   "execution_count": 4,
   "id": "4223ea75",
   "metadata": {},
   "outputs": [
    {
     "name": "stdout",
     "output_type": "stream",
     "text": [
      "나무를 1번 찍었습니다.\n",
      "나무를 2번 찍었습니다.\n",
      "나무를 3번 찍었습니다.\n",
      "나무를 4번 찍었습니다.\n",
      "나무를 5번 찍었습니다.\n",
      "나무를 6번 찍었습니다.\n",
      "나무를 7번 찍었습니다.\n",
      "나무를 8번 찍었습니다.\n",
      "나무를 9번 찍었습니다.\n",
      "나무를 10번 찍었습니다.\n",
      "나무 넘어갑니다.\n"
     ]
    }
   ],
   "source": [
    ">>> treeHit = 0               \n",
    ">>> while treeHit < 10:\n",
    "...     treeHit = treeHit +1    \n",
    "...     print(\"나무를 %d번 찍었습니다.\" % treeHit)\n",
    "...     if treeHit == 10:\n",
    "...         print(\"나무 넘어갑니다.\")  # 이후 10과 같으므로 '종료'"
   ]
  },
  {
   "cell_type": "markdown",
   "id": "119ac485",
   "metadata": {},
   "source": [
    "## while 문 만들기"
   ]
  },
  {
   "cell_type": "code",
   "execution_count": 15,
   "id": "2103f07c",
   "metadata": {},
   "outputs": [],
   "source": [
    "prompt = \"\"\"\n",
    "1. Add\n",
    "2. Del\n",
    "3. List\n",
    "4. Quit\n",
    "Enter number: \"\"\""
   ]
  },
  {
   "cell_type": "code",
   "execution_count": 16,
   "id": "51160163",
   "metadata": {},
   "outputs": [
    {
     "name": "stdout",
     "output_type": "stream",
     "text": [
      "\n",
      "1. Add\n",
      "2. Del\n",
      "3. List\n",
      "4. Quit\n",
      "Enter number: \n",
      "4\n"
     ]
    }
   ],
   "source": [
    ">>> number = 0\n",
    ">>> while number != 4:  #4가 아니면 실행해줘\n",
    "...     print(prompt)\n",
    "...     number = int(input())  # 사용자가 인터페이스에서 들어오는 함수 #왜 int???"
   ]
  },
  {
   "cell_type": "markdown",
   "id": "cf3e76e0",
   "metadata": {},
   "source": [
    "### while 문 강제로 빠져나가기"
   ]
  },
  {
   "cell_type": "code",
   "execution_count": 12,
   "id": "462d53fe",
   "metadata": {},
   "outputs": [
    {
     "name": "stdout",
     "output_type": "stream",
     "text": [
      "돈을 받았으니 커피를 줍니다.\n",
      "남은 커피의 양은 9개입니다.\n",
      "돈을 받았으니 커피를 줍니다.\n",
      "남은 커피의 양은 8개입니다.\n",
      "돈을 받았으니 커피를 줍니다.\n",
      "남은 커피의 양은 7개입니다.\n",
      "돈을 받았으니 커피를 줍니다.\n",
      "남은 커피의 양은 6개입니다.\n",
      "돈을 받았으니 커피를 줍니다.\n",
      "남은 커피의 양은 5개입니다.\n",
      "돈을 받았으니 커피를 줍니다.\n",
      "남은 커피의 양은 4개입니다.\n",
      "돈을 받았으니 커피를 줍니다.\n",
      "남은 커피의 양은 3개입니다.\n",
      "돈을 받았으니 커피를 줍니다.\n",
      "남은 커피의 양은 2개입니다.\n",
      "돈을 받았으니 커피를 줍니다.\n",
      "남은 커피의 양은 1개입니다.\n",
      "돈을 받았으니 커피를 줍니다.\n",
      "남은 커피의 양은 0개입니다.\n",
      "커피가 다 떨어졌습니다. 판매를 중지합니다.\n"
     ]
    }
   ],
   "source": [
    ">>> coffee = 10\n",
    ">>> money = True\n",
    ">>> while money:\n",
    "...     print(\"돈을 받았으니 커피를 줍니다.\")\n",
    "...     coffee = coffee -1\n",
    "...     print(\"남은 커피의 양은 %d개입니다.\" % coffee)\n",
    "\n",
    "...     if coffee == 0:\n",
    "...         print(\"커피가 다 떨어졌습니다. 판매를 중지합니다.\")\n",
    "...         break"
   ]
  },
  {
   "cell_type": "code",
   "execution_count": 14,
   "id": "05d2cf9b",
   "metadata": {},
   "outputs": [
    {
     "ename": "KeyboardInterrupt",
     "evalue": "Interrupted by user",
     "output_type": "error",
     "traceback": [
      "\u001b[1;31m---------------------------------------------------------------------------\u001b[0m",
      "\u001b[1;31mKeyboardInterrupt\u001b[0m                         Traceback (most recent call last)",
      "Cell \u001b[1;32mIn[14], line 3\u001b[0m\n\u001b[0;32m      1\u001b[0m coffee \u001b[38;5;241m=\u001b[39m \u001b[38;5;241m10\u001b[39m\n\u001b[0;32m      2\u001b[0m \u001b[38;5;28;01mwhile\u001b[39;00m \u001b[38;5;28;01mTrue\u001b[39;00m:\n\u001b[1;32m----> 3\u001b[0m     money \u001b[38;5;241m=\u001b[39m \u001b[38;5;28mint\u001b[39m(\u001b[38;5;28minput\u001b[39m(\u001b[38;5;124m\"\u001b[39m\u001b[38;5;124m돈을 넣어 주세요: \u001b[39m\u001b[38;5;124m\"\u001b[39m))\n\u001b[0;32m      4\u001b[0m     \u001b[38;5;28;01mif\u001b[39;00m money \u001b[38;5;241m==\u001b[39m \u001b[38;5;241m300\u001b[39m:\n\u001b[0;32m      5\u001b[0m         \u001b[38;5;28mprint\u001b[39m(\u001b[38;5;124m\"\u001b[39m\u001b[38;5;124m커피를 줍니다.\u001b[39m\u001b[38;5;124m\"\u001b[39m)\n",
      "File \u001b[1;32m~\\anaconda3\\Lib\\site-packages\\ipykernel\\kernelbase.py:1202\u001b[0m, in \u001b[0;36mKernel.raw_input\u001b[1;34m(self, prompt)\u001b[0m\n\u001b[0;32m   1200\u001b[0m     msg \u001b[38;5;241m=\u001b[39m \u001b[38;5;124m\"\u001b[39m\u001b[38;5;124mraw_input was called, but this frontend does not support input requests.\u001b[39m\u001b[38;5;124m\"\u001b[39m\n\u001b[0;32m   1201\u001b[0m     \u001b[38;5;28;01mraise\u001b[39;00m StdinNotImplementedError(msg)\n\u001b[1;32m-> 1202\u001b[0m \u001b[38;5;28;01mreturn\u001b[39;00m \u001b[38;5;28mself\u001b[39m\u001b[38;5;241m.\u001b[39m_input_request(\n\u001b[0;32m   1203\u001b[0m     \u001b[38;5;28mstr\u001b[39m(prompt),\n\u001b[0;32m   1204\u001b[0m     \u001b[38;5;28mself\u001b[39m\u001b[38;5;241m.\u001b[39m_parent_ident[\u001b[38;5;124m\"\u001b[39m\u001b[38;5;124mshell\u001b[39m\u001b[38;5;124m\"\u001b[39m],\n\u001b[0;32m   1205\u001b[0m     \u001b[38;5;28mself\u001b[39m\u001b[38;5;241m.\u001b[39mget_parent(\u001b[38;5;124m\"\u001b[39m\u001b[38;5;124mshell\u001b[39m\u001b[38;5;124m\"\u001b[39m),\n\u001b[0;32m   1206\u001b[0m     password\u001b[38;5;241m=\u001b[39m\u001b[38;5;28;01mFalse\u001b[39;00m,\n\u001b[0;32m   1207\u001b[0m )\n",
      "File \u001b[1;32m~\\anaconda3\\Lib\\site-packages\\ipykernel\\kernelbase.py:1245\u001b[0m, in \u001b[0;36mKernel._input_request\u001b[1;34m(self, prompt, ident, parent, password)\u001b[0m\n\u001b[0;32m   1242\u001b[0m \u001b[38;5;28;01mexcept\u001b[39;00m \u001b[38;5;167;01mKeyboardInterrupt\u001b[39;00m:\n\u001b[0;32m   1243\u001b[0m     \u001b[38;5;66;03m# re-raise KeyboardInterrupt, to truncate traceback\u001b[39;00m\n\u001b[0;32m   1244\u001b[0m     msg \u001b[38;5;241m=\u001b[39m \u001b[38;5;124m\"\u001b[39m\u001b[38;5;124mInterrupted by user\u001b[39m\u001b[38;5;124m\"\u001b[39m\n\u001b[1;32m-> 1245\u001b[0m     \u001b[38;5;28;01mraise\u001b[39;00m \u001b[38;5;167;01mKeyboardInterrupt\u001b[39;00m(msg) \u001b[38;5;28;01mfrom\u001b[39;00m \u001b[38;5;28;01mNone\u001b[39;00m\n\u001b[0;32m   1246\u001b[0m \u001b[38;5;28;01mexcept\u001b[39;00m \u001b[38;5;167;01mException\u001b[39;00m:\n\u001b[0;32m   1247\u001b[0m     \u001b[38;5;28mself\u001b[39m\u001b[38;5;241m.\u001b[39mlog\u001b[38;5;241m.\u001b[39mwarning(\u001b[38;5;124m\"\u001b[39m\u001b[38;5;124mInvalid Message:\u001b[39m\u001b[38;5;124m\"\u001b[39m, exc_info\u001b[38;5;241m=\u001b[39m\u001b[38;5;28;01mTrue\u001b[39;00m)\n",
      "\u001b[1;31mKeyboardInterrupt\u001b[0m: Interrupted by user"
     ]
    }
   ],
   "source": [
    "coffee = 10\n",
    "while True:\n",
    "    money = int(input(\"돈을 넣어 주세요: \"))\n",
    "    if money == 300:\n",
    "        print(\"커피를 줍니다.\")\n",
    "        coffee = coffee -1\n",
    "        print(\"남은 커피의 양은 %d개 입니다.\" % coffee)\n",
    "    elif money > 300:\n",
    "        print(\"거스름돈 %d를 주고 커피를 줍니다.\" % (money -300))\n",
    "        coffee = coffee -1\n",
    "        print(\"남은 커피의 양은 %d개 입니다.\" % coffee)\n",
    "    else:\n",
    "        print(\"돈을 다시 돌려주고 커피를 주지 않습니다.\")\n",
    "        print(\"남은 커피의 양은 %d개 입니다.\" % coffee)\n",
    "    if coffee == 0:\n",
    "        print(\"커피가 다 떨어졌습니다. 판매를 중지 합니다.\")\n",
    "        break"
   ]
  },
  {
   "cell_type": "markdown",
   "id": "15af9e75",
   "metadata": {},
   "source": [
    "## while 문의 맨 처음으로 돌아가기"
   ]
  },
  {
   "cell_type": "code",
   "execution_count": 19,
   "id": "56b410ba",
   "metadata": {},
   "outputs": [
    {
     "name": "stdout",
     "output_type": "stream",
     "text": [
      "1\n",
      "3\n",
      "5\n",
      "7\n",
      "9\n"
     ]
    }
   ],
   "source": [
    ">>> a = 0\n",
    ">>> while a < 10:\n",
    "...     a = a + 1 #a +=1\n",
    "...     if a % 2 == 0: continue #짝수일 경우 print하지 않고 다시 돌아감\n",
    "...     print(a)  #홀수일때, print"
   ]
  },
  {
   "cell_type": "markdown",
   "id": "3fd8a56f",
   "metadata": {},
   "source": [
    "## 무한 루프"
   ]
  },
  {
   "cell_type": "code",
   "execution_count": null,
   "id": "3ec4c75a",
   "metadata": {},
   "outputs": [],
   "source": [
    "# while True:\n",
    "#     print(\"Ctrl+C를 눌러야 while문을 빠져나갈 수 있습니다.\")"
   ]
  },
  {
   "cell_type": "markdown",
   "id": "77f79809",
   "metadata": {},
   "source": [
    "# 03-3 for문(세계최고 가장 중요)\n",
    "- 파이썬의 직관적인 특징을 가장 잘 보여 주는 것\n",
    "- while 문과 비슷한 반복문인 for 문은 문장 구조가 한눈에 들어옴\n",
    "- 기본적으로 범위가 정해져있음  \n",
    "    (for : 명확한 범위 & while : 끝을 모르고, 해당 조건에 닿을때까지 계속 수집해줘)  \n",
    "#### 교안 27p(기본구조) 참고\n",
    "- 이터러블 객체 (이터블객체란? 시퀀스 객체를 포함)\n",
    "    - 순서가 있는 =  시퀀스 객체\n",
    "    - 순서가 없는 = 딕셔너리 \n",
    "- 그 이후 몰라도됨"
   ]
  },
  {
   "cell_type": "markdown",
   "id": "d873f459",
   "metadata": {},
   "source": [
    "for 변수 in 시퀀스객체(리스트,튜플, 문자열):\n",
    "    수행할_문장1\n",
    "    수행할_문장2\n",
    "    ...\n"
   ]
  },
  {
   "cell_type": "markdown",
   "id": "889e2e28",
   "metadata": {},
   "source": [
    "## 예제를 통해 for 문 이해하기\n",
    "### 1. 전형적인 for 문"
   ]
  },
  {
   "cell_type": "code",
   "execution_count": 24,
   "id": "333af4a4",
   "metadata": {},
   "outputs": [
    {
     "name": "stdout",
     "output_type": "stream",
     "text": [
      "one\n",
      "two\n",
      "three\n"
     ]
    }
   ],
   "source": [
    ">>> test_list = ['one', 'two', 'three'] \n",
    ">>> for i in test_list:  # 하나씩 뽑아서 추가 처리 , i(임의의 변수 i,z사용)를 위한 것\n",
    "...     print(i)"
   ]
  },
  {
   "cell_type": "markdown",
   "id": "4e1058c8",
   "metadata": {},
   "source": [
    "### 2. 다양한 for 문의 사용"
   ]
  },
  {
   "cell_type": "code",
   "execution_count": 26,
   "id": "a319a701",
   "metadata": {},
   "outputs": [
    {
     "name": "stdout",
     "output_type": "stream",
     "text": [
      "(1, 2)\n",
      "(3, 4)\n",
      "(5, 6)\n"
     ]
    }
   ],
   "source": [
    ">>> a = [(1,2), (3,4), (5,6)]\n",
    ">>> for i in a:\n",
    "...     print(i)\n"
   ]
  },
  {
   "cell_type": "code",
   "execution_count": 29,
   "id": "630a44c4",
   "metadata": {},
   "outputs": [
    {
     "name": "stdout",
     "output_type": "stream",
     "text": [
      "3\n",
      "7\n",
      "11\n"
     ]
    }
   ],
   "source": [
    ">>> a = [(1,2), (3,4), (5,6)]\n",
    ">>> for (first, last) in a:\n",
    "...     print(first + last)"
   ]
  },
  {
   "cell_type": "markdown",
   "id": "85f51212",
   "metadata": {},
   "source": [
    "### 3. for 문의 응용(오답)"
   ]
  },
  {
   "cell_type": "markdown",
   "id": "439baee1",
   "metadata": {},
   "source": [
    "총 5명의 학생이 시험을 보았는데  \n",
    "시험 점수가 60점 이상이면 합격이고 그렇지 않으면 불합격이다.  \n",
    "합격인지, 불합격인지 결과를 보여 주시오."
   ]
  },
  {
   "cell_type": "code",
   "execution_count": 32,
   "id": "4d5756e7",
   "metadata": {},
   "outputs": [
    {
     "name": "stdout",
     "output_type": "stream",
     "text": [
      "90\n",
      "25\n",
      "67\n",
      "45\n",
      "80\n"
     ]
    }
   ],
   "source": [
    "marks = [90, 25, 67, 45, 80]  #요소를 하나씩 뽑아서 비교해야함 for문\n",
    "for score in marks :\n",
    "    print(score)"
   ]
  },
  {
   "cell_type": "code",
   "execution_count": 35,
   "id": "cd3409ae",
   "metadata": {},
   "outputs": [
    {
     "name": "stdout",
     "output_type": "stream",
     "text": [
      "1번 학생은 합격입니다.\n",
      "2번 학생은 불합격입니다.\n",
      "3번 학생은 합격입니다.\n",
      "4번 학생은 불합격입니다.\n",
      "5번 학생은 합격입니다.\n"
     ]
    }
   ],
   "source": [
    "# marks1.py\n",
    "marks = [90, 25, 67, 45, 80]   # 학생들의 시험 점수 리스트\n",
    "\n",
    "number = 0   # 학생에게 붙여 줄 번호\n",
    "for mark in marks:   # 90, 25, 67, 45, 80을 순서대로 mark에 대입\n",
    "    number = number +1 \n",
    "    if mark >= 60: \n",
    "        print(\"%d번 학생은 합격입니다.\" % number) #f넘버로 바꿔보자\n",
    "    else: \n",
    "        print(\"%d번 학생은 불합격입니다.\" % number)\n"
   ]
  },
  {
   "cell_type": "markdown",
   "id": "bd3f7d17",
   "metadata": {},
   "source": [
    "### continue 문\n",
    "- [꿀팁] 구조를 짤때, 전제를 먼저 정해야함 (누구를 걸을것이냐??)"
   ]
  },
  {
   "cell_type": "markdown",
   "id": "7c86f6e4",
   "metadata": {},
   "source": [
    " 60점 이상인 사람에게는 축하 메시지를 보내고 나머지 사람에게는 아무런 메시지도 전하지 않는"
   ]
  },
  {
   "cell_type": "code",
   "execution_count": 37,
   "id": "db1f2b9b",
   "metadata": {},
   "outputs": [
    {
     "name": "stdout",
     "output_type": "stream",
     "text": [
      "1번 학생 축하합니다. 합격입니다. \n",
      "3번 학생 축하합니다. 합격입니다. \n",
      "5번 학생 축하합니다. 합격입니다. \n"
     ]
    }
   ],
   "source": [
    "# marks2.py\n",
    "marks = [90, 25, 67, 45, 80]\n",
    "\n",
    "number = 0 \n",
    "for mark in marks: \n",
    "    number = number +1 \n",
    "    if mark < 60:\n",
    "        continue \n",
    "    print(\"%d번 학생 축하합니다. 합격입니다. \" % number) #대전제\n"
   ]
  },
  {
   "cell_type": "markdown",
   "id": "62519a2a",
   "metadata": {},
   "source": [
    "###  range 함수"
   ]
  },
  {
   "cell_type": "code",
   "execution_count": 38,
   "id": "e8fe34ce",
   "metadata": {},
   "outputs": [],
   "source": [
    "range?"
   ]
  },
  {
   "cell_type": "code",
   "execution_count": 39,
   "id": "a6c49d12",
   "metadata": {},
   "outputs": [
    {
     "data": {
      "text/plain": [
       "range(0, 10)"
      ]
     },
     "execution_count": 39,
     "metadata": {},
     "output_type": "execute_result"
    }
   ],
   "source": [
    ">>> a = range(10)\n",
    ">>> a\n",
    "range(0, 10)\n",
    "\n"
   ]
  },
  {
   "cell_type": "code",
   "execution_count": 40,
   "id": "e44efafa",
   "metadata": {},
   "outputs": [
    {
     "data": {
      "text/plain": [
       "range(1, 11)"
      ]
     },
     "execution_count": 40,
     "metadata": {},
     "output_type": "execute_result"
    }
   ],
   "source": [
    ">>> a = range(1, 11)\n",
    ">>> a\n",
    "range(1, 11)\n"
   ]
  },
  {
   "cell_type": "markdown",
   "id": "90f8c03d",
   "metadata": {},
   "source": [
    "### range 함수의 예시 살펴보기"
   ]
  },
  {
   "cell_type": "code",
   "execution_count": 44,
   "id": "fb3729dd",
   "metadata": {},
   "outputs": [
    {
     "name": "stdout",
     "output_type": "stream",
     "text": [
      "55\n"
     ]
    }
   ],
   "source": [
    ">>> add = 0 \n",
    ">>> for i in range(1, 11): \n",
    "...     add = add + i \n",
    "... \n",
    ">>> print(add)"
   ]
  },
  {
   "cell_type": "code",
   "execution_count": 45,
   "id": "6e02c6b2",
   "metadata": {},
   "outputs": [
    {
     "name": "stdout",
     "output_type": "stream",
     "text": [
      "1번 학생 축하합니다. 합격입니다.\n",
      "3번 학생 축하합니다. 합격입니다.\n",
      "5번 학생 축하합니다. 합격입니다.\n"
     ]
    }
   ],
   "source": [
    "# marks3.py\n",
    "marks = [90, 25, 67, 45, 80]\n",
    "for number in range(len(marks)):\n",
    "    if marks[number] < 60: \n",
    "        continue\n",
    "    print(\"%d번 학생 축하합니다. 합격입니다.\" % (number+1))\n"
   ]
  },
  {
   "cell_type": "code",
   "execution_count": null,
   "id": "51c4462f",
   "metadata": {},
   "outputs": [],
   "source": []
  }
 ],
 "metadata": {
  "kernelspec": {
   "display_name": "Python 3 (ipykernel)",
   "language": "python",
   "name": "python3"
  },
  "language_info": {
   "codemirror_mode": {
    "name": "ipython",
    "version": 3
   },
   "file_extension": ".py",
   "mimetype": "text/x-python",
   "name": "python",
   "nbconvert_exporter": "python",
   "pygments_lexer": "ipython3",
   "version": "3.11.5"
  }
 },
 "nbformat": 4,
 "nbformat_minor": 5
}
