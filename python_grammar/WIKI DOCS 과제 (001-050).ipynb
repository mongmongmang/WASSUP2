{
 "cells": [
  {
   "cell_type": "markdown",
   "id": "77c95468",
   "metadata": {},
   "source": [
    "# WIKI DOCS 과제(001 ~ 050)"
   ]
  },
  {
   "cell_type": "markdown",
   "id": "557169c9",
   "metadata": {},
   "source": [
    "# [오답 정리]\n",
    "### 028 문자열은 immutable (오답)\n",
    "Q. 아래 코드의 실행 결과를 예상해보세요.\n",
    "\n",
    "> lang = 'python'  \n",
    "> lang[0] = 'P'  \n",
    "> print(lang)  "
   ]
  },
  {
   "cell_type": "markdown",
   "id": "de47af92",
   "metadata": {},
   "source": [
    "### 034 문자열 곱하기 (오답)\n",
    "\n",
    "변수에 다음과 같은 문자열이 바인딩되어 있습니다.\n",
    "\n",
    "> t1 = 'python'\n",
    "> \n",
    "> \n",
    "> t2 = 'java'\n",
    "> \n",
    "\n",
    "변수에 문자열 더하기와 문자열 곱하기를 사용해서 아래와 같이 출력해보세요.\n",
    "\n",
    "실행 예:python java python java python java python java"
   ]
  },
  {
   "cell_type": "markdown",
   "id": "c2ccb6cf",
   "metadata": {},
   "source": [
    "### 035 문자열 출력(오답)\n",
    "\n",
    "변수에 다음과 같이 문자열과 정수가 바인딩되어 있을 때 % formatting을 사용해서 다음과 같이 출력해보세요.\n",
    "\n",
    "> name1 = \"김민수\"\n",
    "> \n",
    "> \n",
    "> age1 = 10\n",
    "> \n",
    "> name2 = \"이철희\"\n",
    "> \n",
    "> age2 = 13\n",
    "> \n",
    "\n",
    "> 이름: 김민수 나이: 10\n",
    "> \n",
    "> \n",
    "> 이름: 이철희 나이: 13\n",
    ">"
   ]
  },
  {
   "cell_type": "markdown",
   "id": "6b8bcaf4",
   "metadata": {},
   "source": [
    "### 036 문자열 출력 (오답)\n",
    "\n",
    "문자열의 format( ) 메서드를 사용해서 035번 문제를 다시 풀어보세요."
   ]
  },
  {
   "cell_type": "markdown",
   "id": "c14bbda6",
   "metadata": {},
   "source": [
    "### 037 문자열 출력 (오답)\n",
    "\n",
    "파이썬 3.6부터 지원하는 f-string을 사용해서 035번 문제를 다시 풀어보세요.\n",
    "\n",
    "> f-string은 문자열 앞에 f가 붙은 형태입니다.\n",
    "> \n",
    "> \n",
    "> f-string을 사용하면 `{변수}`와 같은 형태로 문자열 사이에 타입과 상관없이 값을 출력할 수 있습니다.\n",
    ">"
   ]
  },
  {
   "cell_type": "markdown",
   "id": "59773677",
   "metadata": {},
   "source": [
    "### 038 컴마 제거하기\n",
    "\n",
    "Q. 삼성전자의 상장주식수가 다음과 같습니다. 컴마를 제거한 후 이를 정수 타입으로 변환해보세요.\n",
    "\n",
    "상장주식수 = \"5,969,782,550\""
   ]
  },
  {
   "cell_type": "markdown",
   "id": "70bec83d",
   "metadata": {},
   "source": [
    "### 040 strip 메서드(오답은 아닌데, strip?)\n",
    "\n",
    "문자열의 좌우의 공백이 있을 때 이를 제거해보세요.\n",
    "\n",
    "data = \"   삼성전자    \"\n"
   ]
  },
  {
   "cell_type": "markdown",
   "id": "35fc69d3",
   "metadata": {},
   "source": [
    "### 045 endswith 메서드 (오답:()이해안감)\n",
    "\n",
    "파일 이름이 문자열로 저장되어 있을 때 endswith 메서드를 사용해서 파일 이름이 'xlsx' 또는 'xls'로 끝나는지 확인해보세요.\n",
    "\n",
    "file_name = \"보고서.xlsx\""
   ]
  },
  {
   "cell_type": "markdown",
   "id": "241ff571",
   "metadata": {},
   "source": [
    "--------------------------------------------------------------------------------"
   ]
  },
  {
   "cell_type": "markdown",
   "id": "d8254f81",
   "metadata": {},
   "source": [
    "## 1. 파이썬 시작하기(001 ~ 010)"
   ]
  },
  {
   "cell_type": "markdown",
   "id": "5facf9f4",
   "metadata": {},
   "source": [
    "### 001"
   ]
  },
  {
   "cell_type": "code",
   "execution_count": 21,
   "id": "1641708f",
   "metadata": {},
   "outputs": [
    {
     "name": "stdout",
     "output_type": "stream",
     "text": [
      "Hello Work\n"
     ]
    }
   ],
   "source": [
    "print (\"Hello Work\")"
   ]
  },
  {
   "cell_type": "markdown",
   "id": "ea91c6e7",
   "metadata": {},
   "source": [
    "### 002"
   ]
  },
  {
   "cell_type": "code",
   "execution_count": 6,
   "id": "890268d4",
   "metadata": {
    "scrolled": true
   },
   "outputs": [
    {
     "name": "stdout",
     "output_type": "stream",
     "text": [
      "Mary's comestics\n"
     ]
    }
   ],
   "source": [
    "print (\"Mary's comestics\")"
   ]
  },
  {
   "cell_type": "markdown",
   "id": "1b807b3c",
   "metadata": {},
   "source": [
    "### 003"
   ]
  },
  {
   "cell_type": "code",
   "execution_count": 7,
   "id": "d3fd4ab4",
   "metadata": {},
   "outputs": [
    {
     "name": "stdout",
     "output_type": "stream",
     "text": [
      "신씨가 소리질렀다. \"도둑이야!\"\n"
     ]
    }
   ],
   "source": [
    "print ('신씨가 소리질렀다. \"도둑이야!\"')"
   ]
  },
  {
   "cell_type": "markdown",
   "id": "86eee52f",
   "metadata": {},
   "source": [
    "### 004"
   ]
  },
  {
   "cell_type": "code",
   "execution_count": 9,
   "id": "8780cf69",
   "metadata": {},
   "outputs": [
    {
     "name": "stdout",
     "output_type": "stream",
     "text": [
      "C:\\Windows\n"
     ]
    }
   ],
   "source": [
    "print (\"C:\\Windows\")"
   ]
  },
  {
   "cell_type": "markdown",
   "id": "788cb59f",
   "metadata": {},
   "source": [
    "### 005"
   ]
  },
  {
   "cell_type": "code",
   "execution_count": 36,
   "id": "ae354612",
   "metadata": {},
   "outputs": [
    {
     "name": "stdout",
     "output_type": "stream",
     "text": [
      "안녕하세요.\n",
      "만나서\t\t반갑습니다 \n",
      "\n"
     ]
    }
   ],
   "source": [
    "print(\"안녕하세요.\\n만나서\\t\\t반갑습니다 \\n\")"
   ]
  },
  {
   "cell_type": "markdown",
   "id": "6d77653c",
   "metadata": {},
   "source": [
    "\\n은 enter기능, \\t는 tab 기능을 의미합니다."
   ]
  },
  {
   "cell_type": "markdown",
   "id": "011d4254",
   "metadata": {},
   "source": [
    "### 006"
   ]
  },
  {
   "cell_type": "code",
   "execution_count": 82,
   "id": "90446351",
   "metadata": {},
   "outputs": [
    {
     "name": "stdout",
     "output_type": "stream",
     "text": [
      "오늘은 일요일\n"
     ]
    }
   ],
   "source": [
    "print (\"오늘은\", \"일요일\")\n",
    "#띄어쓰기 default"
   ]
  },
  {
   "cell_type": "markdown",
   "id": "dd0fa5e4",
   "metadata": {},
   "source": [
    "### 007"
   ]
  },
  {
   "cell_type": "code",
   "execution_count": 44,
   "id": "a553e75f",
   "metadata": {},
   "outputs": [
    {
     "name": "stdout",
     "output_type": "stream",
     "text": [
      "naver;kakao;sk;samsung\n"
     ]
    }
   ],
   "source": [
    "print (\"naver\", \"kakao\", \"sk\",\"samsung\", sep = ';')"
   ]
  },
  {
   "cell_type": "markdown",
   "id": "25156112",
   "metadata": {},
   "source": [
    "### 008"
   ]
  },
  {
   "cell_type": "code",
   "execution_count": 45,
   "id": "d48d5282",
   "metadata": {},
   "outputs": [
    {
     "name": "stdout",
     "output_type": "stream",
     "text": [
      "naver/kakao/sk/samsung\n"
     ]
    }
   ],
   "source": [
    "print (\"naver\", \"kakao\", \"sk\",\"samsung\", sep = '/')"
   ]
  },
  {
   "cell_type": "markdown",
   "id": "3547e10e",
   "metadata": {},
   "source": [
    "### 009 "
   ]
  },
  {
   "cell_type": "code",
   "execution_count": 61,
   "id": "185fcd4b",
   "metadata": {},
   "outputs": [
    {
     "name": "stdout",
     "output_type": "stream",
     "text": [
      "first second\n",
      "first second\n"
     ]
    }
   ],
   "source": [
    "print(\"first\", \"second\")\n",
    "print(\"first\", end=\" \");print(\"second\")\n",
    "#;는 한줄에 여러개의 명령어 작성 가능"
   ]
  },
  {
   "cell_type": "markdown",
   "id": "5e576834",
   "metadata": {},
   "source": [
    "### 010"
   ]
  },
  {
   "cell_type": "code",
   "execution_count": 57,
   "id": "1e6f2017",
   "metadata": {},
   "outputs": [
    {
     "name": "stdout",
     "output_type": "stream",
     "text": [
      "1.6666666666666667\n"
     ]
    }
   ],
   "source": [
    "print(5/3)"
   ]
  },
  {
   "cell_type": "markdown",
   "id": "62097426",
   "metadata": {},
   "source": [
    "## 2. 파이썬 변수(011 ~ 020)"
   ]
  },
  {
   "cell_type": "markdown",
   "id": "46bb0068",
   "metadata": {},
   "source": [
    "### 011\n",
    "삼성전자라는 변수로 50,000원을 바인딩해보세요.  \n",
    "삼성전자 주식 10주를 보유하고 있을 때 총 평가금액을 출력하세요."
   ]
  },
  {
   "cell_type": "code",
   "execution_count": 69,
   "id": "84a3496c",
   "metadata": {},
   "outputs": [
    {
     "name": "stdout",
     "output_type": "stream",
     "text": [
      "500000\n"
     ]
    }
   ],
   "source": [
    "삼성전자 = 50000\n",
    "총평가금액 = 삼성전자 * 10\n",
    "print(총평가금액)"
   ]
  },
  {
   "cell_type": "markdown",
   "id": "1f4d59e2",
   "metadata": {},
   "source": [
    "### 012\n",
    "다음 표는 삼성전자의 일부 투자정보입니다. \n",
    "변수를 사용해서 시가총액, 현재가, PER 등을 바인딩해보세요.\n",
    "\n",
    "항목\t      값  \n",
    "시가총액  298조  \n",
    "현재가\t50,000원  \n",
    "PER\t15.79  "
   ]
  },
  {
   "cell_type": "code",
   "execution_count": 75,
   "id": "6c385d2f",
   "metadata": {},
   "outputs": [
    {
     "name": "stdout",
     "output_type": "stream",
     "text": [
      "298000000000000 <class 'int'>\n",
      "50000 <class 'int'>\n",
      "15.79 <class 'float'>\n"
     ]
    }
   ],
   "source": [
    "시가총액 = 298000000000000\n",
    "현재가 = 50000\n",
    "per = 15.79\n",
    "print(시가총액, type(시가총액))\n",
    "print(현재가, type(현재가))\n",
    "print(per, type(per))"
   ]
  },
  {
   "cell_type": "markdown",
   "id": "ccfce290",
   "metadata": {},
   "source": [
    "### 013\n",
    "변수 s와 t에는 각각 문자열이 바인딩 되어있습니다.  \n",
    "실행 예:hello! python 와 같이 출력해보세요.\n",
    "    "
   ]
  },
  {
   "cell_type": "code",
   "execution_count": 81,
   "id": "99409f6a",
   "metadata": {},
   "outputs": [
    {
     "name": "stdout",
     "output_type": "stream",
     "text": [
      "hello! python\n",
      "hello! python\n"
     ]
    }
   ],
   "source": [
    "s=\"hello\"\n",
    "t=\"python\"\n",
    "print(s, end='! '); print(t)\n",
    "print(s+'!', t)"
   ]
  },
  {
   "cell_type": "markdown",
   "id": "6ac2462e",
   "metadata": {},
   "source": [
    "### 014\n",
    "2+2*3실행결과 예상해보기"
   ]
  },
  {
   "cell_type": "code",
   "execution_count": 83,
   "id": "621ccd18",
   "metadata": {},
   "outputs": [
    {
     "name": "stdout",
     "output_type": "stream",
     "text": [
      "8\n"
     ]
    }
   ],
   "source": [
    "print(2+2*3)"
   ]
  },
  {
   "cell_type": "markdown",
   "id": "3cb40168",
   "metadata": {},
   "source": [
    "### 015\n",
    "type() 함수는 데이터 타입을 판별합니다. 변수 a에는 128 숫자가 바인딩돼 있어 type 함수가 int (정수)형임을 알려줍니다.\n",
    "\n",
    "> a = 128\n",
    "> print (type(a))\n",
    "<class 'int'>\n",
    "\n",
    "a = \"132\" 이 변수에 바인딩 된 값의 타입을 판별해보세요."
   ]
  },
  {
   "cell_type": "code",
   "execution_count": 60,
   "id": "bfe32985",
   "metadata": {},
   "outputs": [
    {
     "name": "stdout",
     "output_type": "stream",
     "text": [
      "<class 'str'>\n"
     ]
    }
   ],
   "source": [
    "a= \"132\"\n",
    "print(type(a))"
   ]
  },
  {
   "cell_type": "markdown",
   "id": "cb73358b",
   "metadata": {},
   "source": [
    "### 016 데이터의 타입 변환\n",
    "문자열 '720'을 정수형으로 변환해보세요"
   ]
  },
  {
   "cell_type": "code",
   "execution_count": 95,
   "id": "993a9b93",
   "metadata": {},
   "outputs": [
    {
     "name": "stdout",
     "output_type": "stream",
     "text": [
      "720 <class 'int'>\n"
     ]
    }
   ],
   "source": [
    "num_str = \"720\"\n",
    "num_int = int(num_str)\n",
    "print(num_int, type(num_int))"
   ]
  },
  {
   "cell_type": "markdown",
   "id": "8f8abee8",
   "metadata": {},
   "source": [
    "### 017\n",
    "정수 100을 문자열 '100'으로 변환"
   ]
  },
  {
   "cell_type": "code",
   "execution_count": 1,
   "id": "0783fb54",
   "metadata": {},
   "outputs": [
    {
     "name": "stdout",
     "output_type": "stream",
     "text": [
      "100 <class 'str'>\n"
     ]
    }
   ],
   "source": [
    "a = 100\n",
    "b = str(a)\n",
    "print(b, type(b))"
   ]
  },
  {
   "cell_type": "markdown",
   "id": "608dacac",
   "metadata": {},
   "source": [
    "### 018\n",
    "문자열 \"15.79\"를 실수(float) 타입으로 변환해보세요."
   ]
  },
  {
   "cell_type": "code",
   "execution_count": 7,
   "id": "42e75cf5",
   "metadata": {},
   "outputs": [
    {
     "name": "stdout",
     "output_type": "stream",
     "text": [
      "15.79 <class 'float'>\n"
     ]
    }
   ],
   "source": [
    "c = \"15.79\"\n",
    "d = float(c)\n",
    "print(d,type(d))"
   ]
  },
  {
   "cell_type": "markdown",
   "id": "391e9819",
   "metadata": {},
   "source": [
    "### 019\n",
    "year라는 변수가 문자열 타입의 연도를 바인딩하고 있습니다.  \n",
    "이를 정수로 변환한 후 최근 3년의 연도를 화면에 출력해보세요.\n",
    "\n",
    "year = \"2020\""
   ]
  },
  {
   "cell_type": "code",
   "execution_count": 8,
   "id": "06431156",
   "metadata": {},
   "outputs": [
    {
     "name": "stdout",
     "output_type": "stream",
     "text": [
      "2017 2018 2019\n",
      "2017 2018 2019\n"
     ]
    }
   ],
   "source": [
    "year = \"2020\"\n",
    "result = int(year)\n",
    "print(result-3, result-2, result-1)\n",
    "\n",
    "year = \"2020\"\n",
    "print(int(year)-3, int(year)-2, int(year)-1)"
   ]
  },
  {
   "cell_type": "markdown",
   "id": "13e726c0",
   "metadata": {},
   "source": [
    "### 020\n",
    "에이컨이 월 48,584원에 무이자 36개월의 조건으로 홈쇼핑에서 판매되고 있습니다.  \n",
    "총 금액은 계산한 후 이를 화면에 출력해보세요. (변수사용하기)\n"
   ]
  },
  {
   "cell_type": "code",
   "execution_count": 59,
   "id": "4ce6a0d4",
   "metadata": {},
   "outputs": [
    {
     "name": "stdout",
     "output_type": "stream",
     "text": [
      "1749024\n",
      "1749024\n"
     ]
    }
   ],
   "source": [
    "ac_monthlycost = 48584\n",
    "print(ac_monthlycost*36)\n",
    "\n",
    "ac_monthlycost = 48584\n",
    "ac_total = ac_monthlycost * 36\n",
    "print(ac_total)"
   ]
  },
  {
   "cell_type": "markdown",
   "id": "fb86999e",
   "metadata": {},
   "source": [
    "## 3. 파이썬 문자열(021 ~ 050)"
   ]
  },
  {
   "cell_type": "markdown",
   "id": "36972aa3",
   "metadata": {},
   "source": [
    "### 021\n",
    "letters가 바인딩하는 문자열에서 첫번째와 세번째 문자를 출력하세요.\n",
    ">letters = 'python'"
   ]
  },
  {
   "cell_type": "code",
   "execution_count": 17,
   "id": "dab90efe",
   "metadata": {},
   "outputs": [
    {
     "name": "stdout",
     "output_type": "stream",
     "text": [
      "p t\n"
     ]
    }
   ],
   "source": [
    "letters = 'python'\n",
    "print(letters[0],letters[2])"
   ]
  },
  {
   "cell_type": "markdown",
   "id": "10bcb562",
   "metadata": {},
   "source": [
    "### 022 슬라이싱 \n",
    "자동차 번호가 다음과 같을 때 뒤에 4자리만 출력하세요.  \n",
    " \n",
    "> license_plate = \"24가 2210\"\n",
    "> ##### 슬라이싱:문자열에서 여러 글자를 가져옴/ [a:b-1]이 출력됨"
   ]
  },
  {
   "cell_type": "code",
   "execution_count": 19,
   "id": "122c092e",
   "metadata": {},
   "outputs": [
    {
     "name": "stdout",
     "output_type": "stream",
     "text": [
      "24가 2210\n"
     ]
    }
   ],
   "source": [
    "license_plate = \"24가 2210\"\n",
    "print(license_plate)"
   ]
  },
  {
   "cell_type": "code",
   "execution_count": 20,
   "id": "e6fa4f7e",
   "metadata": {},
   "outputs": [
    {
     "name": "stdout",
     "output_type": "stream",
     "text": [
      "2210\n"
     ]
    }
   ],
   "source": [
    "print(license_plate[-4:])"
   ]
  },
  {
   "cell_type": "markdown",
   "id": "5204cada",
   "metadata": {},
   "source": [
    "### 023 슬라이싱 시작인덱스:끝인덱스:오프셋\n",
    "아래의 문자열에서 '홀'만 출력하세요.  \n",
    "> string=\"홀짝홀짝홀짝\"\n",
    "> ##### 세번째는 간격(step)을 나타낸다."
   ]
  },
  {
   "cell_type": "code",
   "execution_count": 51,
   "id": "c086b665",
   "metadata": {},
   "outputs": [
    {
     "name": "stdout",
     "output_type": "stream",
     "text": [
      "홀홀홀\n"
     ]
    }
   ],
   "source": [
    "string홀짝=\"홀짝홀짝홀짝\" \n",
    "print(string홀짝[::2])"
   ]
  },
  {
   "cell_type": "markdown",
   "id": "c175177a",
   "metadata": {},
   "source": [
    "'짝'만 출력하세요."
   ]
  },
  {
   "cell_type": "code",
   "execution_count": 46,
   "id": "65655425",
   "metadata": {},
   "outputs": [
    {
     "name": "stdout",
     "output_type": "stream",
     "text": [
      "짝짝짝\n"
     ]
    }
   ],
   "source": [
    "string홀짝=\"홀짝홀짝홀짝\" \n",
    "print(string홀짝[1::2])"
   ]
  },
  {
   "cell_type": "markdown",
   "id": "c8ab808d",
   "metadata": {},
   "source": [
    "### 024\n",
    "문자열을 거꾸로 뒤집어 출력하세요\n",
    "> string = \"PYTHON\""
   ]
  },
  {
   "cell_type": "code",
   "execution_count": 50,
   "id": "de1ad422",
   "metadata": {},
   "outputs": [
    {
     "name": "stdout",
     "output_type": "stream",
     "text": [
      "NOHTYP\n"
     ]
    }
   ],
   "source": [
    "stringP = \"PYTHON\"\n",
    "print(stringP[::-1])"
   ]
  },
  {
   "cell_type": "markdown",
   "id": "4b09a636",
   "metadata": {},
   "source": [
    "### 025 replace 메서드\n",
    "아래의 전화번호에서 하이푼 ('-')을 제거하고 출력하세요.  \n",
    "\n",
    "> phone_number = \"010-1111-2222\"  \n",
    "> ##### replace메서드: 문자열 일부 치환 가능, 문자열은 수정할 수 없는 자료형으로 기존문자열 보존, 치환된 새로운 문자열 리턴"
   ]
  },
  {
   "cell_type": "code",
   "execution_count": 64,
   "id": "d4394c22",
   "metadata": {},
   "outputs": [
    {
     "name": "stdout",
     "output_type": "stream",
     "text": [
      "010 1111 2222\n",
      "010-1111-2222\n"
     ]
    }
   ],
   "source": [
    "phone_number = \"010-1111-2222\"\n",
    "phone_number1 = phone_number.replace(\"-\",\" \")\n",
    "print(phone_number1); print(phone_number)"
   ]
  },
  {
   "cell_type": "markdown",
   "id": "844bfd08",
   "metadata": {},
   "source": [
    "### 026\n",
    "25번 문제의 전화번호를 아래와 같이 모두 붙여 출력하세요.  \n",
    "실행 예 : 01011112222"
   ]
  },
  {
   "cell_type": "code",
   "execution_count": 67,
   "id": "c16d70cc",
   "metadata": {},
   "outputs": [
    {
     "name": "stdout",
     "output_type": "stream",
     "text": [
      "01011112222\n"
     ]
    }
   ],
   "source": [
    "phone_number2 = phone_number.replace(\"-\",\"\")\n",
    "print(phone_number2)"
   ]
  },
  {
   "cell_type": "markdown",
   "id": "7de00b0b",
   "metadata": {},
   "source": [
    "### 027 split과 slicing 활용하기\n",
    "url 에 저장된 웹 페이지 주소에서 도메인을 출력하세요.\n",
    "\n",
    ">url = \"http://sharebook.kr\"  \n",
    ">#### split 사용"
   ]
  },
  {
   "cell_type": "code",
   "execution_count": 1,
   "id": "9fd2f589",
   "metadata": {},
   "outputs": [
    {
     "name": "stdout",
     "output_type": "stream",
     "text": [
      "kr\n"
     ]
    }
   ],
   "source": [
    "url = \"http://sharebook.kr\"\n",
    "url_split = url.split('.')\n",
    "print(url_split[-1])"
   ]
  },
  {
   "cell_type": "markdown",
   "id": "22bec8aa",
   "metadata": {},
   "source": [
    "### 028 문자열은 immutable (오답)\n",
    "Q. 아래 코드의 실행 결과를 예상해보세요.\n",
    "\n",
    "> lang = 'python'  \n",
    "> lang[0] = 'P'  \n",
    "> print(lang)  \n"
   ]
  },
  {
   "cell_type": "markdown",
   "id": "82af63df",
   "metadata": {},
   "source": [
    "A. python"
   ]
  },
  {
   "cell_type": "code",
   "execution_count": 151,
   "id": "dd7b68de",
   "metadata": {},
   "outputs": [
    {
     "ename": "TypeError",
     "evalue": "'str' object does not support item assignment",
     "output_type": "error",
     "traceback": [
      "\u001b[1;31m---------------------------------------------------------------------------\u001b[0m",
      "\u001b[1;31mTypeError\u001b[0m                                 Traceback (most recent call last)",
      "Cell \u001b[1;32mIn[151], line 3\u001b[0m\n\u001b[0;32m      1\u001b[0m \u001b[38;5;66;03m# 정답. \u001b[39;00m\n\u001b[0;32m      2\u001b[0m lang \u001b[38;5;241m=\u001b[39m \u001b[38;5;124m'\u001b[39m\u001b[38;5;124mpython\u001b[39m\u001b[38;5;124m'\u001b[39m\n\u001b[1;32m----> 3\u001b[0m lang[\u001b[38;5;241m0\u001b[39m] \u001b[38;5;241m=\u001b[39m \u001b[38;5;124m'\u001b[39m\u001b[38;5;124mP\u001b[39m\u001b[38;5;124m'\u001b[39m\n\u001b[0;32m      4\u001b[0m \u001b[38;5;28mprint\u001b[39m(lang)\n",
      "\u001b[1;31mTypeError\u001b[0m: 'str' object does not support item assignment"
     ]
    }
   ],
   "source": [
    "# 정답. \n",
    "lang = 'python'\n",
    "lang[0] = 'P'\n",
    "print(lang)"
   ]
  },
  {
   "cell_type": "markdown",
   "id": "7ab2aa6c",
   "metadata": {},
   "source": [
    "### 029 replace 메서드\n",
    "아래 문자열에서 소문자 'a'를 대문자 'A'로 변경하세요.  \n",
    ">string = 'abcdfe2a354a32a'"
   ]
  },
  {
   "cell_type": "code",
   "execution_count": 82,
   "id": "0aa5fa64",
   "metadata": {},
   "outputs": [
    {
     "name": "stdout",
     "output_type": "stream",
     "text": [
      "Abcdfe2A354A32A\n"
     ]
    }
   ],
   "source": [
    "string = 'abcdfe2a354a32a'\n",
    "string_replace = string.replace('a','A')\n",
    "print(string_replace)\n",
    "\n",
    "# string = 'abcdfe2a354a32a'\n",
    "# string = string.replace('a', 'A') #string에 새로운 값을 할당\n",
    "# print(string)"
   ]
  },
  {
   "attachments": {
    "%EC%8A%A4%ED%81%AC%EB%A6%B0%EC%83%B7%202024-03-03%20234658.png": {
     "image/png": "[encoded data removed]"
    }
   },
   "cell_type": "markdown",
   "id": "5f582e8c",
   "metadata": {},
   "source": [
    "### 030 replace 메서드\n",
    "Q. 아래 코드의 실행 결과를 예상해보세요.\n",
    "\n",
    ">string = 'abcd'  \n",
    ">string.replace('b', 'B')  \n",
    ">print(string)  \n",
    "  ![%EC%8A%A4%ED%81%AC%EB%A6%B0%EC%83%B7%202024-03-03%20234658.png](attachment:%EC%8A%A4%ED%81%AC%EB%A6%B0%EC%83%B7%202024-03-03%20234658.png)"
   ]
  },
  {
   "cell_type": "markdown",
   "id": "6235e0fa",
   "metadata": {},
   "source": [
    "A. aBcd"
   ]
  },
  {
   "cell_type": "markdown",
   "id": "d79b3024",
   "metadata": {},
   "source": [
    "### 031 문자열 합치기\n",
    "Q. 아래 코드의 실행 결과를 예상해보세요.\n",
    "\n",
    "> a = \"3\"  \n",
    "> b = \"4\"  \n",
    "> print(a + b)  "
   ]
  },
  {
   "cell_type": "markdown",
   "id": "0a894b35",
   "metadata": {},
   "source": [
    "A. 34 (a,b는 문자열이기 때문)\n",
    "\n",
    "aa = \"3\"  \n",
    "bb = \"4\"  \n",
    "print(aa, type(aa))  \n",
    ">3 <class 'str'>"
   ]
  },
  {
   "cell_type": "markdown",
   "id": "538b6628",
   "metadata": {},
   "source": [
    "### 032 문자열 곱하기\n",
    "Q. 아래 코드의 실행 결과를 예상해보세요.\n",
    "\n",
    "> print(\"Hi\" * 3)"
   ]
  },
  {
   "cell_type": "markdown",
   "id": "a278df44",
   "metadata": {},
   "source": [
    "A. HiHiHi "
   ]
  },
  {
   "cell_type": "markdown",
   "id": "f690731e",
   "metadata": {},
   "source": [
    "### 033 문자열 곱하기\n",
    "화면에 '-'를 80개 출력하세요.\n",
    "\n",
    "실행 예:--------------------------------------------------------------------------------"
   ]
  },
  {
   "cell_type": "code",
   "execution_count": 3,
   "id": "f618fc4f",
   "metadata": {},
   "outputs": [
    {
     "name": "stdout",
     "output_type": "stream",
     "text": [
      "--------------------------------------------------------------------------------\n"
     ]
    }
   ],
   "source": [
    "print('-'*80)"
   ]
  },
  {
   "cell_type": "markdown",
   "id": "0c63a302",
   "metadata": {},
   "source": [
    "### 034 문자열 곱하기 (오답)\n",
    "변수에 다음과 같은 문자열이 바인딩되어 있습니다.\n",
    "\n",
    "> t1 = 'python'  \n",
    "> t2 = 'java'  \n",
    "\n",
    "변수에 문자열 더하기와 문자열 곱하기를 사용해서 아래와 같이 출력해보세요.  \n",
    "실행 예:python java python java python java python java"
   ]
  },
  {
   "cell_type": "code",
   "execution_count": 17,
   "id": "b6c2226b",
   "metadata": {},
   "outputs": [
    {
     "name": "stdout",
     "output_type": "stream",
     "text": [
      "pythonjavajavajavajava\n",
      "pythonjavajavajavajava\n",
      "t1t2\n"
     ]
    }
   ],
   "source": [
    "# A. \n",
    "t1 = 'python'\n",
    "t2 = 'java'\n",
    "print(t1 + t2*4)\n",
    "print(t1 + t2*4)\n",
    "print('t1'+'t2')"
   ]
  },
  {
   "cell_type": "code",
   "execution_count": 23,
   "id": "c089e5de",
   "metadata": {},
   "outputs": [
    {
     "name": "stdout",
     "output_type": "stream",
     "text": [
      "python java python java python java python java \n"
     ]
    }
   ],
   "source": [
    "# 정답\n",
    "t1 = 'python'\n",
    "t2 = 'java'\n",
    "t3 = t1 + ' ' + t2 + ' ' \n",
    "print(t3*4)"
   ]
  },
  {
   "cell_type": "markdown",
   "id": "d1b3086e",
   "metadata": {},
   "source": [
    "### 035 문자열 출력(오답)\n",
    "변수에 다음과 같이 문자열과 정수가 바인딩되어 있을 때 % formatting을 사용해서 다음과 같이 출력해보세요.  \n",
    "\n",
    ">name1 = \"김민수\"   \n",
    "age1 = 10  \n",
    "name2 = \"이철희\"  \n",
    "age2 = 13  \n",
    "  \n",
    ">이름: 김민수 나이: 10  \n",
    "이름: 이철희 나이: 13  "
   ]
  },
  {
   "cell_type": "code",
   "execution_count": 39,
   "id": "d8a54516",
   "metadata": {
    "scrolled": true
   },
   "outputs": [
    {
     "data": {
      "text/plain": [
       "'이름 : 김민수 나이 : 10'"
      ]
     },
     "execution_count": 39,
     "metadata": {},
     "output_type": "execute_result"
    }
   ],
   "source": [
    "name1 = \"김민수\"\n",
    "age1 = 10\n",
    "name2 = \"이철희\"\n",
    "age2 = 13\n",
    "\n",
    "\"이름 : {} 나이 : {}\".format(name1, age1) "
   ]
  },
  {
   "cell_type": "code",
   "execution_count": 44,
   "id": "06663dc8",
   "metadata": {},
   "outputs": [
    {
     "name": "stdout",
     "output_type": "stream",
     "text": [
      "이름 : 김민수, 나이 : 10\n",
      "이름 : 이철희, 나이 : 13\n"
     ]
    }
   ],
   "source": [
    "print(\"이름 : {}, 나이 : {}\".format(name1, age1))\n",
    "print(\"이름 : {}, 나이 : {}\".format(name2, age2))"
   ]
  },
  {
   "cell_type": "markdown",
   "id": "5fd82738",
   "metadata": {},
   "source": [
    "### 036 문자열 출력 (오답)\n",
    "문자열의 format( ) 메서드를 사용해서 035번 문제를 다시 풀어보세요."
   ]
  },
  {
   "cell_type": "code",
   "execution_count": 45,
   "id": "af58cb99",
   "metadata": {},
   "outputs": [
    {
     "name": "stdout",
     "output_type": "stream",
     "text": [
      "이름: 김민수 나이: 10\n",
      "이름: 이철희 나이: 13\n"
     ]
    }
   ],
   "source": [
    "name1 = \"김민수\" \n",
    "age1 = 10\n",
    "name2 = \"이철희\"\n",
    "age2 = 13\n",
    "print(\"이름: %s 나이: %d\" % (name1, age1))\n",
    "print(\"이름: %s 나이: %d\" % (name2, age2))"
   ]
  },
  {
   "cell_type": "markdown",
   "id": "9419c08c",
   "metadata": {},
   "source": [
    "### 037 문자열 출력 (오답)\n",
    "파이썬 3.6부터 지원하는 f-string을 사용해서 035번 문제를 다시 풀어보세요.  \n",
    "> f-string은 문자열 앞에 f가 붙은 형태입니다.  \n",
    "f-string을 사용하면 `{변수}`와 같은 형태로 문자열 사이에 타입과 상관없이 값을 출력할 수 있습니다."
   ]
  },
  {
   "cell_type": "code",
   "execution_count": 51,
   "id": "7f701abd",
   "metadata": {},
   "outputs": [
    {
     "name": "stdout",
     "output_type": "stream",
     "text": [
      "이름:김민수 나이:10\n",
      "이름:이철희 나이:13\n"
     ]
    }
   ],
   "source": [
    "name1 = \"김민수\" \n",
    "age1 = 10\n",
    "name2 = \"이철희\"\n",
    "age2 = 13\n",
    "print(f\"이름:{name1} 나이:{age1}\")\n",
    "print(f\"이름:{name2} 나이:{age2}\")"
   ]
  },
  {
   "cell_type": "markdown",
   "id": "2f015a3d",
   "metadata": {},
   "source": [
    "### 038 컴마 제거하기\n",
    "Q. 삼성전자의 상장주식수가 다음과 같습니다. 컴마를 제거한 후 이를 정수 타입으로 변환해보세요.\n",
    "\n",
    "상장주식수 = \"5,969,782,550\""
   ]
  },
  {
   "cell_type": "markdown",
   "id": "270cf5e1",
   "metadata": {},
   "source": [
    "#### A."
   ]
  },
  {
   "cell_type": "code",
   "execution_count": 78,
   "id": "d09c7d61",
   "metadata": {},
   "outputs": [
    {
     "name": "stdout",
     "output_type": "stream",
     "text": [
      "5969782550 <class 'str'>\n"
     ]
    }
   ],
   "source": [
    " samsungs = \"5,969,782,550\"\n",
    "samsungs_replace = samsungs.replace(\",\",\"\")\n",
    "# print(\"samsungs_replace\") : 문자열 출력 (오답)\n",
    "print(samsungs_replace, type(samsungs_replace))"
   ]
  },
  {
   "cell_type": "markdown",
   "id": "56afa23e",
   "metadata": {},
   "source": [
    "#### 정답"
   ]
  },
  {
   "cell_type": "code",
   "execution_count": 80,
   "id": "7f34e388",
   "metadata": {
    "scrolled": true
   },
   "outputs": [
    {
     "name": "stdout",
     "output_type": "stream",
     "text": [
      "5969782550 <class 'int'>\n"
     ]
    }
   ],
   "source": [
    "samsungs = \"5,969,782,550\"\n",
    "samsungs_replace = int(samsungs.replace(\",\",\"\")) # 가능\n",
    "print(samsungs_replace, type(samsungs_replace))"
   ]
  },
  {
   "cell_type": "markdown",
   "id": "12deba3a",
   "metadata": {},
   "source": [
    "#### ValueError: invalid literal for int() with base 10 (int함수가 받을 수 없는 값)  \n",
    "콤마 문자열-> 정수 변환시,컴마 제거 후 가능"
   ]
  },
  {
   "cell_type": "code",
   "execution_count": 81,
   "id": "fe27c28a",
   "metadata": {
    "scrolled": false
   },
   "outputs": [
    {
     "ename": "ValueError",
     "evalue": "invalid literal for int() with base 10: '5,969,782,550'",
     "output_type": "error",
     "traceback": [
      "\u001b[1;31m---------------------------------------------------------------------------\u001b[0m",
      "\u001b[1;31mValueError\u001b[0m                                Traceback (most recent call last)",
      "Cell \u001b[1;32mIn[81], line 3\u001b[0m\n\u001b[0;32m      1\u001b[0m \u001b[38;5;66;03m# \u001b[39;00m\n\u001b[0;32m      2\u001b[0m samsungs \u001b[38;5;241m=\u001b[39m \u001b[38;5;124m\"\u001b[39m\u001b[38;5;124m5,969,782,550\u001b[39m\u001b[38;5;124m\"\u001b[39m\n\u001b[1;32m----> 3\u001b[0m samsungs_int \u001b[38;5;241m=\u001b[39m \u001b[38;5;28mint\u001b[39m(samsungs)\n\u001b[0;32m      4\u001b[0m \u001b[38;5;28mprint\u001b[39m(samsungs_int, \u001b[38;5;28mtype\u001b[39m(samsungs_int))\n",
      "\u001b[1;31mValueError\u001b[0m: invalid literal for int() with base 10: '5,969,782,550'"
     ]
    }
   ],
   "source": [
    "samsungs = \"5,969,782,550\"\n",
    "samsungs_int = int(samsungs)\n",
    "print(samsungs_int, type(samsungs_int))"
   ]
  },
  {
   "cell_type": "markdown",
   "id": "75d727c2",
   "metadata": {},
   "source": [
    "### 039 문자열 슬라이싱\n",
    "다음과 같은 문자열에서 '2020/03'만 출력하세요.\n",
    "\n",
    "분기 = \"2020/03(E) (IFRS연결)\""
   ]
  },
  {
   "cell_type": "code",
   "execution_count": 89,
   "id": "b539d0d2",
   "metadata": {},
   "outputs": [
    {
     "name": "stdout",
     "output_type": "stream",
     "text": [
      "2020/03\n"
     ]
    }
   ],
   "source": [
    "분기 = \"2020/03(E) (IFRS연결)\"\n",
    "print(분기 [0:7])"
   ]
  },
  {
   "cell_type": "markdown",
   "id": "84f94bfe",
   "metadata": {},
   "source": [
    "### 040 strip 메서드(오답은 아닌데, strip?)\n",
    "문자열의 좌우의 공백이 있을 때 이를 제거해보세요.\n",
    "\n",
    "data = \"   삼성전자    \""
   ]
  },
  {
   "cell_type": "code",
   "execution_count": 91,
   "id": "7de6e13f",
   "metadata": {},
   "outputs": [
    {
     "name": "stdout",
     "output_type": "stream",
     "text": [
      "삼성전자\n"
     ]
    }
   ],
   "source": [
    "data = \" 삼성전자 \"\n",
    "print(data [1:5])"
   ]
  },
  {
   "cell_type": "markdown",
   "id": "83ba493d",
   "metadata": {},
   "source": [
    "#### 정답"
   ]
  },
  {
   "cell_type": "code",
   "execution_count": 92,
   "id": "80f94404",
   "metadata": {},
   "outputs": [
    {
     "name": "stdout",
     "output_type": "stream",
     "text": [
      "삼성전자\n"
     ]
    }
   ],
   "source": [
    "data1=data.strip()\n",
    "print(data1)"
   ]
  },
  {
   "cell_type": "markdown",
   "id": "cac1ef34",
   "metadata": {},
   "source": [
    "### 041 upper 메서드\n",
    "다음과 같은 문자열이 있을 때 이를 대문자 BTC_KRW로 변경하세요.\n",
    "\n",
    "ticker = \"btc_krw\""
   ]
  },
  {
   "cell_type": "code",
   "execution_count": 96,
   "id": "8c8112da",
   "metadata": {},
   "outputs": [
    {
     "name": "stdout",
     "output_type": "stream",
     "text": [
      "BTC_KRW\n"
     ]
    }
   ],
   "source": [
    "ticker = \"btc_krw\"\n",
    "ticker1 = ticker.upper()\n",
    "print(ticker1)"
   ]
  },
  {
   "cell_type": "markdown",
   "id": "aad56bc3",
   "metadata": {},
   "source": [
    "### 042 lower 메서드\n",
    "다음과 같은 문자열이 있을 때 이를 소문자 btc_krw로 변경하세요.\n",
    "\n",
    "ticker = \"BTC_KRW\""
   ]
  },
  {
   "cell_type": "code",
   "execution_count": 97,
   "id": "9f1993c5",
   "metadata": {},
   "outputs": [
    {
     "name": "stdout",
     "output_type": "stream",
     "text": [
      "btc_krw\n"
     ]
    }
   ],
   "source": [
    "ticker = \"BTC_KRW\"\n",
    "ticker1 = ticker.lower()\n",
    "print(ticker1)"
   ]
  },
  {
   "cell_type": "markdown",
   "id": "2e43cdc1",
   "metadata": {},
   "source": [
    "### 043 capitalize 메서드\n",
    "문자열 'hello'가 있을 때 이를 'Hello'로 변경해보세요.\n",
    "> 첫 글자만 대문자로 변환"
   ]
  },
  {
   "cell_type": "code",
   "execution_count": 107,
   "id": "6631fe4e",
   "metadata": {},
   "outputs": [
    {
     "name": "stdout",
     "output_type": "stream",
     "text": [
      "Hello\n"
     ]
    }
   ],
   "source": [
    "a = \"hello\"\n",
    "a = a.capitalize()\n",
    "print(a)"
   ]
  },
  {
   "cell_type": "markdown",
   "id": "9a4b16df",
   "metadata": {},
   "source": [
    "### 044 endswith 메서드\n",
    "> 문자열이 지정 문자열로 끝나는지 체크.\n",
    "\n",
    "파일 이름이 문자열로 저장되어 있을 때 endswith 메서드를 사용해서 파일 이름이 'xlsx'로 끝나는지 확인해보세요.  \n",
    "file_name = \"보고서.xlsx\""
   ]
  },
  {
   "cell_type": "code",
   "execution_count": 120,
   "id": "47ada6f0",
   "metadata": {},
   "outputs": [
    {
     "data": {
      "text/plain": [
       "True"
      ]
     },
     "execution_count": 120,
     "metadata": {},
     "output_type": "execute_result"
    }
   ],
   "source": [
    "file_name = \"보고서.xlsx\"\n",
    "file_name.endswith(\"xlsx\")"
   ]
  },
  {
   "cell_type": "markdown",
   "id": "7833c495",
   "metadata": {},
   "source": [
    "### 045 endswith 메서드 (오답:()이해안감)\n",
    "파일 이름이 문자열로 저장되어 있을 때 endswith 메서드를 사용해서 파일 이름이 'xlsx' 또는 'xls'로 끝나는지 확인해보세요.\n",
    "\n",
    "file_name = \"보고서.xlsx\""
   ]
  },
  {
   "cell_type": "code",
   "execution_count": 122,
   "id": "ebbc2339",
   "metadata": {},
   "outputs": [
    {
     "data": {
      "text/plain": [
       "True"
      ]
     },
     "execution_count": 122,
     "metadata": {},
     "output_type": "execute_result"
    }
   ],
   "source": [
    "file_name = \"보고서.xlsx\"\n",
    "file_name.endswith((\"xlsx\",\"xls\")) #왜 ()?"
   ]
  },
  {
   "cell_type": "markdown",
   "id": "eecb5df1",
   "metadata": {},
   "source": [
    "### 046 startswith 메서드\n",
    "파일 이름이 문자열로 저장되어 있을 때 startswith 메서드를 사용해서 파일 이름이 '2020'로 시작하는지 확인해보세요.\n",
    "\n",
    "file_name = \"2020_보고서.xlsx\""
   ]
  },
  {
   "cell_type": "code",
   "execution_count": 124,
   "id": "471f947c",
   "metadata": {},
   "outputs": [
    {
     "data": {
      "text/plain": [
       "True"
      ]
     },
     "execution_count": 124,
     "metadata": {},
     "output_type": "execute_result"
    }
   ],
   "source": [
    "file_name = \"2020_보고서.xlsx\"\n",
    "file_name.startswith(\"2020\")"
   ]
  },
  {
   "cell_type": "markdown",
   "id": "243bdd92",
   "metadata": {},
   "source": [
    "### 047 split 메서드\n",
    "다음과 같은 문자열이 있을 때 공백을 기준으로 문자열을 나눠보세요.\n",
    "\n",
    "a = \"hello world\""
   ]
  },
  {
   "cell_type": "code",
   "execution_count": 134,
   "id": "4ba0b8cf",
   "metadata": {},
   "outputs": [
    {
     "name": "stdout",
     "output_type": "stream",
     "text": [
      "['hello', 'world']\n"
     ]
    }
   ],
   "source": [
    "a = \"hello world\"\n",
    "a_split = a.split(' ')\n",
    "print(a_split)"
   ]
  },
  {
   "cell_type": "code",
   "execution_count": 133,
   "id": "e0d73bce",
   "metadata": {},
   "outputs": [
    {
     "data": {
      "text/plain": [
       "['hello', 'world']"
      ]
     },
     "execution_count": 133,
     "metadata": {},
     "output_type": "execute_result"
    }
   ],
   "source": [
    "a = \"hello world\"\n",
    "a.split()"
   ]
  },
  {
   "cell_type": "markdown",
   "id": "e8d8d5f5",
   "metadata": {},
   "source": [
    "### 048 split 메서드\n",
    "다음과 같이 문자열이 있을 때 btc와 krw로 나눠보세요.\n",
    "\n",
    "ticker = \"btc_krw\""
   ]
  },
  {
   "cell_type": "code",
   "execution_count": 135,
   "id": "9bdb50c1",
   "metadata": {},
   "outputs": [
    {
     "data": {
      "text/plain": [
       "['btc', 'krw']"
      ]
     },
     "execution_count": 135,
     "metadata": {},
     "output_type": "execute_result"
    }
   ],
   "source": [
    "ticker = \"btc_krw\"\n",
    "ticker.split('_')"
   ]
  },
  {
   "cell_type": "markdown",
   "id": "7372dd23",
   "metadata": {},
   "source": [
    "### 049 split 메서드\n",
    "다음과 같이 날짜를 표현하는 문자열이 있을 때 연도, 월, 일로 나눠보세요.\n",
    "\n",
    "date = \"2020-05-01\""
   ]
  },
  {
   "cell_type": "code",
   "execution_count": 145,
   "id": "b8ab722c",
   "metadata": {},
   "outputs": [
    {
     "name": "stdout",
     "output_type": "stream",
     "text": [
      "039490     \n"
     ]
    }
   ],
   "source": [
    "date = \"2020-05-01\"\n",
    "date.split(\"-\")"
   ]
  },
  {
   "cell_type": "markdown",
   "id": "b778cefc",
   "metadata": {},
   "source": [
    "### 050 rstrip 메서드\n",
    "문자열의 오른쪽에 공백이 있을 때 이를 제거해보세요.\n",
    "\n",
    "data = \"039490       \""
   ]
  },
  {
   "cell_type": "code",
   "execution_count": 149,
   "id": "5457f583",
   "metadata": {},
   "outputs": [
    {
     "data": {
      "text/plain": [
       "'  039490'"
      ]
     },
     "execution_count": 149,
     "metadata": {},
     "output_type": "execute_result"
    }
   ],
   "source": [
    "data1 = \"  039490     \"\n",
    "data1.rstrip()"
   ]
  },
  {
   "cell_type": "code",
   "execution_count": 148,
   "id": "c8854aba",
   "metadata": {},
   "outputs": [
    {
     "data": {
      "text/plain": [
       "'039490'"
      ]
     },
     "execution_count": 148,
     "metadata": {},
     "output_type": "execute_result"
    }
   ],
   "source": [
    "data2 = \"     039490     \"\n",
    "data2.strip()"
   ]
  },
  {
   "cell_type": "code",
   "execution_count": null,
   "id": "4044b563",
   "metadata": {},
   "outputs": [],
   "source": []
  }
 ],
 "metadata": {
  "kernelspec": {
   "display_name": "Python 3 (ipykernel)",
   "language": "python",
   "name": "python3"
  },
  "language_info": {
   "codemirror_mode": {
    "name": "ipython",
    "version": 3
   },
   "file_extension": ".py",
   "mimetype": "text/x-python",
   "name": "python",
   "nbconvert_exporter": "python",
   "pygments_lexer": "ipython3",
   "version": "3.11.5"
  }
 },
 "nbformat": 4,
 "nbformat_minor": 5
}
