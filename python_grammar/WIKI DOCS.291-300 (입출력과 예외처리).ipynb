{
 "cells": [
  {
   "cell_type": "markdown",
   "id": "d62c2272",
   "metadata": {},
   "source": [
    "## 291 파일 쓰기\n",
    "바탕화면에 '매수종목1.txt' 파일을 생성한 후 다음과 같이 종목코드를 파일에 써보세요."
   ]
  },
  {
   "cell_type": "code",
   "execution_count": null,
   "id": "aea39efb",
   "metadata": {},
   "outputs": [],
   "source": [
    "pwd"
   ]
  },
  {
   "cell_type": "code",
   "execution_count": null,
   "id": "6976ebee",
   "metadata": {},
   "outputs": [],
   "source": [
    "f= open('C:\\\\Users\\\\mingi\\\\OneDrive\\\\바탕 화면\\\\매수종목1.txt', \"wt\", encoding='utf-8')\n",
    "f.write(\"005930\\n\")\n",
    "f.write(\"005380\\n\")\n",
    "f.write(\"035420\")\n",
    "f.close()\n",
    "\n",
    "# Q. 인코딩(의 의미), wt를 왜 쓰는 걸까요..? \\n은 '엔터기능'하려면 무조건 이런 형식으로 써야하는 거죠?\n",
    "# 이걸 여러번 실행하면 파일이 계속 덮어쓰기 되는 건가요?"
   ]
  },
  {
   "cell_type": "markdown",
   "id": "432f45b2",
   "metadata": {},
   "source": [
    "## 292 파일 쓰기\n",
    "바탕화면에 '매수종목2.txt' 파일을 생성한 후 다음과 같이 종목코드와 종목명을 파일에 써보세요"
   ]
  },
  {
   "cell_type": "code",
   "execution_count": null,
   "id": "856a641f",
   "metadata": {},
   "outputs": [],
   "source": [
    "f= open('C:\\\\Users\\\\mingi\\\\OneDrive\\\\바탕 화면\\\\매수종목2.txt', \"wt\", encoding = 'utf-8')\n",
    "f.write(\"005930 삼성전자\\n\")\n",
    "f.write(\"005380 현대차\\n\")\n",
    "f.write(\"035420 NAVER\")   #Q.\\n근데 왜 마지막에는 쓰면 안되나요?\n",
    "f.close()"
   ]
  },
  {
   "cell_type": "markdown",
   "id": "fce7a0cb",
   "metadata": {},
   "source": [
    "## 293 CSV 파일 쓰기\n",
    "바탕화면에 '매수종목.csv' 파일을 생성한 후 다음과 같이 종목코드와 종목명을 파일에 써보세요. 인코딩은 'cp949'를 사용해야합니다."
   ]
  },
  {
   "cell_type": "code",
   "execution_count": null,
   "id": "d58b6f37",
   "metadata": {},
   "outputs": [],
   "source": [
    "import csv                     #Q.뭘까요...import..기능\n",
    "f=open(\"C:\\\\Users\\\\mingi\\\\OneDrive\\\\바탕 화면\\\\매수종목.csv\", \"wt\", encoding='cp949', newline='')\n",
    "writer = csv.writer(f)                ##내가 공부하며 알아볼건데 그래도 진도를 위해 간단한 이해를 위해..\n",
    "writer.writerow([\"종목명\", \"종목코드\", \"PER\"])  #리스트로 사용하네요...\n",
    "writer.writerow([\"삼성전자\", \"005930\", 15.59])\n",
    "writer.writerow([\"NAVER\", \"035420\", 55.82])\n",
    "f.close()"
   ]
  },
  {
   "cell_type": "markdown",
   "id": "588340a6",
   "metadata": {},
   "source": [
    "## 294 파일 읽기\n",
    "바탕화면에 생성한 '매수종목1.txt' 파일을 읽은 후 종목코드를 리스트에 저장해보세요.\n",
    "\n",
    "005930\n",
    "005380\n",
    "035420"
   ]
  },
  {
   "cell_type": "code",
   "execution_count": 1,
   "id": "ad084d3d",
   "metadata": {},
   "outputs": [
    {
     "ename": "AttributeError",
     "evalue": "'list' object has no attribute 'strip'",
     "output_type": "error",
     "traceback": [
      "\u001b[1;31m---------------------------------------------------------------------------\u001b[0m",
      "\u001b[1;31mAttributeError\u001b[0m                            Traceback (most recent call last)",
      "Cell \u001b[1;32mIn[1], line 7\u001b[0m\n\u001b[0;32m      5\u001b[0m codes \u001b[38;5;241m=\u001b[39m []\n\u001b[0;32m      6\u001b[0m \u001b[38;5;28;01mfor\u001b[39;00m line \u001b[38;5;129;01min\u001b[39;00m lines:          \u001b[38;5;66;03m# 이 구문만 이해하면 되겠다!\u001b[39;00m\n\u001b[1;32m----> 7\u001b[0m     code \u001b[38;5;241m=\u001b[39m lines\u001b[38;5;241m.\u001b[39mstrip()    \u001b[38;5;66;03m# Q. \\n추가안해도돼요?왜?   Q.strip뭐였더라  Q. 긜고 심지어 오류남\u001b[39;00m\n\u001b[0;32m      8\u001b[0m     codes\u001b[38;5;241m.\u001b[39mappend(code)\n\u001b[0;32m     11\u001b[0m \u001b[38;5;28mprint\u001b[39m(codes)\n",
      "\u001b[1;31mAttributeError\u001b[0m: 'list' object has no attribute 'strip'"
     ]
    }
   ],
   "source": [
    "#Q.(HELP ME!!)\n",
    "f= open('C:\\\\Users\\\\mingi\\\\OneDrive\\바탕 화면\\\\매수종목1.txt')\n",
    "lines = f.readlines()                                         #python list\n",
    "\n",
    "codes = []\n",
    "for line in lines:          # 이 구문만 이해하면 되겠다!\n",
    "    code = lines.strip()    # Q. \\n추가안해도돼요?왜?   Q.strip뭐였더라  Q. 긜고 심지어 오류남\n",
    "    codes.append(code)\n",
    "    \n",
    "    \n",
    "print(codes)\n",
    "\n",
    "f.close()"
   ]
  },
  {
   "cell_type": "code",
   "execution_count": null,
   "id": "c3423ed2",
   "metadata": {},
   "outputs": [],
   "source": [
    "#Q. 이미 리스트 형태인데 왜 리스트로 저장하지..?\n",
    "f= open('C:\\\\Users\\\\mingi\\\\OneDrive\\바탕 화면\\\\매수종목1.txt')\n",
    "lines = f.readlines()                                         #python list\n",
    "print(lines, type(lines))"
   ]
  },
  {
   "cell_type": "markdown",
   "id": "247dcb2e",
   "metadata": {},
   "source": [
    "--------------------------------문제를 풀기 위한 교안 예제 풀이----------------------------------"
   ]
  },
  {
   "cell_type": "code",
   "execution_count": null,
   "id": "644a8ec0",
   "metadata": {
    "scrolled": true
   },
   "outputs": [],
   "source": [
    "#파일 첫번째 줄만 읽어옴\n",
    "f= open('C:\\\\Users\\\\mingi\\\\OneDrive\\바탕 화면\\\\매수종목1.txt', \"r\")\n",
    "line = f.readline()  #Q.  f.메서드 함수? -> 내가공부하며 알아볼건데 그래도 진도를 위해 간단한 이해를 위해..\n",
    "print(line)\n",
    "f.close()"
   ]
  },
  {
   "cell_type": "code",
   "execution_count": null,
   "id": "da1e324b",
   "metadata": {},
   "outputs": [],
   "source": [
    "# readline_all.py\n",
    "f= open('C:\\\\Users\\\\mingi\\\\OneDrive\\바탕 화면\\\\매수종목1.txt', \"r\")\n",
    "while True:\n",
    "    line=f.readline()      # readline()은 더 이상 읽을 줄이 없을 경우, 빈 문자열('')을 리\n",
    "    if not line : break\n",
    "    print(line)\n",
    "    \n",
    "f.close()"
   ]
  },
  {
   "cell_type": "markdown",
   "id": "b46338a8",
   "metadata": {},
   "source": [
    "#Q.왜 무제한 로딩이 걸릴까요?→ 다정지했더니 괜찮아진것같아요\n",
    "f= open('C:\\\\Users\\\\mingi\\\\OneDrive\\바탕 화면\\\\매수종목1.txt', encoding=\"utf-8\")\n",
    "while True:\n",
    "    lines=f.readline()\n",
    "    if not line :   #->lines를 안해서?! 오류?\n",
    "        break\n",
    "    print(lines)\n",
    "f.close()"
   ]
  },
  {
   "cell_type": "code",
   "execution_count": null,
   "id": "07f010e8",
   "metadata": {},
   "outputs": [],
   "source": [
    "f= open('C:\\\\Users\\\\mingi\\\\OneDrive\\바탕 화면\\\\매수종목1.txt', \"r\")\n",
    "data = f.read()\n",
    "print(data)\n",
    "f.close()"
   ]
  },
  {
   "cell_type": "markdown",
   "id": "7378556a",
   "metadata": {},
   "source": [
    "## 295 파일 읽기\n",
    "바탕화면에 생성한 '매수종목2.txt' 파일을 읽은 후 종목코드와 종목명을 딕셔너리로 저장해보세요. 종목명을 key로 종목명을 value로 저장합니다."
   ]
  },
  {
   "cell_type": "code",
   "execution_count": 69,
   "id": "c50fcb59",
   "metadata": {},
   "outputs": [
    {
     "name": "stdout",
     "output_type": "stream",
     "text": [
      "005930\n",
      "\n",
      "005380\n",
      "\n",
      "035420\n"
     ]
    }
   ],
   "source": [
    "# Q. 다양한 함수가 있어서 함수, 구문도 함께 한번에 이해할 수 있을 것 같아서요!! \n",
    "# 이건 함께 풀어주실 수 있으신가요?!\n",
    "f= open('C:\\\\Users\\\\mingi\\\\OneDrive\\바탕 화면\\\\매수종목1.txt', encoding=\"utf-8\")\n",
    "while True:\n",
    "    lines = f.readline()   \n",
    "    if not lines : break\n",
    "    print(lines)\n",
    "    \n",
    "f.close()"
   ]
  },
  {
   "cell_type": "code",
   "execution_count": null,
   "id": "8742d520",
   "metadata": {},
   "outputs": [],
   "source": [
    "# 실제 답안\n",
    "#f = open(\"C:/Users/hyunh/Desktop/매수종목2.txt\", encoding=\"utf-8\")\n",
    "lines = f.readlines()\n",
    "\n",
    "data = {}\n",
    "for line in lines:\n",
    "    line = line.strip()     # '\\n' 제거\n",
    "    k, v = line.split()\n",
    "    #print(k, v)\n",
    "    data[k] = v\n",
    "\n",
    "print(data)\n",
    "f.close()"
   ]
  },
  {
   "cell_type": "markdown",
   "id": "aa5714c4",
   "metadata": {},
   "source": [
    "## 296 예외처리\n",
    "문자열 PER (Price to Earning Ratio) 값을 실수로 변환할 때 에러가 발생합니다. 예외처리를 통해 에러가 발생하는 PER은 0으로 출력하세요."
   ]
  },
  {
   "cell_type": "code",
   "execution_count": 72,
   "id": "df1a1b92",
   "metadata": {},
   "outputs": [
    {
     "name": "stdout",
     "output_type": "stream",
     "text": [
      "10.31\n",
      "\n",
      "8.00\n"
     ]
    }
   ],
   "source": [
    "per = [\"10.31\", \"\", \"8.00\"]\n",
    "\n",
    "for i in per:\n",
    "    try:\n",
    "        print(i)\n",
    "    except: \n",
    "        print(0)  #Q. except는 print하고 안빠져나와요?\n",
    "    "
   ]
  },
  {
   "cell_type": "markdown",
   "id": "04d143b5",
   "metadata": {},
   "source": [
    "## 297 예외처리 및 리스트에 저장\n",
    "문자열로 표현된 PER 값을 실수로 변환한 후 이를 새로운 리스트에 저장해보세요."
   ]
  },
  {
   "cell_type": "code",
   "execution_count": 74,
   "id": "df63f371",
   "metadata": {},
   "outputs": [
    {
     "name": "stdout",
     "output_type": "stream",
     "text": [
      "0\n",
      "[10.31, 10.31, 8.0]\n"
     ]
    }
   ],
   "source": [
    "#Q. 제가 작성한 오답인데, 왜 이런 결과값이 나오는지 알면 이 구문들에 대해 잘 이해할 것 같아요!!!\n",
    "#Help Me!!!!\n",
    "\n",
    "per = [\"10.31\", \"\", \"8.00\"]\n",
    "pers = []\n",
    "\n",
    "for i in per:\n",
    "    try:\n",
    "        v = float(i)\n",
    "    except:\n",
    "        print(0) \n",
    "    pers.append(v)\n",
    "    \n",
    "    \n",
    "print(pers)\n",
    "# 그리고print(0)은 안되고, v=0만 될까요??"
   ]
  },
  {
   "cell_type": "code",
   "execution_count": 76,
   "id": "beee2051",
   "metadata": {},
   "outputs": [
    {
     "name": "stdout",
     "output_type": "stream",
     "text": [
      "[10.31, 0, 8.0]\n"
     ]
    }
   ],
   "source": [
    "# 실제 정답\n",
    "\n",
    "per = [\"10.31\", \"\", \"8.00\"]\n",
    "pers = []\n",
    "\n",
    "for i in per:\n",
    "    try:\n",
    "        v = float(i)\n",
    "    except:\n",
    "        v = 0    \n",
    "    pers.append(v)\n",
    "    \n",
    "    \n",
    "print(pers)"
   ]
  },
  {
   "cell_type": "markdown",
   "id": "0bfbe73f",
   "metadata": {},
   "source": [
    "## 298 특정 예외만 처리하기\n",
    "어떤 값을 0으로 나누면 ZeroDivisionError 에러가 발생합니다. try ~ except로 모든 에러에 대해 예외처리하지 말고 ZeroDivisionError 에러만 예외처리해보세요."
   ]
  },
  {
   "cell_type": "code",
   "execution_count": 84,
   "id": "de751577",
   "metadata": {},
   "outputs": [
    {
     "name": "stdout",
     "output_type": "stream",
     "text": [
      "0은 안됩니다\n"
     ]
    }
   ],
   "source": [
    "try:\n",
    "    4 / 0\n",
    "except ZeroDivisionError:\n",
    "    print(\"0은 안됩니다\")"
   ]
  },
  {
   "cell_type": "markdown",
   "id": "ad5d9c48",
   "metadata": {},
   "source": [
    "## 299 예외의 메시지 출력하기\n",
    "다음과 같은 코드 구조를 사용하면 예외 발생 시 에러 메시지를 변수로 바인딩할 수 있습니다."
   ]
  },
  {
   "cell_type": "code",
   "execution_count": null,
   "id": "0e007332",
   "metadata": {},
   "outputs": [],
   "source": [
    "#오답\n",
    "data = [1, 2, 3]\n",
    "\n",
    "for i in range(5): #0-4\n",
    "    cool = print(data[i])\n",
    "    \n",
    "    \n",
    "try:               #Q. for 구문 안에 들어가야하는 건가요1?!?! , try,excet구문은 같은 열인가요??\n",
    "    cool = 1, 2, 3\n",
    "except IndexError as e:\n",
    "    print('none')"
   ]
  },
  {
   "cell_type": "code",
   "execution_count": 98,
   "id": "89856a92",
   "metadata": {},
   "outputs": [
    {
     "name": "stdout",
     "output_type": "stream",
     "text": [
      "1\n",
      "2\n",
      "3\n",
      "none\n",
      "none\n"
     ]
    }
   ],
   "source": [
    "# 정답\n",
    "data = [1, 2, 3]\n",
    "\n",
    "for i in range(5): #0-4\n",
    "    try:\n",
    "        cool = print(data[i])\n",
    "    except IndexError as e:\n",
    "        print('none')"
   ]
  },
  {
   "cell_type": "markdown",
   "id": "4261bd30",
   "metadata": {},
   "source": [
    "## 300 try, except, else, finally 구조 사용해보기\n",
    "파이썬 예외처리는 다음과 같은 구조를 가질 수 있습니다."
   ]
  },
  {
   "cell_type": "code",
   "execution_count": 109,
   "id": "1d37e361",
   "metadata": {},
   "outputs": [
    {
     "name": "stdout",
     "output_type": "stream",
     "text": [
      "실수입니다.\n",
      " 10.31\n",
      "수고하셨습니다\n",
      "0\n",
      "수고하셨습니다\n",
      "실수입니다.\n",
      " 8.0\n",
      "수고하셨습니다\n"
     ]
    }
   ],
   "source": [
    "per = [\"10.31\", \"\", \"8.00\"]\n",
    "\n",
    "for i in per:\n",
    "    try:\n",
    "        p = float(i)\n",
    "    except:\n",
    "        print(0)    #p=0\n",
    "    else:\n",
    "         print('실수입니다.\\n', p)  # Q. 이때 출력값을 이해하고 싶습니다!\n",
    "    finally:\n",
    "        print('수고하셨습니다')"
   ]
  }
 ],
 "metadata": {
  "kernelspec": {
   "display_name": "Python 3 (ipykernel)",
   "language": "python",
   "name": "python3"
  },
  "language_info": {
   "codemirror_mode": {
    "name": "ipython",
    "version": 3
   },
   "file_extension": ".py",
   "mimetype": "text/x-python",
   "name": "python",
   "nbconvert_exporter": "python",
   "pygments_lexer": "ipython3",
   "version": "3.11.5"
  }
 },
 "nbformat": 4,
 "nbformat_minor": 5
}
