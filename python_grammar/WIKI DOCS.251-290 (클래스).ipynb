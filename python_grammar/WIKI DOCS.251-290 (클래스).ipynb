{
 "cells": [
  {
   "cell_type": "markdown",
   "id": "52105096",
   "metadata": {},
   "source": [
    "# 11. 파이썬 클래스(251-260)"
   ]
  },
  {
   "cell_type": "code",
   "execution_count": 1,
   "id": "45443424",
   "metadata": {},
   "outputs": [],
   "source": [
    "#251 클래스, 객체, 인스턴스 ; 클래스와 객체에 대해 설명해봅시다."
   ]
  },
  {
   "cell_type": "markdown",
   "id": "cab8fd19",
   "metadata": {},
   "source": [
    "클래스는 일종의 설계도로, 하나의 타입을 정의하는 방법입니다. 클래스에는 관련있는 데이터와 함수를 한 데 모아 정의할 수 있습니다. 클래스로 만들어진결과물을 객체라고 합니다. "
   ]
  },
  {
   "cell_type": "code",
   "execution_count": 2,
   "id": "f4bb6899",
   "metadata": {},
   "outputs": [],
   "source": [
    "# 252 클래스 정의 : 비어있는 사람 (Human) 클래스를 \"정의\" 해보세요.\n",
    "\n",
    "class Human:\n",
    "    pass"
   ]
  },
  {
   "cell_type": "code",
   "execution_count": 3,
   "id": "33340689",
   "metadata": {},
   "outputs": [],
   "source": [
    "#253 인스턴스 생성\n",
    "# 사람 (Human) 클래스의 인스턴스를 \"생성\" 하고 이를 areum 변수로 바인딩해보세요.\n",
    "\n",
    "class Human:   \n",
    "    pass\n",
    "\n",
    "areum = Human()\n"
   ]
  },
  {
   "cell_type": "markdown",
   "id": "6c58c1af",
   "metadata": {},
   "source": [
    "## 254 클래스 생성자-1\n",
    "사람 (Human) 클래스에 \"응애응애\"를 출력하는 생성자를 추가하세요."
   ]
  },
  {
   "cell_type": "code",
   "execution_count": 7,
   "id": "9a915cb0",
   "metadata": {},
   "outputs": [
    {
     "name": "stdout",
     "output_type": "stream",
     "text": [
      "응애응애\n"
     ]
    }
   ],
   "source": [
    "class Human:\n",
    "    def __init__(self):        # 클래스 안에 구현된 함수는 다른 말로 메서드(method)\n",
    "        print(\"응애응애\") # 생성자(constructor)란 객체가 생성될 때 자동으로 호출되는 메서드를 의미\n",
    "areum = Human()"
   ]
  },
  {
   "cell_type": "markdown",
   "id": "eafc0997",
   "metadata": {},
   "source": [
    "## 255 클래스 생성자-2\n",
    "사람 (Human) 클래스에 (이름, 나이, 성별)을 받는 생성자를 추가하세요."
   ]
  },
  {
   "cell_type": "code",
   "execution_count": null,
   "id": "55c3fc72",
   "metadata": {},
   "outputs": [],
   "source": []
  }
 ],
 "metadata": {
  "kernelspec": {
   "display_name": "Python 3 (ipykernel)",
   "language": "python",
   "name": "python3"
  },
  "language_info": {
   "codemirror_mode": {
    "name": "ipython",
    "version": 3
   },
   "file_extension": ".py",
   "mimetype": "text/x-python",
   "name": "python",
   "nbconvert_exporter": "python",
   "pygments_lexer": "ipython3",
   "version": "3.11.5"
  }
 },
 "nbformat": 4,
 "nbformat_minor": 5
}
