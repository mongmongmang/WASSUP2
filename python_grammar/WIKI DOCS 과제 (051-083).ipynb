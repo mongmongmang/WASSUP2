{
 "cells": [
  {
   "cell_type": "markdown",
   "id": "77c95468",
   "metadata": {},
   "source": [
    "# WIKI DOCS 과제(051 ~ 100)"
   ]
  },
  {
   "cell_type": "markdown",
   "id": "557169c9",
   "metadata": {},
   "source": [
    "# [오답 정리]\n",
    "### 028 문자열은 immutable (오답)\n",
    "Q. 아래 코드의 실행 결과를 예상해보세요.\n",
    "\n",
    "> lang = 'python'  \n",
    "> lang[0] = 'P'  \n",
    "> print(lang)  "
   ]
  },
  {
   "cell_type": "code",
   "execution_count": 252,
   "id": "11cc55a6",
   "metadata": {},
   "outputs": [
    {
     "data": {
      "text/plain": [
       "'Python'"
      ]
     },
     "execution_count": 252,
     "metadata": {},
     "output_type": "execute_result"
    }
   ],
   "source": [
    "lang = 'python'\n",
    "lang.replace('p', 'P')"
   ]
  },
  {
   "cell_type": "markdown",
   "id": "de47af92",
   "metadata": {},
   "source": [
    "### 034 문자열 곱하기 (오답)\n",
    "\n",
    "변수에 다음과 같은 문자열이 바인딩되어 있습니다.\n",
    "\n",
    "> t1 = 'python'\n",
    "> \n",
    "> \n",
    "> t2 = 'java'\n",
    "> \n",
    "\n",
    "변수에 문자열 더하기와 문자열 곱하기를 사용해서 아래와 같이 출력해보세요.\n",
    "\n",
    "실행 예:python java python java python java python java"
   ]
  },
  {
   "cell_type": "code",
   "execution_count": 254,
   "id": "b1bc6466",
   "metadata": {},
   "outputs": [
    {
     "data": {
      "text/plain": [
       "'python java python java python java python java '"
      ]
     },
     "execution_count": 254,
     "metadata": {},
     "output_type": "execute_result"
    }
   ],
   "source": [
    "t1 = 'python'\n",
    "\n",
    "t2 = 'java'\n",
    "\n",
    "t3 = t1+' ' + t2 +' '\n",
    "print(t3*4)"
   ]
  },
  {
   "cell_type": "markdown",
   "id": "c2ccb6cf",
   "metadata": {},
   "source": [
    "### 035 문자열 출력(오답)\n",
    "\n",
    "변수에 다음과 같이 문자열과 정수가 바인딩되어 있을 때 % formatting을 사용해서 다음과 같이 출력해보세요.\n",
    "\n",
    "> name1 = \"김민수\"\n",
    "> \n",
    "> \n",
    "> age1 = 10\n",
    "> \n",
    "> name2 = \"이철희\"\n",
    "> \n",
    "> age2 = 13\n",
    "> \n",
    "\n",
    "> 이름: 김민수 나이: 10\n",
    "> \n",
    "> \n",
    "> 이름: 이철희 나이: 13\n",
    ">"
   ]
  },
  {
   "cell_type": "code",
   "execution_count": null,
   "id": "4e134183",
   "metadata": {},
   "outputs": [],
   "source": [
    "name1 = \"김민수\"\n",
    "\n",
    "age1 = 10\n",
    "\n",
    "name2 = \"이철희\"\n",
    "\n",
    "age2 = 13\n",
    "\n",
    "print(\"이름:%s 나이:%d\" % (name1, age1))\n",
    "print(\"이름:%s 나이:%s\" % (name2, age2))"
   ]
  },
  {
   "cell_type": "markdown",
   "id": "6b8bcaf4",
   "metadata": {},
   "source": [
    "### 036 문자열 출력 (오답)\n",
    "\n",
    "문자열의 format( ) 메서드를 사용해서 035번 문제를 다시 풀어보세요."
   ]
  },
  {
   "cell_type": "code",
   "execution_count": null,
   "id": "67269834",
   "metadata": {},
   "outputs": [],
   "source": [
    "name1 = \"김민수\"\n",
    "\n",
    "age1 = 10\n",
    "\n",
    "name2 = \"이철희\"\n",
    "\n",
    "age2 = 13\n",
    "\n",
    "print(\"이름:{0} 나이:{1}\".format(name1, age1))\n",
    "print(\"이름:{} 나이:{}\".format(name2, age2))"
   ]
  },
  {
   "cell_type": "markdown",
   "id": "c14bbda6",
   "metadata": {},
   "source": [
    "### 037 문자열 출력 (오답)\n",
    "\n",
    "파이썬 3.6부터 지원하는 f-string을 사용해서 035번 문제를 다시 풀어보세요.\n",
    "\n",
    "> f-string은 문자열 앞에 f가 붙은 형태입니다.\n",
    "> \n",
    "> \n",
    "> f-string을 사용하면 `{변수}`와 같은 형태로 문자열 사이에 타입과 상관없이 값을 출력할 수 있습니다.\n",
    ">"
   ]
  },
  {
   "cell_type": "code",
   "execution_count": null,
   "id": "d97c963a",
   "metadata": {},
   "outputs": [],
   "source": [
    "print(f\"이름:{name1} 나이:{age1}\")\n",
    "print(f\"이름:{name2} 나이:{age2}\")"
   ]
  },
  {
   "cell_type": "markdown",
   "id": "59773677",
   "metadata": {},
   "source": [
    "### 038 컴마 제거하기\n",
    "\n",
    "Q. 삼성전자의 상장주식수가 다음과 같습니다. 컴마를 제거한 후 이를 정수 타입으로 변환해보세요.\n",
    "\n",
    "상장주식수 = \"5,969,782,550\""
   ]
  },
  {
   "cell_type": "code",
   "execution_count": null,
   "id": "44eb7eef",
   "metadata": {},
   "outputs": [],
   "source": [
    "상장주식수 = \"5,969,782,550\"\n",
    "콤마제거=상장주식수.replace(',', '')\n",
    "타입변환=int(콤마제거)\n",
    "print(타입변환, type(타입변환))"
   ]
  },
  {
   "cell_type": "markdown",
   "id": "70bec83d",
   "metadata": {},
   "source": [
    "### 040 strip 메서드(오답은 아닌데, strip?)\n",
    "\n",
    "문자열의 좌우의 공백이 있을 때 이를 제거해보세요.\n",
    "\n",
    "data = \"   삼성전자    \"\n"
   ]
  },
  {
   "cell_type": "code",
   "execution_count": null,
   "id": "9ed5b13d",
   "metadata": {},
   "outputs": [],
   "source": [
    "data = \" 삼성전자 \"\n",
    "data.strip()"
   ]
  },
  {
   "cell_type": "markdown",
   "id": "35fc69d3",
   "metadata": {},
   "source": [
    "### 045 endswith 메서드 (오답:()이해안감)\n",
    "\n",
    "파일 이름이 문자열로 저장되어 있을 때 endswith 메서드를 사용해서 파일 이름이 'xlsx' 또는 'xls'로 끝나는지 확인해보세요.\n",
    "\n",
    "file_name = \"보고서.xlsx\""
   ]
  },
  {
   "cell_type": "code",
   "execution_count": null,
   "id": "ef4b193b",
   "metadata": {},
   "outputs": [],
   "source": [
    "file_name = \"보고서.xlsx\"\n",
    "file_name.endswith((\"xlsx\", \"xls\"))"
   ]
  },
  {
   "cell_type": "markdown",
   "id": "241ff571",
   "metadata": {},
   "source": [
    "--------------------------------------------------------------------------------"
   ]
  },
  {
   "cell_type": "markdown",
   "id": "d8254f81",
   "metadata": {},
   "source": [
    "## 4. 파이썬 리스트(051 ~ 060)"
   ]
  },
  {
   "cell_type": "markdown",
   "id": "debb19f6",
   "metadata": {},
   "source": [
    "### 051 리스트 생성\n",
    "2016년 11월 영화 예매 순위 기준 top3는 다음과 같습니다.  \n",
    "영화 제목을 movie_rank 이름의 리스트에 저장해보세요.  \n",
    "(순위 정보는 저장하지 않습니다.)"
   ]
  },
  {
   "cell_type": "code",
   "execution_count": null,
   "id": "1641708f",
   "metadata": {},
   "outputs": [],
   "source": [
    "movie_rank=['닥터스트레인지', '스플릿', '럭키']\n",
    "print(movie_rank)"
   ]
  },
  {
   "cell_type": "markdown",
   "id": "ea96818a",
   "metadata": {},
   "source": [
    "### 052 리스트에 원소 추가 (wrong)\n",
    "051의 movie_rank 리스트에 \"배트맨\"을 추가하라."
   ]
  },
  {
   "cell_type": "code",
   "execution_count": null,
   "id": "05b320c9",
   "metadata": {},
   "outputs": [],
   "source": [
    "movie_rank=['닥터스트레인지', '스플릿', '럭키']\n",
    "movie_rank.append('배트맨')\n",
    "print(movie_rank)"
   ]
  },
  {
   "cell_type": "markdown",
   "id": "22ca75ae",
   "metadata": {},
   "source": [
    "### 053 (wrong)\n",
    "movie_rank 리스트에는 아래와 같이 네 개의 영화 제목이 바인딩되어 있다. \"슈퍼맨\"을 \"닥터 스트레인지\"와 \"스플릿\" 사이에 추가하라."
   ]
  },
  {
   "cell_type": "code",
   "execution_count": null,
   "id": "d77fe550",
   "metadata": {},
   "outputs": [],
   "source": [
    "movie_rank=['닥터스트레인지', '스플릿', '럭키']\n",
    "movie_rank.append('배트맨')\n",
    "movie_rank.insert[1](슈퍼맨)\n",
    "print(movie_rank)"
   ]
  },
  {
   "cell_type": "markdown",
   "id": "4601b8b6",
   "metadata": {},
   "source": [
    "### 054 (wrong)\n",
    "movie_rank 리스트에서 '럭키'를 삭제하라. del사용"
   ]
  },
  {
   "cell_type": "code",
   "execution_count": null,
   "id": "238f162f",
   "metadata": {},
   "outputs": [],
   "source": [
    "movie_rank=['닥터스트레인지', '스플릿', '럭키', '배트맨']\n",
    "del movie_rank[2]\n",
    "print(movie_rank)"
   ]
  },
  {
   "cell_type": "markdown",
   "id": "5be280a9",
   "metadata": {},
   "source": [
    "### 055\n",
    "movie_rank 리스트에서 '스플릿' 과 '배트맨'을 를 삭제하라."
   ]
  },
  {
   "cell_type": "code",
   "execution_count": null,
   "id": "099bb2e5",
   "metadata": {},
   "outputs": [],
   "source": [
    "movie_rank=['닥터스트레인지', '스플릿', '럭키', '배트맨']\n",
    "movie_rank.remove('스플릿')\n",
    "movie_rank.remove('배트맨')\n",
    "print(movie_rank)"
   ]
  },
  {
   "cell_type": "markdown",
   "id": "cceb8cf6",
   "metadata": {},
   "source": [
    "### 056(wrong이라기보다는 왜 선언을 먼저하는가!)\n",
    "lang1과 lang2 리스트가 있을 때 lang1과 lang2의 원소를 모두 갖고 있는 langs 리스트를 만들어라"
   ]
  },
  {
   "cell_type": "code",
   "execution_count": null,
   "id": "ded8b2ce",
   "metadata": {},
   "outputs": [],
   "source": [
    "lang1 = [\"C\", \"C++\", \"JAVA\"]\n",
    "lang2 = [\"Python\", \"Go\", \"C#\"]\n",
    "lang3 = lang1 + lang2\n",
    "print(lang3)"
   ]
  },
  {
   "cell_type": "markdown",
   "id": "c475dbf0",
   "metadata": {},
   "source": [
    "### 057(wrong)\n",
    "다음 리스트에서 최댓값과 최솟값을 출력하라. (힌트: min(), max() 함수 사용)  \n",
    "nums = [1, 2, 3, 4, 5, 6, 7]\n"
   ]
  },
  {
   "cell_type": "code",
   "execution_count": null,
   "id": "7a2d0178",
   "metadata": {},
   "outputs": [],
   "source": [
    "nums = [1, 2, 3, 4, 5, 6, 7]\n",
    "print(f'MAX : {max(nums)}, MIN : {min(nums)}')"
   ]
  },
  {
   "cell_type": "code",
   "execution_count": null,
   "id": "a2804574",
   "metadata": {},
   "outputs": [],
   "source": [
    "nums = [1, 2, 3, 4, 5, 6, 7]\n",
    "print('MAX : ', max(nums))\n",
    "print('MIN : ', min(nums))"
   ]
  },
  {
   "cell_type": "markdown",
   "id": "cca443b1",
   "metadata": {},
   "source": [
    "058\n",
    "다음 리스트의 합을 출력하라.\n",
    "\n",
    "nums = [1, 2, 3, 4, 5]"
   ]
  },
  {
   "cell_type": "code",
   "execution_count": null,
   "id": "7dc806d2",
   "metadata": {},
   "outputs": [],
   "source": [
    "nums = [1, 2, 3, 4, 5]\n",
    "sum(nums)"
   ]
  },
  {
   "cell_type": "markdown",
   "id": "b4690054",
   "metadata": {},
   "source": [
    "059 (wrong)  \n",
    "다음 리스트에 저장된 데이터의 개수를 화면에 구하하라.  \n",
    "\n",
    "cook = [\"피자\", \"김밥\", \"만두\", \"양념치킨\", \"족발\", \"피자\", \"김치만두\", \"쫄면\", \"소시지\", \"라면\", \"팥빙수\", \"김치전\"]\n"
   ]
  },
  {
   "cell_type": "code",
   "execution_count": null,
   "id": "cd41e0fa",
   "metadata": {},
   "outputs": [],
   "source": [
    "cook = [\"피자\", \"김밥\", \"만두\", \"양념치킨\", \"족발\", \"피자\", \"김치만두\", \"쫄면\", \"소시지\", \"라면\", \"팥빙수\", \"김치전\"]\n",
    "len(cook)"
   ]
  },
  {
   "cell_type": "markdown",
   "id": "8c3c8365",
   "metadata": {},
   "source": [
    "060\n",
    "다음 리스트의 평균을 출력하라.\n",
    "\n",
    "nums = [1, 2, 3, 4, 5]"
   ]
  },
  {
   "cell_type": "code",
   "execution_count": null,
   "id": "bd5545da",
   "metadata": {},
   "outputs": [],
   "source": [
    "nums = [1, 2, 3, 4, 5]\n",
    "aver=sum(nums) / len(nums)\n",
    "print(aver)"
   ]
  },
  {
   "cell_type": "markdown",
   "id": "46a0d2cc",
   "metadata": {},
   "source": [
    "### 061(정답)\n",
    "price 변수에는 날짜와 종가 정보가 저장돼 있다. 날짜 정보를 제외하고 가격 정보만을 출력하라. (힌트 : 슬라이싱)  \n",
    "price = ['20180728', 100, 130, 140, 150, 160, 170]\n",
    "\n"
   ]
  },
  {
   "cell_type": "code",
   "execution_count": null,
   "id": "2554c086",
   "metadata": {},
   "outputs": [],
   "source": [
    "price = ['20180728', 100, 130, 140, 150, 160, 170]\n",
    "price [1:]"
   ]
  },
  {
   "cell_type": "markdown",
   "id": "45650ed4",
   "metadata": {},
   "source": [
    "### 062\n",
    "슬라이싱을 사용해서 홀수만 출력하라.\n"
   ]
  },
  {
   "cell_type": "code",
   "execution_count": null,
   "id": "c51f7741",
   "metadata": {},
   "outputs": [],
   "source": [
    "nums = [1, 2, 3, 4, 5, 6, 7, 8, 9, 10]\n",
    "nums [::2]"
   ]
  },
  {
   "cell_type": "markdown",
   "id": "f16d0410",
   "metadata": {},
   "source": [
    "### 063\n",
    "슬라이싱을 사용해서 짝수만 출력하라.  \n",
    "nums = [1, 2, 3, 4, 5, 6, 7, 8, 9, 10]\n"
   ]
  },
  {
   "cell_type": "code",
   "execution_count": null,
   "id": "6dbd23fb",
   "metadata": {},
   "outputs": [],
   "source": [
    "nums = [1, 2, 3, 4, 5, 6, 7, 8, 9, 10]\n",
    "print(nums [1::2])"
   ]
  },
  {
   "cell_type": "markdown",
   "id": "e15a165c",
   "metadata": {},
   "source": [
    "### 064 (wrong)\n",
    "슬라이싱을 사용해서 리스트의 숫자를 역 방향으로 출력하라.  \n",
    "nums = [1, 2, 3, 4, 5]\n"
   ]
  },
  {
   "cell_type": "code",
   "execution_count": null,
   "id": "e230c68d",
   "metadata": {},
   "outputs": [],
   "source": [
    "nums = [1, 2, 3, 4, 5]\n",
    "# print(nums [:-1])  이건 인덱스 표시일뿐, 역순 출력이 아님 -> 0~끝까지 출력\n",
    "nums.reverse()\n",
    "print(nums)"
   ]
  },
  {
   "cell_type": "markdown",
   "id": "50ea09f0",
   "metadata": {},
   "source": [
    "### 065(wrong-warning)\n",
    "interest 리스트에는 아래의 데이터가 바인딩되어 있다.\n",
    "\n",
    "interest = ['삼성전자', 'LG전자', 'Naver']  \n",
    "interest 리스트를 사용하여 아래와 같이 화면에 출력하라.  \n",
    "출력 예시:\n",
    "삼성전자 Naver"
   ]
  },
  {
   "cell_type": "code",
   "execution_count": null,
   "id": "00cf2852",
   "metadata": {},
   "outputs": [],
   "source": [
    "interest = ['삼성전자', 'LG전자', 'Naver']\n",
    "print(interest [0], interest[-1])"
   ]
  },
  {
   "cell_type": "markdown",
   "id": "ae4fef89",
   "metadata": {},
   "source": [
    "### 066 join 메서드 (wrong-misunderstand)\n",
    "Q. join 메서드 사용법  \n",
    "Q. 그냥하면 리스트 형태로 [] '' 가 나오는데 \" \", .join?  \n",
    "Q. \" \".join(interest)  #근데 왜 리스트 형태[]이 기호가 사라지지??????"
   ]
  },
  {
   "cell_type": "markdown",
   "id": "5d5b5e8d",
   "metadata": {},
   "source": [
    "\n",
    "interest 리스트에는 아래의 데이터가 바인딩되어 있다.  \n",
    "\n",
    "interest = ['삼성전자', 'LG전자', 'Naver', 'SK하이닉스', '미래에셋대우']  \n",
    "interest 리스트를 사용하여 아래와 같이 화면에 출력하라.  \n",
    "\n",
    "출력 예시:  \n",
    "삼성전자 LG전자 Naver SK하이닉스 미래에셋대우  "
   ]
  },
  {
   "cell_type": "code",
   "execution_count": null,
   "id": "5aa3b798",
   "metadata": {},
   "outputs": [],
   "source": [
    "interest = ['삼성전자', 'LG전자', 'Naver', 'SK하이닉스', '미래에셋대우']\n",
    "print(interest) #interest와 동일"
   ]
  },
  {
   "cell_type": "code",
   "execution_count": null,
   "id": "abb59fc5",
   "metadata": {},
   "outputs": [],
   "source": [
    "\" \".join(interest)  #근데 왜 리스트 형태[]이 기호가 사라지지??????"
   ]
  },
  {
   "cell_type": "code",
   "execution_count": null,
   "id": "6c2cd62e",
   "metadata": {},
   "outputs": [],
   "source": [
    "print(\" \".join(interest))"
   ]
  },
  {
   "cell_type": "markdown",
   "id": "16745ba5",
   "metadata": {},
   "source": [
    "### 067 join 메서드(wrong-misunderstand)\n",
    "Q. ,이건 요소를 나누기 위함이지 요소가 아니네! replace가 적용이 안되지!\n",
    "\n",
    "interest 리스트에는 아래의 데이터가 바인딩되어 있다.\n",
    "\n",
    "interest = ['삼성전자', 'LG전자', 'Naver', 'SK하이닉스', '미래에셋대우']  \n",
    "interest 리스트를 사용하여 아래와 같이 화면에 출력하라.\n",
    "\n",
    "출력 예시:\n",
    "삼성전자/LG전자/Naver/SK하이닉스/미래에셋대우"
   ]
  },
  {
   "cell_type": "code",
   "execution_count": null,
   "id": "4b621d7c",
   "metadata": {},
   "outputs": [],
   "source": [
    "interest = ['삼성전자', 'LG전자', 'Naver', 'SK하이닉스', '미래에셋대우']\n",
    "print('/'.join(interest))"
   ]
  },
  {
   "cell_type": "markdown",
   "id": "6f595252",
   "metadata": {},
   "source": [
    "### 068 join 메서드 (wrong-misunderstand)\n",
    "interest 리스트에는 아래의 데이터가 바인딩되어 있다.\n",
    "\n",
    "interest = ['삼성전자', 'LG전자', 'Naver', 'SK하이닉스', '미래에셋대우']\n",
    "join() 메서드를 사용해서 interest 리스트를 아래와 같이 화면에 출력하라.\n",
    "\n",
    "출력 예시:\n",
    "삼성전자  \n",
    "LG전자  \n",
    "Naver  \n",
    "SK하이닉스  \n",
    "미래에셋대우  "
   ]
  },
  {
   "cell_type": "code",
   "execution_count": null,
   "id": "b099f7b9",
   "metadata": {},
   "outputs": [],
   "source": [
    "interest = ['삼성전자', 'LG전자', 'Naver', 'SK하이닉스', '미래에셋대우'] \n",
    "print('\\n'.join(interest))  #print안하면 왜 인식 이상해?"
   ]
  },
  {
   "cell_type": "markdown",
   "id": "71558a08",
   "metadata": {},
   "source": [
    "### 069 문자열 split 메서드 (wrong-warning)\n",
    "회사 이름이 슬래시 ('/')로 구분되어 하나의 문자열로 저장되어 있다.  \n",
    "\n",
    "string = \"삼성전자/LG전자/Naver\"  \n",
    "이를 interest 이름의 리스트로 분리 저장하라.  \n",
    "\n",
    "실행 예시  \n",
    " print(interest)  \n",
    "['삼성전자', 'LG전자', 'Naver']  "
   ]
  },
  {
   "cell_type": "code",
   "execution_count": null,
   "id": "58b88ecc",
   "metadata": {},
   "outputs": [],
   "source": [
    "string = \"삼성전자/LG전자/Naver\"\n",
    "interest=string.split('/')\n",
    "print(interest)"
   ]
  },
  {
   "cell_type": "markdown",
   "id": "4530396b",
   "metadata": {},
   "source": [
    "### 070 리스트 정렬\n",
    "리스트에 있는 값을 오름차순으로 정렬하세요.\n",
    "\n",
    "data = [2, 4, 3, 1, 5, 10, 9]"
   ]
  },
  {
   "cell_type": "code",
   "execution_count": null,
   "id": "6279d58f",
   "metadata": {},
   "outputs": [],
   "source": [
    "data = [2, 4, 3, 1, 5, 10, 9]\n",
    "data.sort()\n",
    "print(data)"
   ]
  },
  {
   "cell_type": "code",
   "execution_count": null,
   "id": "c1451a81",
   "metadata": {},
   "outputs": [],
   "source": [
    "data = [2, 4, 3, 1, 5, 10, 9]\n",
    "data2 = sorted(data)\n",
    "print(data2)\n"
   ]
  },
  {
   "cell_type": "markdown",
   "id": "b370fa27",
   "metadata": {},
   "source": [
    "### 071\n",
    "my_variable 이름의 비어있는 튜플을 만들라."
   ]
  },
  {
   "cell_type": "code",
   "execution_count": null,
   "id": "b1ff2e85",
   "metadata": {},
   "outputs": [],
   "source": [
    "my_variable = ()\n",
    "print(my_variable, type(my_variable))"
   ]
  },
  {
   "cell_type": "markdown",
   "id": "d882e720",
   "metadata": {},
   "source": [
    "### 072\n",
    "2016년 11월 영화 예매 순위 기준 top3는 다음과 같다.  영화 제목을 movie_rank 이름의 튜플에 저장하라. (순위 정보는 저장하지 않는다.)\n",
    "\n",
    "순위\t영화\n",
    "1\t닥터 스트레인지\n",
    "2\t스플릿\n",
    "3\t럭키"
   ]
  },
  {
   "cell_type": "code",
   "execution_count": null,
   "id": "833b0991",
   "metadata": {},
   "outputs": [],
   "source": [
    "movie_rank = ('닥터 스트레인지', '스플릿', '럭키')\n",
    "print(movie_rank, type(movie_rank))"
   ]
  },
  {
   "cell_type": "markdown",
   "id": "3fe2af30",
   "metadata": {},
   "source": [
    "### 073  \n",
    "숫자 1 이 저장된 튜플을 생성하라."
   ]
  },
  {
   "cell_type": "code",
   "execution_count": null,
   "id": "9d175992",
   "metadata": {},
   "outputs": [],
   "source": [
    "t1 = (1, )\n",
    "print(t1, type(t1))"
   ]
  },
  {
   "cell_type": "markdown",
   "id": "856d65f2",
   "metadata": {},
   "source": [
    "### 074\n",
    "다음 코드를 실행해보고 오류가 발생하는 원인을 설명하라.  \n",
    "\n",
    "> t = (1, 2, 3)  \n",
    "> t[0] = 'a'  \n"
   ]
  },
  {
   "cell_type": "code",
   "execution_count": 255,
   "id": "0c24180f",
   "metadata": {},
   "outputs": [
    {
     "ename": "TypeError",
     "evalue": "'tuple' object does not support item assignment",
     "output_type": "error",
     "traceback": [
      "\u001b[1;31m---------------------------------------------------------------------------\u001b[0m",
      "\u001b[1;31mTypeError\u001b[0m                                 Traceback (most recent call last)",
      "Cell \u001b[1;32mIn[255], line 2\u001b[0m\n\u001b[0;32m      1\u001b[0m t \u001b[38;5;241m=\u001b[39m (\u001b[38;5;241m1\u001b[39m, \u001b[38;5;241m2\u001b[39m, \u001b[38;5;241m3\u001b[39m)\n\u001b[1;32m----> 2\u001b[0m t[\u001b[38;5;241m0\u001b[39m] \u001b[38;5;241m=\u001b[39m \u001b[38;5;124m'\u001b[39m\u001b[38;5;124ma\u001b[39m\u001b[38;5;124m'\u001b[39m\n",
      "\u001b[1;31mTypeError\u001b[0m: 'tuple' object does not support item assignment"
     ]
    }
   ],
   "source": [
    "t = (1, 2, 3)\n",
    "t[0] = 'a'"
   ]
  },
  {
   "cell_type": "markdown",
   "id": "c043cc38",
   "metadata": {},
   "source": [
    "A. 튜플은 immutable 객체거든요. 원고 값 변경이 불가하거든요"
   ]
  },
  {
   "cell_type": "markdown",
   "id": "170d5383",
   "metadata": {},
   "source": [
    "### 075\n",
    "아래와 같이 t에는 1, 2, 3, 4 데이터가 바인딩되어 있다. t가 바인딩하는 데이터 타입은 무엇인가?  \n",
    "\n",
    "t = 1, 2, 3, 4"
   ]
  },
  {
   "cell_type": "code",
   "execution_count": null,
   "id": "66e1f9e3",
   "metadata": {},
   "outputs": [],
   "source": [
    "t = 1, 2, 3, 4\n",
    "print(t, type(t))"
   ]
  },
  {
   "cell_type": "markdown",
   "id": "7b3cdf13",
   "metadata": {},
   "source": [
    "### 076\n",
    "변수 t에는 아래와 같은 값이 저장되어 있다. 변수 t가 ('A', 'b', 'c') 튜플을 가리키도록 수정 하라.\n",
    "\n",
    "t = ('a', 'b', 'c')"
   ]
  },
  {
   "cell_type": "code",
   "execution_count": null,
   "id": "692120d8",
   "metadata": {},
   "outputs": [],
   "source": [
    "t = ('a', 'b', 'c')\n",
    "t=str(t)\n",
    "t=t.upper()\n",
    "print(t, type(t))"
   ]
  },
  {
   "cell_type": "code",
   "execution_count": 257,
   "id": "3f1a08df",
   "metadata": {},
   "outputs": [
    {
     "data": {
      "text/plain": [
       "('A', 'B', 'C')"
      ]
     },
     "execution_count": 257,
     "metadata": {},
     "output_type": "execute_result"
    }
   ],
   "source": [
    "t = ('a', 'b', 'c')\n",
    "t=('A', 'B', 'C')\n",
    "print(t)"
   ]
  },
  {
   "cell_type": "markdown",
   "id": "b0952abd",
   "metadata": {},
   "source": [
    "077\n",
    "다음 튜플을 리스트로 변환하라.\n",
    "\n",
    "interest = ('삼성전자', 'LG전자', 'SK Hynix')"
   ]
  },
  {
   "cell_type": "code",
   "execution_count": null,
   "id": "6310bd95",
   "metadata": {},
   "outputs": [],
   "source": [
    "interest = ('삼성전자', 'LG전자', 'SK Hynix')\n",
    "interest = list(interest)\n",
    "print(interest, type(interest))"
   ]
  },
  {
   "cell_type": "code",
   "execution_count": null,
   "id": "c6289852",
   "metadata": {},
   "outputs": [],
   "source": [
    "interest = ('삼성전자', 'LG전자', 'SK Hynix')\n",
    "data=list(interest)\n",
    "print(data, type(data))"
   ]
  },
  {
   "cell_type": "markdown",
   "id": "3d366d0e",
   "metadata": {},
   "source": [
    "078\n",
    "다음 리스트를 튜플로 변경하라.\n",
    "\n",
    "interest = ['삼성전자', 'LG전자', 'SK Hynix']"
   ]
  },
  {
   "cell_type": "code",
   "execution_count": null,
   "id": "5c226832",
   "metadata": {},
   "outputs": [],
   "source": [
    "interest = ['삼성전자', 'LG전자', 'SK Hynix']\n",
    "data=list(interest)\n",
    "data, type(data)"
   ]
  },
  {
   "cell_type": "markdown",
   "id": "61141381",
   "metadata": {},
   "source": [
    "### 079 튜플 언팩킹 (wrong)  \n",
    "다음 코드의 실행 결과를 예상하라.  \n",
    "\n",
    "temp = ('apple', 'banana', 'cake')  \n",
    "a, b, c = temp  \n",
    "print(a, b, c)  "
   ]
  },
  {
   "cell_type": "markdown",
   "id": "ceca491b",
   "metadata": {},
   "source": [
    "A. ('apple', 'banana', 'cake')\n",
    "\n"
   ]
  },
  {
   "cell_type": "code",
   "execution_count": 259,
   "id": "d2c19abe",
   "metadata": {},
   "outputs": [
    {
     "ename": "TypeError",
     "evalue": "'tuple' object is not callable",
     "output_type": "error",
     "traceback": [
      "\u001b[1;31m---------------------------------------------------------------------------\u001b[0m",
      "\u001b[1;31mTypeError\u001b[0m                                 Traceback (most recent call last)",
      "Cell \u001b[1;32mIn[259], line 3\u001b[0m\n\u001b[0;32m      1\u001b[0m temp \u001b[38;5;241m=\u001b[39m (\u001b[38;5;124m'\u001b[39m\u001b[38;5;124mapple\u001b[39m\u001b[38;5;124m'\u001b[39m, \u001b[38;5;124m'\u001b[39m\u001b[38;5;124mbanana\u001b[39m\u001b[38;5;124m'\u001b[39m, \u001b[38;5;124m'\u001b[39m\u001b[38;5;124mcake\u001b[39m\u001b[38;5;124m'\u001b[39m)  \n\u001b[0;32m      2\u001b[0m a, b, c \u001b[38;5;241m=\u001b[39m temp  \n\u001b[1;32m----> 3\u001b[0m \u001b[38;5;28mprint\u001b[39m(a, b, c)\n",
      "\u001b[1;31mTypeError\u001b[0m: 'tuple' object is not callable"
     ]
    }
   ],
   "source": [
    "temp = ('apple', 'banana', 'cake')  \n",
    "a, b, c = temp  \n",
    "print(a, b, c)  "
   ]
  },
  {
   "cell_type": "code",
   "execution_count": 260,
   "id": "779da358",
   "metadata": {},
   "outputs": [
    {
     "ename": "TypeError",
     "evalue": "'tuple' object is not callable",
     "output_type": "error",
     "traceback": [
      "\u001b[1;31m---------------------------------------------------------------------------\u001b[0m",
      "\u001b[1;31mTypeError\u001b[0m                                 Traceback (most recent call last)",
      "Cell \u001b[1;32mIn[260], line 1\u001b[0m\n\u001b[1;32m----> 1\u001b[0m \u001b[38;5;28mprint\u001b[39m(a)\n\u001b[0;32m      2\u001b[0m \u001b[38;5;28mprint\u001b[39m(b)\n",
      "\u001b[1;31mTypeError\u001b[0m: 'tuple' object is not callable"
     ]
    }
   ],
   "source": [
    "print(a)\n",
    "print(b)"
   ]
  },
  {
   "cell_type": "markdown",
   "id": "fe02b0e7",
   "metadata": {},
   "source": [
    "### 080 range 함수 (wrong-mis) Q. 왜 print 안돼?왜?\n",
    "1 부터 99까지의 정수 중 짝수만 저장된 튜플을 생성하라.\n",
    "\n",
    "(2, 4, 6, 8 ... 98)"
   ]
  },
  {
   "cell_type": "code",
   "execution_count": null,
   "id": "567311ec",
   "metadata": {},
   "outputs": [],
   "source": [
    "t = (2, 4, 6, 8, ... ,98)\n",
    "t"
   ]
  },
  {
   "cell_type": "code",
   "execution_count": null,
   "id": "67dc15fb",
   "metadata": {},
   "outputs": [],
   "source": [
    "data = tuple(range(2, 100, 2))\n",
    "print(data)"
   ]
  },
  {
   "cell_type": "markdown",
   "id": "362c662e",
   "metadata": {},
   "source": [
    "### 081 별 표현식 (wrong) \n",
    "기본적으로 데이터 언패킹은 좌변의 변수와 우변 데이터 개수가 같아야 합니다. 하지만 star expression을 사용하면 변수의 개수가 달라도 데이터 언패킹을 할 수 있습니다. 튜플에 저장된 데이터 중에서 앞에 있는 두 개의 데이터만 필요할 경우 나머지 데이터의 언패킹 코드를 작성할 필요가 없습니다.  \n",
    "\n",
    ">> a, b, *c = (0, 1, 2, 3, 4, 5)  \n",
    ">> a  \n",
    "0  \n",
    ">> b  \n",
    "1  \n",
    ">> c  \n",
    "[2, 3, 4, 5]  \n",
    "다음과 같이 10개의 값이 저장된 scores 리스트가 있을 때, start expression을 사용하여 좌측 8개의 값을 valid_score 변수에 바인딩하여라.  \n",
    "\n",
    "scores = [8.8, 8.9, 8.7, 9.2, 9.3, 9.7, 9.9, 9.5, 7.8, 9.4]  "
   ]
  },
  {
   "cell_type": "code",
   "execution_count": 258,
   "id": "e57c4ccd",
   "metadata": {},
   "outputs": [
    {
     "data": {
      "text/plain": [
       "[8.8, 8.9, 8.7, 9.2, 9.3, 9.7, 9.9, 9.5]"
      ]
     },
     "execution_count": 258,
     "metadata": {},
     "output_type": "execute_result"
    }
   ],
   "source": [
    "scores = [8.8, 8.9, 8.7, 9.2, 9.3, 9.7, 9.9, 9.5, 7.8, 9.4]\n",
    "*valid_score, _, _ = scores\n",
    "valid_score"
   ]
  },
  {
   "cell_type": "markdown",
   "id": "aa2750ad",
   "metadata": {},
   "source": [
    "### 082\n",
    "다음과 같이 10개의 값이 저장된 scores 리스트가 있을 때, start expression을 사용하여 우측 8개의 값을 valid_score 변수에 바인딩하여라.\n",
    "\n",
    "scores = [8.8, 8.9, 8.7, 9.2, 9.3, 9.7, 9.9, 9.5, 7.8, 9.4]"
   ]
  },
  {
   "cell_type": "code",
   "execution_count": null,
   "id": "57e798ab",
   "metadata": {},
   "outputs": [],
   "source": [
    "scores = [8.8, 8.9, 8.7, 9.2, 9.3, 9.7, 9.9, 9.5, 7.8, 9.4]\n",
    "_,_, *valid_score =scores\n",
    "valid_score"
   ]
  },
  {
   "cell_type": "markdown",
   "id": "b30670fc",
   "metadata": {},
   "source": [
    "### 083\n",
    "다음과 같이 10개의 값이 저장된 scores 리스트가 있을 때, start expression을 사용하여 가운데 있는 8개의 값을 valid_score 변수에 바인딩하여라.\n",
    "\n",
    "scores = [8.8, 8.9, 8.7, 9.2, 9.3, 9.7, 9.9, 9.5, 7.8, 9.4]"
   ]
  },
  {
   "cell_type": "code",
   "execution_count": null,
   "id": "231aa01d",
   "metadata": {},
   "outputs": [],
   "source": [
    "scores = [8.8, 8.9, 8.7, 9.2, 9.3, 9.7, 9.9, 9.5, 7.8, 9.4]\n",
    "_,*valid_score,_ =scores\n",
    "valid_score"
   ]
  },
  {
   "cell_type": "markdown",
   "id": "df1d6a4e",
   "metadata": {},
   "source": [
    "### 084 비어있는 딕셔너리 (wrong) Q. dict은 print쓰면안되니??\n",
    "temp 이름의 비어있는 딕셔너리를 만들라."
   ]
  },
  {
   "cell_type": "code",
   "execution_count": null,
   "id": "c4e48e77",
   "metadata": {},
   "outputs": [],
   "source": [
    "temp = {}\n",
    "temp, type(temp)"
   ]
  },
  {
   "cell_type": "markdown",
   "id": "37e3bf43",
   "metadata": {},
   "source": [
    "### 085\n",
    "다음 아이스크림 이름과 희망 가격을 딕셔너리로 구성하라.\n",
    "\n",
    "이름\t희망 가격\n",
    "메로나\t1000\n",
    "폴라포\t1200\n",
    "빵빠레\t1800\n"
   ]
  },
  {
   "cell_type": "code",
   "execution_count": null,
   "id": "2cb25c74",
   "metadata": {},
   "outputs": [],
   "source": [
    "ice_price=0"
   ]
  },
  {
   "cell_type": "code",
   "execution_count": null,
   "id": "458ef1fe",
   "metadata": {
    "scrolled": true
   },
   "outputs": [],
   "source": [
    "ice_price= {\"메로나\": 1000, \"폴라포\": 1200, \"빵빠레\": 1800}"
   ]
  },
  {
   "cell_type": "code",
   "execution_count": null,
   "id": "550908bd",
   "metadata": {},
   "outputs": [],
   "source": [
    "ice_price"
   ]
  },
  {
   "cell_type": "code",
   "execution_count": null,
   "id": "4b5d4c7d",
   "metadata": {},
   "outputs": [],
   "source": [
    "print(ice_price)"
   ]
  },
  {
   "cell_type": "markdown",
   "id": "2d4e2ecc",
   "metadata": {},
   "source": [
    "### 087\n",
    "다음 딕셔너리를 사용하여 메로나 가격을 출력하라.\n",
    "\n",
    "ice = {'메로나': 1000,\n",
    "       '폴로포': 1200,\n",
    "       '빵빠레': 1800,\n",
    "       '죠스바': 1200,\n",
    "       '월드콘': 1500}\n",
    "실행 예:\n",
    "메로나 가격: 1000"
   ]
  },
  {
   "cell_type": "code",
   "execution_count": null,
   "id": "77a164c2",
   "metadata": {},
   "outputs": [],
   "source": [
    "ice = {'메로나': 1000, '폴로포': 1200, '빵빠레': 1800, '죠스바': 1200, '월드콘': 1500}\n",
    "print('메로나_가격:', ice['메로나'])     "
   ]
  },
  {
   "cell_type": "code",
   "execution_count": null,
   "id": "d0554e50",
   "metadata": {},
   "outputs": [],
   "source": []
  }
 ],
 "metadata": {
  "kernelspec": {
   "display_name": "Python 3 (ipykernel)",
   "language": "python",
   "name": "python3"
  },
  "language_info": {
   "codemirror_mode": {
    "name": "ipython",
    "version": 3
   },
   "file_extension": ".py",
   "mimetype": "text/x-python",
   "name": "python",
   "nbconvert_exporter": "python",
   "pygments_lexer": "ipython3",
   "version": "3.11.5"
  }
 },
 "nbformat": 4,
 "nbformat_minor": 5
}
